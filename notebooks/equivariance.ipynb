{
 "cells": [
  {
   "attachments": {},
   "cell_type": "markdown",
   "metadata": {},
   "source": [
    "# Check Equivariance and Invariance"
   ]
  },
  {
   "cell_type": "code",
   "execution_count": 1,
   "metadata": {},
   "outputs": [],
   "source": [
    "import sys\n",
    "sys.path.append(\"..\")"
   ]
  },
  {
   "cell_type": "code",
   "execution_count": 2,
   "metadata": {},
   "outputs": [],
   "source": [
    "import torch\n",
    "import numpy as np"
   ]
  },
  {
   "cell_type": "code",
   "execution_count": 7,
   "metadata": {},
   "outputs": [],
   "source": [
    "import fegnn.util.functional as smolF\n",
    "from fegnn.models.egnn import ImprovedEgnnLayer, EgnnDynamics, CoordNorm"
   ]
  },
  {
   "cell_type": "code",
   "execution_count": 4,
   "metadata": {},
   "outputs": [],
   "source": [
    "def gen_fake_data(n_atoms: list[int], d_model: int, n_coord_sets: int):\n",
    "    coords = []\n",
    "    feats = []\n",
    "    masks = []\n",
    "\n",
    "    for n in n_atoms:\n",
    "        coords.append(torch.randn((n, n_coord_sets, 3)))\n",
    "        feats.append(torch.randn((n, d_model)))\n",
    "        masks.append(torch.ones(n))\n",
    "\n",
    "    coords = smolF.pad_tensors(coords).transpose(1, 2)\n",
    "    feats = smolF.pad_tensors(feats)\n",
    "    mask = smolF.pad_tensors(masks)\n",
    "    adj_matrix = smolF.adj_from_node_mask(mask)\n",
    "    mask = mask.unsqueeze(1).expand(-1, n_coord_sets, -1)\n",
    "\n",
    "    return coords, feats, adj_matrix, mask"
   ]
  },
  {
   "cell_type": "code",
   "execution_count": 5,
   "metadata": {},
   "outputs": [],
   "source": [
    "def mae(t1, t2):\n",
    "    err = torch.abs(t1 - t2)\n",
    "    return err.mean()"
   ]
  },
  {
   "cell_type": "code",
   "execution_count": 6,
   "metadata": {},
   "outputs": [],
   "source": [
    "def is_equal(t1, t2, eps=1e-5):\n",
    "        err = torch.abs(t1 - t2)\n",
    "        equal = err < eps\n",
    "        return equal"
   ]
  },
  {
   "cell_type": "code",
   "execution_count": 8,
   "metadata": {},
   "outputs": [],
   "source": [
    "d_model = 256\n",
    "d_edge = 128\n",
    "n_coord_sets = 64\n",
    "edge_attention = \"pairwise\"\n",
    "coord_attn_clamp = \"tanh\""
   ]
  },
  {
   "attachments": {},
   "cell_type": "markdown",
   "metadata": {},
   "source": [
    "### Test Equivariance of CoordNorm Layers"
   ]
  },
  {
   "cell_type": "code",
   "execution_count": 9,
   "metadata": {},
   "outputs": [
    {
     "name": "stdout",
     "output_type": "stream",
     "text": [
      "coords torch.Size([6, 64, 33, 3])\n",
      "feats torch.Size([6, 33, 256])\n",
      "adj torch.Size([6, 33, 33])\n",
      "mask torch.Size([6, 64, 33])\n"
     ]
    }
   ],
   "source": [
    "# Generate some fake data\n",
    "\n",
    "n_atoms = [12, 33, 9, 17, 24, 5]\n",
    "coords, feats, adj, mask = gen_fake_data(n_atoms, d_model, n_coord_sets)\n",
    "\n",
    "coords = smolF.zero_com(coords, mask)\n",
    "coords = coords * mask.unsqueeze(-1)\n",
    "\n",
    "print(\"coords\", coords.shape)\n",
    "print(\"feats\", feats.shape)\n",
    "print(\"adj\", adj.shape)\n",
    "print(\"mask\", mask.shape)"
   ]
  },
  {
   "cell_type": "code",
   "execution_count": 10,
   "metadata": {},
   "outputs": [],
   "source": [
    "norm = CoordNorm(n_coord_sets, mlp_scale=False)\n",
    "norm_w_mlp = CoordNorm(n_coord_sets, mlp_scale=True)"
   ]
  },
  {
   "cell_type": "code",
   "execution_count": 11,
   "metadata": {},
   "outputs": [],
   "source": [
    "# Apply random shift\n",
    "\n",
    "shift = torch.rand((len(n_atoms), n_coord_sets, max(n_atoms), 3))\n",
    "shifted = coords + shift"
   ]
  },
  {
   "cell_type": "code",
   "execution_count": 12,
   "metadata": {},
   "outputs": [],
   "source": [
    "coord_norm_out = norm(coords, mask)\n",
    "shifted_norm_out = norm(shifted, mask)\n",
    "\n",
    "coord_norm_mlp_out = norm_w_mlp(coords, mask)\n",
    "shifted_norm_mlp_out = norm_w_mlp(shifted, mask)"
   ]
  },
  {
   "cell_type": "code",
   "execution_count": 20,
   "metadata": {},
   "outputs": [],
   "source": [
    "coord_norm_com = smolF.calc_com(coord_norm_out, mask).mean()\n",
    "shifted_norm_com = smolF.calc_com(shifted_norm_out, mask).mean()\n",
    "coord_norm_mlp_com = smolF.calc_com(coord_norm_mlp_out, mask).mean()\n",
    "shifted_norm_mlp_com = smolF.calc_com(shifted_norm_mlp_out, mask).mean()"
   ]
  },
  {
   "cell_type": "code",
   "execution_count": 21,
   "metadata": {},
   "outputs": [
    {
     "name": "stdout",
     "output_type": "stream",
     "text": [
      "Coord norm CoM tensor(-4.2556e-10, grad_fn=<MeanBackward0>)\n",
      "Shifted norm CoM tensor(2.3044e-09, grad_fn=<MeanBackward0>)\n",
      "Coord norm MLP CoM tensor(-9.3003e-11, grad_fn=<MeanBackward0>)\n",
      "Shifted norm MLP CoM tensor(1.4760e-10, grad_fn=<MeanBackward0>)\n"
     ]
    }
   ],
   "source": [
    "print(\"Coord norm CoM\", coord_norm_com.mean())\n",
    "print(\"Shifted norm CoM\", shifted_norm_com.mean())\n",
    "print(\"Coord norm MLP CoM\", coord_norm_mlp_com.mean())\n",
    "print(\"Shifted norm MLP CoM\", shifted_norm_mlp_com.mean())"
   ]
  },
  {
   "cell_type": "code",
   "execution_count": 23,
   "metadata": {},
   "outputs": [
    {
     "name": "stdout",
     "output_type": "stream",
     "text": [
      "Coord norm CoM tensor(True)\n",
      "Shifted norm CoM tensor(True)\n",
      "Coord norm MLP CoM tensor(True)\n",
      "Shifted norm MLP CoM tensor(True)\n"
     ]
    }
   ],
   "source": [
    "print(\"Coord norm CoM\", is_equal(coord_norm_com, torch.zeros_like(coord_norm_com)).all())\n",
    "print(\"Shifted norm CoM\", is_equal(shifted_norm_com, torch.zeros_like(shifted_norm_com)).all())\n",
    "print(\"Coord norm MLP CoM\", is_equal(coord_norm_mlp_com, torch.zeros_like(coord_norm_mlp_com)).all())\n",
    "print(\"Shifted norm MLP CoM\", is_equal(shifted_norm_mlp_com, torch.zeros_like(shifted_norm_mlp_com)).all())"
   ]
  },
  {
   "attachments": {},
   "cell_type": "markdown",
   "metadata": {},
   "source": [
    "### Test Equivariance of the Model Layer"
   ]
  },
  {
   "cell_type": "code",
   "execution_count": 25,
   "metadata": {},
   "outputs": [],
   "source": [
    "layer = ImprovedEgnnLayer(\n",
    "    d_model,\n",
    "    d_edge,\n",
    "    n_coord_sets,\n",
    "    edge_attention=edge_attention,\n",
    "    coord_attn_clamp=coord_attn_clamp,\n",
    "    eps=1e-6\n",
    ")"
   ]
  },
  {
   "cell_type": "code",
   "execution_count": 26,
   "metadata": {},
   "outputs": [
    {
     "name": "stdout",
     "output_type": "stream",
     "text": [
      "coords torch.Size([6, 64, 33, 3])\n",
      "feats torch.Size([6, 33, 256])\n",
      "adj torch.Size([6, 33, 33])\n",
      "mask torch.Size([6, 64, 33])\n"
     ]
    }
   ],
   "source": [
    "# Generate some fake data\n",
    "\n",
    "n_atoms = [12, 33, 9, 17, 24, 5]\n",
    "coords, feats, adj, mask = gen_fake_data(n_atoms, d_model, n_coord_sets)\n",
    "\n",
    "coords = smolF.zero_com(coords, mask)\n",
    "coords = coords * mask.unsqueeze(-1)\n",
    "\n",
    "print(\"coords\", coords.shape)\n",
    "print(\"feats\", feats.shape)\n",
    "print(\"adj\", adj.shape)\n",
    "print(\"mask\", mask.shape)"
   ]
  },
  {
   "cell_type": "code",
   "execution_count": 27,
   "metadata": {},
   "outputs": [
    {
     "name": "stdout",
     "output_type": "stream",
     "text": [
      "rotated torch.Size([6, 64, 33, 3])\n"
     ]
    }
   ],
   "source": [
    "# Apply a random rotation\n",
    "\n",
    "rotation = tuple((np.random.rand(3) * np.pi * 2).tolist())\n",
    "rotated_coords = [smolF.rotate(cs.flatten(0, 1), rotation) for cs in coords]\n",
    "rotated_coords = torch.stack(rotated_coords).unflatten(1, (n_coord_sets, -1)).float()\n",
    "\n",
    "rotated_coords = smolF.zero_com(rotated_coords, mask)\n",
    "rotated_coords = rotated_coords * mask.unsqueeze(-1)\n",
    "\n",
    "print(\"rotated\", rotated_coords.shape)"
   ]
  },
  {
   "cell_type": "code",
   "execution_count": 28,
   "metadata": {},
   "outputs": [
    {
     "name": "stdout",
     "output_type": "stream",
     "text": [
      "CoM tensor(-4.8196e-11)\n",
      "Rotated CoM tensor(-4.0742e-10)\n"
     ]
    }
   ],
   "source": [
    "print(\"CoM\", smolF.calc_com(coords, mask).mean())\n",
    "print(\"Rotated CoM\", smolF.calc_com(rotated_coords, mask).mean())"
   ]
  },
  {
   "cell_type": "code",
   "execution_count": 29,
   "metadata": {},
   "outputs": [],
   "source": [
    "coords_out, feats_out = layer(coords, feats, adj, mask)\n",
    "coords_out = coords_out.detach().cpu()\n",
    "feats_out = feats_out.detach().cpu()\n",
    "\n",
    "coords_out_rotated = [smolF.rotate(cs.flatten(0, 1), rotation) for cs in coords_out]\n",
    "coords_out_rotated = torch.stack(coords_out_rotated).unflatten(1, (n_coord_sets, -1)).float()\n",
    "\n",
    "coords_out_rotated = smolF.zero_com(coords_out_rotated, mask)\n",
    "coords_out_rotated = coords_out_rotated * mask.unsqueeze(-1)"
   ]
  },
  {
   "cell_type": "code",
   "execution_count": 30,
   "metadata": {},
   "outputs": [],
   "source": [
    "rotated_coords_out, rotated_feats_out = layer(rotated_coords, feats, adj, mask)\n",
    "rotated_coords_out = rotated_coords_out.detach().cpu()\n",
    "rotated_feats_out = rotated_feats_out.detach().cpu()\n",
    "\n",
    "rotated_coords_out = smolF.zero_com(rotated_coords_out, mask)\n",
    "rotated_coords_out = rotated_coords_out * mask.unsqueeze(-1)"
   ]
  },
  {
   "cell_type": "code",
   "execution_count": 31,
   "metadata": {},
   "outputs": [
    {
     "name": "stdout",
     "output_type": "stream",
     "text": [
      "Out rotated CoM tensor(1.0651e-09)\n",
      "Rotated out CoM tensor(-3.8316e-11)\n"
     ]
    }
   ],
   "source": [
    "print(\"Out rotated CoM\", smolF.calc_com(coords_out_rotated, mask).mean())\n",
    "print(\"Rotated out CoM\", smolF.calc_com(rotated_coords_out, mask).mean())"
   ]
  },
  {
   "cell_type": "code",
   "execution_count": 32,
   "metadata": {},
   "outputs": [
    {
     "name": "stdout",
     "output_type": "stream",
     "text": [
      "All invariant: True\n",
      "tensor([ 0.2683,  0.1237,  0.5861, -0.9327, -1.3947, -2.0149,  1.2569, -1.7422])\n",
      "tensor([ 0.2683,  0.1237,  0.5861, -0.9327, -1.3947, -2.0149,  1.2569, -1.7422])\n",
      "MAE: tensor(5.5412e-08)\n"
     ]
    }
   ],
   "source": [
    "# Test invariant features\n",
    "invariant = is_equal(feats_out, rotated_feats_out)\n",
    "\n",
    "print(\"All invariant:\", (invariant.sum() == invariant.numel()).item())\n",
    "print(feats_out[0, 0, :8])\n",
    "print(rotated_feats_out[0, 0, :8])\n",
    "print(\"MAE:\", mae(feats_out, rotated_feats_out))"
   ]
  },
  {
   "cell_type": "code",
   "execution_count": 33,
   "metadata": {},
   "outputs": [
    {
     "name": "stdout",
     "output_type": "stream",
     "text": [
      "All equivariant: True\n",
      "tensor([[ 1.5528, -0.2032, -0.1132],\n",
      "        [-0.4472,  0.9468, -0.7487],\n",
      "        [-1.4964,  0.2370,  0.8031],\n",
      "        [ 0.0391,  0.9592, -0.1951],\n",
      "        [-1.5740, -1.5283,  0.2595],\n",
      "        [ 0.7647, -0.0716,  1.3367],\n",
      "        [-0.4526,  1.6164,  0.7683],\n",
      "        [-0.7029, -0.5096, -1.4388]])\n",
      "tensor([[ 1.5528, -0.2032, -0.1132],\n",
      "        [-0.4472,  0.9468, -0.7487],\n",
      "        [-1.4964,  0.2370,  0.8031],\n",
      "        [ 0.0391,  0.9592, -0.1951],\n",
      "        [-1.5740, -1.5283,  0.2595],\n",
      "        [ 0.7647, -0.0716,  1.3367],\n",
      "        [-0.4526,  1.6164,  0.7683],\n",
      "        [-0.7029, -0.5096, -1.4388]])\n",
      "MAE: tensor(1.7985e-08)\n"
     ]
    }
   ],
   "source": [
    "# Test equivariant features\n",
    "equivariant = is_equal(coords_out_rotated, rotated_coords_out)\n",
    "\n",
    "print(\"All equivariant:\", (equivariant.sum() == equivariant.numel()).item())\n",
    "print(coords_out_rotated[0, 0, :8])\n",
    "print(rotated_coords_out[0, 0, :8])\n",
    "print(\"MAE:\", mae(coords_out_rotated, rotated_coords_out))"
   ]
  },
  {
   "attachments": {},
   "cell_type": "markdown",
   "metadata": {},
   "source": [
    "### Test equivariance of whole model"
   ]
  },
  {
   "cell_type": "code",
   "execution_count": 34,
   "metadata": {},
   "outputs": [],
   "source": [
    "n_layers = 9\n",
    "dynamics = EgnnDynamics(d_model, layer, n_layers, n_coord_sets)"
   ]
  },
  {
   "cell_type": "code",
   "execution_count": 35,
   "metadata": {},
   "outputs": [
    {
     "name": "stdout",
     "output_type": "stream",
     "text": [
      "coords torch.Size([6, 33, 3])\n",
      "feats torch.Size([6, 33, 256])\n",
      "adj torch.Size([6, 33, 33])\n",
      "mask torch.Size([6, 33])\n"
     ]
    }
   ],
   "source": [
    "coords, feats, adj, mask = gen_fake_data(n_atoms, d_model, 1)\n",
    "coords = coords[:, 0]\n",
    "mask = mask[:, 0]\n",
    "\n",
    "coords = smolF.zero_com(coords, mask)\n",
    "coords = coords * mask.unsqueeze(-1)\n",
    "\n",
    "print(\"coords\", coords.shape)\n",
    "print(\"feats\", feats.shape)\n",
    "print(\"adj\", adj.shape)\n",
    "print(\"mask\", mask.shape)"
   ]
  },
  {
   "cell_type": "code",
   "execution_count": 36,
   "metadata": {},
   "outputs": [
    {
     "name": "stdout",
     "output_type": "stream",
     "text": [
      "rotated torch.Size([6, 33, 3])\n"
     ]
    }
   ],
   "source": [
    "rotation = tuple((np.random.rand(3) * np.pi * 2).tolist())\n",
    "rotated_coords = [smolF.rotate(cs, rotation) for cs in coords]\n",
    "rotated_coords = torch.stack(rotated_coords).float()\n",
    "\n",
    "rotated_coords = smolF.zero_com(rotated_coords, mask)\n",
    "rotated_coords = rotated_coords * mask.unsqueeze(-1)\n",
    "\n",
    "print(\"rotated\", rotated_coords.shape)"
   ]
  },
  {
   "cell_type": "code",
   "execution_count": 37,
   "metadata": {},
   "outputs": [],
   "source": [
    "coords_out, feats_out = dynamics(coords, feats, adj, mask)\n",
    "coords_out = coords_out.detach().cpu()\n",
    "feats_out = feats_out.detach().cpu()\n",
    "\n",
    "coords_out_rotated = [smolF.rotate(cs, rotation) for cs in coords_out]\n",
    "coords_out_rotated = torch.stack(coords_out_rotated).float()\n",
    "\n",
    "coords_out_rotated = smolF.zero_com(coords_out_rotated, mask)\n",
    "coords_out_rotated = coords_out_rotated * mask.unsqueeze(-1)"
   ]
  },
  {
   "cell_type": "code",
   "execution_count": 38,
   "metadata": {},
   "outputs": [],
   "source": [
    "rotated_coords_out, rotated_feats_out = dynamics(rotated_coords, feats, adj, mask)\n",
    "rotated_coords_out = rotated_coords_out.detach().cpu()\n",
    "rotated_feats_out = rotated_feats_out.detach().cpu()\n",
    "\n",
    "rotated_coords_out = smolF.zero_com(rotated_coords_out, mask)\n",
    "rotated_coords_out = rotated_coords_out * mask.unsqueeze(-1)"
   ]
  },
  {
   "cell_type": "code",
   "execution_count": 39,
   "metadata": {},
   "outputs": [
    {
     "name": "stdout",
     "output_type": "stream",
     "text": [
      "All invariant: True\n",
      "MAE: tensor(3.9760e-07)\n"
     ]
    }
   ],
   "source": [
    "# Test invariant features\n",
    "invariant = is_equal(feats_out, rotated_feats_out)\n",
    "\n",
    "print(\"All invariant:\", (invariant.sum() == invariant.numel()).item())\n",
    "print(\"MAE:\", mae(feats_out, rotated_feats_out))"
   ]
  },
  {
   "cell_type": "code",
   "execution_count": 40,
   "metadata": {},
   "outputs": [
    {
     "name": "stdout",
     "output_type": "stream",
     "text": [
      "All equivariant: True\n",
      "MAE: tensor(2.5869e-06)\n"
     ]
    }
   ],
   "source": [
    "# Test equivariant features\n",
    "equivariant = is_equal(coords_out_rotated, rotated_coords_out, eps=1e-4)\n",
    "\n",
    "print(\"All equivariant:\", (equivariant.sum() == equivariant.numel()).item())\n",
    "print(\"MAE:\", mae(coords_out_rotated, rotated_coords_out))"
   ]
  },
  {
   "cell_type": "code",
   "execution_count": null,
   "metadata": {},
   "outputs": [],
   "source": []
  }
 ],
 "metadata": {
  "kernelspec": {
   "display_name": "fegnn",
   "language": "python",
   "name": "python3"
  },
  "language_info": {
   "codemirror_mode": {
    "name": "ipython",
    "version": 3
   },
   "file_extension": ".py",
   "mimetype": "text/x-python",
   "name": "python",
   "nbconvert_exporter": "python",
   "pygments_lexer": "ipython3",
   "version": "3.9.18"
  },
  "orig_nbformat": 4
 },
 "nbformat": 4,
 "nbformat_minor": 2
}
