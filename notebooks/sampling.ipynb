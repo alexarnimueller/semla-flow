{
 "cells": [
  {
   "attachments": {},
   "cell_type": "markdown",
   "metadata": {},
   "source": [
    "# Inference Results and Analysis"
   ]
  },
  {
   "attachments": {},
   "cell_type": "markdown",
   "metadata": {},
   "source": [
    "### Imports and Defs"
   ]
  },
  {
   "cell_type": "code",
   "execution_count": 1,
   "metadata": {},
   "outputs": [],
   "source": [
    "import sys\n",
    "sys.path.append(\"..\")"
   ]
  },
  {
   "cell_type": "code",
   "execution_count": 2,
   "metadata": {},
   "outputs": [],
   "source": [
    "import resource\n",
    "from functools import partial"
   ]
  },
  {
   "cell_type": "code",
   "execution_count": 3,
   "metadata": {},
   "outputs": [],
   "source": [
    "import torch\n",
    "import py3Dmol\n",
    "import numpy as np\n",
    "import lightning as L\n",
    "import matplotlib.pyplot as plt\n",
    "from pathlib import Path\n",
    "from rdkit import RDLogger, Chem\n",
    "from openbabel import pybel\n",
    "from torchmetrics import MetricCollection\n",
    "from rdkit.Chem.Draw import IPythonConsole\n",
    "IPythonConsole.ipython_3d = True"
   ]
  },
  {
   "cell_type": "code",
   "execution_count": 4,
   "metadata": {},
   "outputs": [],
   "source": [
    "import fegnn.util.rdkit as smolRD\n",
    "import fegnn.util.functional as smolF\n",
    "import fegnn.util.metrics as Metrics\n",
    "from fegnn.models.fm import MolecularCFM, Integrator\n",
    "from fegnn.util.tokeniser import Vocabulary\n",
    "from fegnn.models.egnn import EquiInvDynamics, SemlaGenerator\n",
    "from fegnn.data.datasets import GeometricDataset\n",
    "from fegnn.data.datamodules import GeometricInterpolantDM\n",
    "from fegnn.data.interpolate import GeometricInterpolant, GeometricNoiseSampler"
   ]
  },
  {
   "cell_type": "code",
   "execution_count": 5,
   "metadata": {},
   "outputs": [],
   "source": [
    "QM9_COORDS_STD_DEV = 1.7223433256149292\n",
    "GEOM_COORDS_STD_DEV = 2.407038688659668\n",
    "\n",
    "QM9_BUCKET_LIMITS = [12, 16, 18, 20, 22, 24, 30]\n",
    "GEOM_BUCKET_LIMITS = [24, 28, 32, 36, 40, 44, 48, 52, 56, 60, 64, 72, 96, 192]\n",
    "\n",
    "COORD_NOISE_SCALE = 0.20"
   ]
  },
  {
   "cell_type": "code",
   "execution_count": 6,
   "metadata": {},
   "outputs": [],
   "source": [
    "CKPT_PATH = \"../../../models/geom-final/last.ckpt\"\n",
    "DATA_PATH = \"../../../data/geom-drugs/smol\"\n",
    "DATASET = \"geom-drugs\"\n",
    "BATCH_SIZE = 7200\n",
    "N_VALIDATION_MOLS = 1000\n",
    "BUCKET_COST_SCALE = \"linear\""
   ]
  },
  {
   "attachments": {},
   "cell_type": "markdown",
   "metadata": {},
   "source": [
    "### Some Helper Functions"
   ]
  },
  {
   "cell_type": "code",
   "execution_count": 7,
   "metadata": {},
   "outputs": [],
   "source": [
    "def disable_mol_stdout():\n",
    "    pybel.ob.obErrorLog.StopLogging()\n",
    "    RDLogger.DisableLog('rdApp.*')"
   ]
  },
  {
   "cell_type": "code",
   "execution_count": 8,
   "metadata": {},
   "outputs": [],
   "source": [
    "def configure_fs(limit=4096):\n",
    "    \"\"\"\n",
    "    Try to increase the limit on open file descriptors\n",
    "    If not possible use a different strategy for sharing files in torch\n",
    "    \"\"\"\n",
    "\n",
    "    n_file_resource = resource.RLIMIT_NOFILE\n",
    "    soft_limit, hard_limit = resource.getrlimit(n_file_resource)\n",
    "\n",
    "    print(f\"Current limits (soft, hard): {(soft_limit, hard_limit)}\")\n",
    "\n",
    "    if limit > soft_limit:\n",
    "        try:\n",
    "            print(f\"Attempting to increase open file limit to {limit}...\")\n",
    "            resource.setrlimit(n_file_resource, (limit, hard_limit))\n",
    "            print(\"Limit changed successfully!\")\n",
    "\n",
    "        except:\n",
    "            print(\"Limit change unsuccessful. Using torch file_system file sharing strategy instead.\")\n",
    "\n",
    "            import torch.multiprocessing\n",
    "            torch.multiprocessing.set_sharing_strategy(\"file_system\")\n",
    "\n",
    "    else:\n",
    "        print(\"Open file limit already sufficiently large.\")\n"
   ]
  },
  {
   "cell_type": "code",
   "execution_count": 9,
   "metadata": {},
   "outputs": [],
   "source": [
    "def build_vocab():\n",
    "    # Need to make sure PAD has index 0\n",
    "    special_tokens = [\"<PAD>\", \"<MASK>\"]\n",
    "    core_atoms = [\"H\", \"C\", \"N\", \"O\", \"F\", \"P\", \"S\", \"Cl\"]\n",
    "    other_atoms = [\"Br\", \"B\", \"Al\", \"Si\", \"As\", \"I\", \"Hg\", \"Bi\"]\n",
    "    tokens = special_tokens + core_atoms + other_atoms\n",
    "    return Vocabulary(tokens)"
   ]
  },
  {
   "cell_type": "code",
   "execution_count": 10,
   "metadata": {},
   "outputs": [],
   "source": [
    "def mol_transform(molecule, vocab, n_bonds, coord_std):\n",
    "    rotation = tuple(np.random.rand(3) * np.pi * 2)\n",
    "    molecule = molecule.scale(1.0 / coord_std).rotate(rotation).zero_com()\n",
    "\n",
    "    atomic_nums = [int(atomic) for atomic in molecule.atomics.tolist()]\n",
    "    tokens = [smolRD.PT.symbol_from_atomic(atomic) for atomic in atomic_nums]\n",
    "    one_hots = torch.tensor(vocab.indices_from_tokens(tokens, one_hot=True))\n",
    "\n",
    "    bond_types = smolF.one_hot_encode_tensor(molecule.bond_types, n_bonds)\n",
    "\n",
    "    charges = [smolRD.CHARGE_IDX_MAP[charge] for charge in molecule.charges.tolist()]\n",
    "    charges = torch.tensor(charges)\n",
    "\n",
    "    transformed = molecule._copy_with(atomics=one_hots, bond_types=bond_types, charges=charges)\n",
    "    return transformed"
   ]
  },
  {
   "cell_type": "code",
   "execution_count": 11,
   "metadata": {},
   "outputs": [],
   "source": [
    "def build_dm(data_path, dataset, hparams, vocab):\n",
    "    if dataset == \"qm9\":\n",
    "        coord_std = QM9_COORDS_STD_DEV\n",
    "        bucket_limits = QM9_BUCKET_LIMITS\n",
    "\n",
    "    elif dataset == \"geom-drugs\":\n",
    "        coord_std = GEOM_COORDS_STD_DEV\n",
    "        bucket_limits = GEOM_BUCKET_LIMITS\n",
    "\n",
    "    else:\n",
    "        raise ValueError(f\"Unknown dataset {dataset}\")\n",
    " \n",
    "    data_path = Path(data_path)\n",
    "\n",
    "    n_bond_types = 5\n",
    "    transform = partial(mol_transform, vocab=vocab, n_bonds=n_bond_types, coord_std=coord_std)\n",
    "\n",
    "    val_dataset = GeometricDataset.load(data_path / \"val.smol\", transform=transform)\n",
    "    val_dataset = val_dataset.sample(N_VALIDATION_MOLS)\n",
    "\n",
    "    type_mask_index = vocab.indices_from_tokens([\"<MASK>\"])[0] if hparams[\"val-type-interpolation\"] == \"mask\" else None\n",
    "    bond_mask_index = None\n",
    "\n",
    "    prior_sampler = GeometricNoiseSampler(\n",
    "        vocab.size,\n",
    "        n_bond_types,\n",
    "        coord_noise=\"gaussian\",\n",
    "        type_noise=hparams[\"val-prior-type-noise\"],\n",
    "        bond_noise=hparams[\"val-prior-bond-noise\"],\n",
    "        scale_log_size=True,\n",
    "        scale_factor=COORD_NOISE_SCALE,\n",
    "        zero_com=True,\n",
    "        type_mask_index=type_mask_index,\n",
    "        bond_mask_index=bond_mask_index\n",
    "    )\n",
    "    eval_interpolant = GeometricInterpolant(\n",
    "        prior_sampler,\n",
    "        coord_interpolation=\"linear\",\n",
    "        type_interpolation=hparams[\"val-type-interpolation\"],\n",
    "        bond_interpolation=hparams[\"val-bond-interpolation\"],\n",
    "        equivariant_ot=False,\n",
    "        batch_ot=False,\n",
    "        fixed_time=0.9\n",
    "    )\n",
    "    dm = GeometricInterpolantDM(\n",
    "        None,\n",
    "        val_dataset,\n",
    "        None,\n",
    "        hparams[\"batch-cost\"],\n",
    "        val_interpolant=eval_interpolant,\n",
    "        test_interpolant=eval_interpolant,\n",
    "        bucket_limits=bucket_limits,\n",
    "        bucket_cost_scale=BUCKET_COST_SCALE,\n",
    "        pad_to_bucket=False\n",
    "    )\n",
    "    return dm"
   ]
  },
  {
   "cell_type": "code",
   "execution_count": 12,
   "metadata": {},
   "outputs": [],
   "source": [
    "def load_model(ckpt_path, vocab, integration_steps=None, train_smiles=None):\n",
    "    checkpoint = torch.load(ckpt_path)\n",
    "    hparams = checkpoint[\"hyper_parameters\"]\n",
    "\n",
    "    steps = integration_steps if integration_steps is not None else hparams[\"integration-steps\"]\n",
    "    hparams[\"integration-steps\"] = steps\n",
    "\n",
    "    d_model = hparams[\"d_model\"]\n",
    "    dynamics = EquiInvDynamics(\n",
    "        d_model,\n",
    "        hparams[\"d_message\"],\n",
    "        hparams[\"n_coord_sets\"],\n",
    "        hparams[\"n_layers\"],\n",
    "        n_neighbours_feats=hparams[\"n_neighbours_feats\"],\n",
    "        d_message_hidden=hparams[\"d_message_hidden\"],\n",
    "        d_edge=hparams[\"d_edge\"],\n",
    "        self_cond=hparams[\"self_cond\"],\n",
    "        coord_norm=hparams[\"coord_norm\"],\n",
    "    )\n",
    "    egnn_gen = SemlaGenerator(\n",
    "        d_model,\n",
    "        dynamics,\n",
    "        vocab.size,\n",
    "        hparams[\"n_atom_feats\"],\n",
    "        d_edge=hparams[\"d_edge\"],\n",
    "        n_edge_types=5,\n",
    "        self_cond=hparams[\"self_cond\"],\n",
    "        size_emb=hparams[\"size_emb\"],\n",
    "        max_atoms=hparams[\"max_atoms\"]\n",
    "    )\n",
    "\n",
    "    type_mask_index = vocab.indices_from_tokens([\"<MASK>\"])[0] if hparams[\"train-type-interpolation\"] == \"mask\" else None\n",
    "    bond_mask_index = None\n",
    "\n",
    "    integrator = Integrator(\n",
    "        steps,\n",
    "        type_strategy=hparams[\"integration-type-strategy\"],\n",
    "        bond_strategy=hparams[\"integration-bond-strategy\"],\n",
    "        type_mask_index=type_mask_index,\n",
    "        bond_mask_index=bond_mask_index,\n",
    "        cat_noise_level=hparams[\"integration-cat-noise-level\"]\n",
    "    )\n",
    "\n",
    "    hparams[\"compile_model\"] = False\n",
    "    fm_model = MolecularCFM.load_from_checkpoint(\n",
    "        ckpt_path,\n",
    "        gen=egnn_gen,\n",
    "        vocab=vocab,\n",
    "        integrator=integrator,\n",
    "        train_smiles=train_smiles,\n",
    "        type_mask_index=type_mask_index,\n",
    "        bond_mask_index=bond_mask_index,\n",
    "        **hparams\n",
    "    )\n",
    "    return fm_model"
   ]
  },
  {
   "cell_type": "code",
   "execution_count": 13,
   "metadata": {},
   "outputs": [],
   "source": [
    "def display_mol(mol, style=\"stick\", surface=False, size=(300, 300)):\n",
    "    assert style in [\"line\", \"stick\", \"sphere\"]\n",
    "\n",
    "    viewer = py3Dmol.view(width=size[0], height=size[1])\n",
    "    viewer.addModel(Chem.MolToMolBlock(mol), \"mol\")\n",
    "\n",
    "    viewer.setStyle({style:{}})\n",
    "    if surface:\n",
    "        viewer.addSurface(py3Dmol.SAS)\n",
    "\n",
    "    viewer.zoomTo()\n",
    "    viewer.show()"
   ]
  },
  {
   "attachments": {},
   "cell_type": "markdown",
   "metadata": {},
   "source": [
    "### Setup Objects and Data"
   ]
  },
  {
   "cell_type": "code",
   "execution_count": 14,
   "metadata": {},
   "outputs": [
    {
     "name": "stdout",
     "output_type": "stream",
     "text": [
      "Current limits (soft, hard): (4096, 4096)\n",
      "Open file limit already sufficiently large.\n"
     ]
    }
   ],
   "source": [
    "disable_mol_stdout()\n",
    "configure_fs()"
   ]
  },
  {
   "cell_type": "code",
   "execution_count": 15,
   "metadata": {},
   "outputs": [],
   "source": [
    "# Load the train data separately from the DM, just to access the list of train SMILES\n",
    "train_path = Path(DATA_PATH) / \"train.smol\"\n",
    "train_dataset = GeometricDataset.load(train_path)\n",
    "train_smiles = [mol.str_id for mol in train_dataset]"
   ]
  },
  {
   "cell_type": "code",
   "execution_count": 15,
   "metadata": {},
   "outputs": [],
   "source": [
    "vocab = build_vocab()"
   ]
  },
  {
   "cell_type": "code",
   "execution_count": 16,
   "metadata": {},
   "outputs": [],
   "source": [
    "# model = load_model(CKPT_PATH, vocab, train_smiles=train_smiles)\n",
    "model = load_model(CKPT_PATH, vocab)\n",
    "model.pairwise_metrics = False"
   ]
  },
  {
   "cell_type": "code",
   "execution_count": 17,
   "metadata": {},
   "outputs": [
    {
     "name": "stdout",
     "output_type": "stream",
     "text": [
      "coord-scale 2.407038688659668\n",
      "integration-steps 100\n",
      "integration-coord-noise-std 0.0\n",
      "integration-type-strategy uniform-sample\n",
      "integration-bond-strategy uniform-sample\n",
      "integration-cat-noise-level 1\n"
     ]
    }
   ],
   "source": [
    "print(f\"coord-scale {model.coord_scale}\")\n",
    "for key, val in model.integrator.hparams.items():\n",
    "    print(f\"{key} {val}\")"
   ]
  },
  {
   "cell_type": "code",
   "execution_count": 18,
   "metadata": {},
   "outputs": [],
   "source": [
    "checkpoint = torch.load(CKPT_PATH)\n",
    "hparams = checkpoint[\"hyper_parameters\"]\n",
    "dm = build_dm(DATA_PATH, DATASET, hparams, vocab)\n",
    "checkpoint = None"
   ]
  },
  {
   "cell_type": "code",
   "execution_count": 19,
   "metadata": {},
   "outputs": [
    {
     "name": "stderr",
     "output_type": "stream",
     "text": [
      "GPU available: True (cuda), used: True\n",
      "TPU available: False, using: 0 TPU cores\n",
      "IPU available: False, using: 0 IPUs\n",
      "HPU available: False, using: 0 HPUs\n",
      "/home/khdv294/mambaforge/envs/equinv/lib/python3.11/site-packages/lightning/pytorch/trainer/connectors/logger_connector/logger_connector.py:75: Starting from v1.9.0, `tensorboardX` has been removed as a dependency of the `lightning.pytorch` package, due to potential conflicts with other packages in the ML ecosystem. For this reason, `logger=True` will use `CSVLogger` as the default logger, unless the `tensorboard` or `tensorboardX` packages are found. Please `pip install lightning[extra]` or one of them to enable TensorBoard support by default\n"
     ]
    }
   ],
   "source": [
    "trainer = L.Trainer()"
   ]
  },
  {
   "attachments": {},
   "cell_type": "markdown",
   "metadata": {},
   "source": [
    "### Check Validation Works"
   ]
  },
  {
   "cell_type": "code",
   "execution_count": 31,
   "metadata": {},
   "outputs": [
    {
     "name": "stderr",
     "output_type": "stream",
     "text": [
      "LOCAL_RANK: 0 - CUDA_VISIBLE_DEVICES: [0]\n"
     ]
    },
    {
     "name": "stdout",
     "output_type": "stream",
     "text": [
      "\n",
      "items per bucket [24, 42, 68, 102, 138, 143, 163, 108, 79, 54, 39, 26, 11, 3]\n",
      "bucket batch sizes [168, 144, 128, 112, 104, 96, 88, 80, 72, 72, 64, 56, 40, 24]\n",
      "batches per bucket [1, 1, 1, 1, 2, 2, 2, 2, 2, 1, 1, 1, 1, 1]\n"
     ]
    },
    {
     "data": {
      "application/vnd.jupyter.widget-view+json": {
       "model_id": "ab7c55824e9d4abca0dfa44f89514f49",
       "version_major": 2,
       "version_minor": 0
      },
      "text/plain": [
       "Validation: |          | 0/? [00:00<?, ?it/s]"
      ]
     },
     "metadata": {},
     "output_type": "display_data"
    },
    {
     "name": "stdout",
     "output_type": "stream",
     "text": [
      "────────────────────────────────────────────────────────────────────────────────────────────────────────────────────────\n",
      "     Validate metric           DataLoader 0\n",
      "────────────────────────────────────────────────────────────────────────────────────────────────────────────────────────\n",
      "   val-atom-stability       0.9976658225059509\n",
      "       val-energy            155.7473602294922\n",
      "   val-energy-per-atom      3.5166285037994385\n",
      "   val-energy-validity       0.921999990940094\n",
      "     val-fc-validity        0.9010000228881836\n",
      " val-molecule-stability      0.972000002861023\n",
      " val-opt-energy-validity     0.921999990940094\n",
      "      val-opt-rmsd          1.0220849514007568\n",
      "       val-strain           115.42186737060547\n",
      "   val-strain-per-atom      2.6125471591949463\n",
      "     val-uniqueness                 1.0\n",
      "      val-validity          0.9240000247955322\n",
      "────────────────────────────────────────────────────────────────────────────────────────────────────────────────────────\n"
     ]
    }
   ],
   "source": [
    "metrics = trainer.validate(model, datamodule=dm)[0]"
   ]
  },
  {
   "cell_type": "code",
   "execution_count": 32,
   "metadata": {},
   "outputs": [
    {
     "name": "stdout",
     "output_type": "stream",
     "text": [
      "{'val-atom-stability': 0.9976658225059509, 'val-molecule-stability': 0.972000002861023, 'val-energy': 155.7473602294922, 'val-energy-per-atom': 3.5166285037994385, 'val-energy-validity': 0.921999990940094, 'val-fc-validity': 0.9010000228881836, 'val-opt-energy-validity': 0.921999990940094, 'val-opt-rmsd': 1.0220849514007568, 'val-strain': 115.42186737060547, 'val-strain-per-atom': 2.6125471591949463, 'val-uniqueness': 1.0, 'val-validity': 0.9240000247955322}\n"
     ]
    }
   ],
   "source": [
    "print(metrics)"
   ]
  },
  {
   "attachments": {},
   "cell_type": "markdown",
   "metadata": {},
   "source": [
    "### Integration Strategies"
   ]
  },
  {
   "cell_type": "code",
   "execution_count": 33,
   "metadata": {},
   "outputs": [
    {
     "name": "stderr",
     "output_type": "stream",
     "text": [
      "LOCAL_RANK: 0 - CUDA_VISIBLE_DEVICES: [0]\n"
     ]
    },
    {
     "name": "stdout",
     "output_type": "stream",
     "text": [
      "\n",
      "items per bucket [24, 42, 68, 102, 138, 143, 163, 108, 79, 54, 39, 26, 11, 3]\n",
      "bucket batch sizes [168, 144, 128, 112, 104, 96, 88, 80, 72, 72, 64, 56, 40, 24]\n",
      "batches per bucket [1, 1, 1, 1, 2, 2, 2, 2, 2, 1, 1, 1, 1, 1]\n"
     ]
    },
    {
     "data": {
      "application/vnd.jupyter.widget-view+json": {
       "model_id": "3c9cf8770bc146eca60225d26153a9e7",
       "version_major": 2,
       "version_minor": 0
      },
      "text/plain": [
       "Validation: |          | 0/? [00:00<?, ?it/s]"
      ]
     },
     "metadata": {},
     "output_type": "display_data"
    },
    {
     "name": "stdout",
     "output_type": "stream",
     "text": [
      "────────────────────────────────────────────────────────────────────────────────────────────────────────────────────────\n",
      "     Validate metric           DataLoader 0\n",
      "────────────────────────────────────────────────────────────────────────────────────────────────────────────────────────\n",
      "   val-atom-stability       0.9984962344169617\n",
      "       val-energy           153.73416137695312\n",
      "   val-energy-per-atom       3.40887451171875\n",
      "   val-energy-validity      0.9350000023841858\n",
      "     val-fc-validity        0.9039999842643738\n",
      " val-molecule-stability     0.9779999852180481\n",
      " val-opt-energy-validity    0.9350000023841858\n",
      "      val-opt-rmsd          1.0691604614257812\n",
      "       val-strain             112.34521484375\n",
      "   val-strain-per-atom      2.4746592044830322\n",
      "     val-uniqueness                 1.0\n",
      "      val-validity          0.9359999895095825\n",
      "────────────────────────────────────────────────────────────────────────────────────────────────────────────────────────\n"
     ]
    }
   ],
   "source": [
    "model.sampling_strategy = \"log\"\n",
    "metrics = trainer.validate(model, datamodule=dm)[0]"
   ]
  },
  {
   "cell_type": "code",
   "execution_count": 34,
   "metadata": {},
   "outputs": [
    {
     "name": "stderr",
     "output_type": "stream",
     "text": [
      "LOCAL_RANK: 0 - CUDA_VISIBLE_DEVICES: [0]\n"
     ]
    },
    {
     "name": "stdout",
     "output_type": "stream",
     "text": [
      "\n",
      "items per bucket [24, 42, 68, 102, 138, 143, 163, 108, 79, 54, 39, 26, 11, 3]\n",
      "bucket batch sizes [168, 144, 128, 112, 104, 96, 88, 80, 72, 72, 64, 56, 40, 24]\n",
      "batches per bucket [1, 1, 1, 1, 2, 2, 2, 2, 2, 1, 1, 1, 1, 1]\n"
     ]
    },
    {
     "data": {
      "application/vnd.jupyter.widget-view+json": {
       "model_id": "a16eb8a0c02e44fdae721095238e41e5",
       "version_major": 2,
       "version_minor": 0
      },
      "text/plain": [
       "Validation: |          | 0/? [00:00<?, ?it/s]"
      ]
     },
     "metadata": {},
     "output_type": "display_data"
    },
    {
     "name": "stdout",
     "output_type": "stream",
     "text": [
      "────────────────────────────────────────────────────────────────────────────────────────────────────────────────────────\n",
      "     Validate metric           DataLoader 0\n",
      "────────────────────────────────────────────────────────────────────────────────────────────────────────────────────────\n",
      "   val-atom-stability       0.9985635876655579\n",
      "       val-energy            175.4678192138672\n",
      "   val-energy-per-atom       3.935638427734375\n",
      "   val-energy-validity      0.9359999895095825\n",
      "     val-fc-validity        0.8920000195503235\n",
      " val-molecule-stability     0.9700000286102295\n",
      " val-opt-energy-validity    0.9359999895095825\n",
      "      val-opt-rmsd          1.1147125959396362\n",
      "       val-strain            134.466064453125\n",
      "   val-strain-per-atom      3.0326154232025146\n",
      "     val-uniqueness                 1.0\n",
      "      val-validity          0.9380000233650208\n",
      "────────────────────────────────────────────────────────────────────────────────────────────────────────────────────────\n"
     ]
    }
   ],
   "source": [
    "model.sampling_strategy = \"log\"\n",
    "model.integrator.steps = 50\n",
    "metrics = trainer.validate(model, datamodule=dm)[0]"
   ]
  },
  {
   "attachments": {},
   "cell_type": "markdown",
   "metadata": {},
   "source": [
    "### Integration Steps\n",
    "\n",
    "Check results for different numbers of integration steps"
   ]
  },
  {
   "cell_type": "code",
   "execution_count": 26,
   "metadata": {},
   "outputs": [
    {
     "name": "stderr",
     "output_type": "stream",
     "text": [
      "LOCAL_RANK: 0 - CUDA_VISIBLE_DEVICES: [0]\n"
     ]
    },
    {
     "name": "stdout",
     "output_type": "stream",
     "text": [
      "\n",
      "items per bucket [39, 74, 132, 225, 290, 295, 264, 229, 194, 113, 77, 43, 20, 5]\n",
      "bucket batch sizes [266, 228, 200, 177, 160, 145, 133, 123, 114, 106, 100, 88, 66, 33]\n",
      "batches per bucket [1, 1, 1, 2, 2, 3, 2, 2, 2, 2, 1, 1, 1, 1]\n"
     ]
    },
    {
     "data": {
      "application/vnd.jupyter.widget-view+json": {
       "model_id": "2e3027f7a16d4bffa9eab3ec16a2d161",
       "version_major": 2,
       "version_minor": 0
      },
      "text/plain": [
       "Validation: |          | 0/? [00:00<?, ?it/s]"
      ]
     },
     "metadata": {},
     "output_type": "display_data"
    },
    {
     "name": "stdout",
     "output_type": "stream",
     "text": [
      "────────────────────────────────────────────────────────────────────────────────────────────────────────────────────────\n",
      "     Validate metric           DataLoader 0\n",
      "────────────────────────────────────────────────────────────────────────────────────────────────────────────────────────\n",
      "   val-atom-stability       0.6618413925170898\n",
      "       val-energy            1908.772216796875\n",
      "     val-fc-validity       0.0005000000237487257\n",
      " val-molecule-stability             0.0\n",
      "     val-uniqueness                 1.0\n",
      "      val-validity          0.06400000303983688\n",
      "────────────────────────────────────────────────────────────────────────────────────────────────────────────────────────\n"
     ]
    },
    {
     "name": "stderr",
     "output_type": "stream",
     "text": [
      "LOCAL_RANK: 0 - CUDA_VISIBLE_DEVICES: [0]\n"
     ]
    },
    {
     "name": "stdout",
     "output_type": "stream",
     "text": [
      "\n",
      "items per bucket [39, 74, 132, 225, 290, 295, 264, 229, 194, 113, 77, 43, 20, 5]\n",
      "bucket batch sizes [266, 228, 200, 177, 160, 145, 133, 123, 114, 106, 100, 88, 66, 33]\n",
      "batches per bucket [1, 1, 1, 2, 2, 3, 2, 2, 2, 2, 1, 1, 1, 1]\n"
     ]
    },
    {
     "data": {
      "application/vnd.jupyter.widget-view+json": {
       "model_id": "ba5e952ba5594ff2ab13976ccd399882",
       "version_major": 2,
       "version_minor": 0
      },
      "text/plain": [
       "Validation: |          | 0/? [00:00<?, ?it/s]"
      ]
     },
     "metadata": {},
     "output_type": "display_data"
    },
    {
     "name": "stdout",
     "output_type": "stream",
     "text": [
      "────────────────────────────────────────────────────────────────────────────────────────────────────────────────────────\n",
      "     Validate metric           DataLoader 0\n",
      "────────────────────────────────────────────────────────────────────────────────────────────────────────────────────────\n",
      "   val-atom-stability       0.8653666973114014\n",
      "       val-energy            796.0638427734375\n",
      "     val-fc-validity        0.06949999928474426\n",
      " val-molecule-stability     0.06599999964237213\n",
      "     val-uniqueness                 1.0\n",
      "      val-validity          0.15399999916553497\n",
      "────────────────────────────────────────────────────────────────────────────────────────────────────────────────────────\n"
     ]
    },
    {
     "name": "stderr",
     "output_type": "stream",
     "text": [
      "LOCAL_RANK: 0 - CUDA_VISIBLE_DEVICES: [0]\n"
     ]
    },
    {
     "name": "stdout",
     "output_type": "stream",
     "text": [
      "\n",
      "items per bucket [39, 74, 132, 225, 290, 295, 264, 229, 194, 113, 77, 43, 20, 5]\n",
      "bucket batch sizes [266, 228, 200, 177, 160, 145, 133, 123, 114, 106, 100, 88, 66, 33]\n",
      "batches per bucket [1, 1, 1, 2, 2, 3, 2, 2, 2, 2, 1, 1, 1, 1]\n"
     ]
    },
    {
     "data": {
      "application/vnd.jupyter.widget-view+json": {
       "model_id": "ebcba67f3dcd4b199e12d8868cb65d84",
       "version_major": 2,
       "version_minor": 0
      },
      "text/plain": [
       "Validation: |          | 0/? [00:00<?, ?it/s]"
      ]
     },
     "metadata": {},
     "output_type": "display_data"
    },
    {
     "name": "stdout",
     "output_type": "stream",
     "text": [
      "────────────────────────────────────────────────────────────────────────────────────────────────────────────────────────\n",
      "     Validate metric           DataLoader 0\n",
      "────────────────────────────────────────────────────────────────────────────────────────────────────────────────────────\n",
      "   val-atom-stability       0.9609230160713196\n",
      "       val-energy            402.6440124511719\n",
      "     val-fc-validity        0.48750001192092896\n",
      " val-molecule-stability     0.5065000057220459\n",
      "     val-uniqueness                 1.0\n",
      "      val-validity           0.550000011920929\n",
      "────────────────────────────────────────────────────────────────────────────────────────────────────────────────────────\n"
     ]
    },
    {
     "name": "stderr",
     "output_type": "stream",
     "text": [
      "LOCAL_RANK: 0 - CUDA_VISIBLE_DEVICES: [0]\n"
     ]
    },
    {
     "name": "stdout",
     "output_type": "stream",
     "text": [
      "\n",
      "items per bucket [39, 74, 132, 225, 290, 295, 264, 229, 194, 113, 77, 43, 20, 5]\n",
      "bucket batch sizes [266, 228, 200, 177, 160, 145, 133, 123, 114, 106, 100, 88, 66, 33]\n",
      "batches per bucket [1, 1, 1, 2, 2, 3, 2, 2, 2, 2, 1, 1, 1, 1]\n"
     ]
    },
    {
     "data": {
      "application/vnd.jupyter.widget-view+json": {
       "model_id": "25f5c6239d0d462e9b327d41e2391bff",
       "version_major": 2,
       "version_minor": 0
      },
      "text/plain": [
       "Validation: |          | 0/? [00:00<?, ?it/s]"
      ]
     },
     "metadata": {},
     "output_type": "display_data"
    },
    {
     "name": "stdout",
     "output_type": "stream",
     "text": [
      "────────────────────────────────────────────────────────────────────────────────────────────────────────────────────────\n",
      "     Validate metric           DataLoader 0\n",
      "────────────────────────────────────────────────────────────────────────────────────────────────────────────────────────\n",
      "   val-atom-stability       0.9891571402549744\n",
      "       val-energy           282.60601806640625\n",
      "     val-fc-validity        0.8050000071525574\n",
      " val-molecule-stability      0.871999979019165\n",
      "     val-uniqueness                 1.0\n",
      "      val-validity          0.8309999704360962\n",
      "────────────────────────────────────────────────────────────────────────────────────────────────────────────────────────\n"
     ]
    },
    {
     "name": "stderr",
     "output_type": "stream",
     "text": [
      "LOCAL_RANK: 0 - CUDA_VISIBLE_DEVICES: [0]\n"
     ]
    },
    {
     "name": "stdout",
     "output_type": "stream",
     "text": [
      "\n",
      "items per bucket [39, 74, 132, 225, 290, 295, 264, 229, 194, 113, 77, 43, 20, 5]\n",
      "bucket batch sizes [266, 228, 200, 177, 160, 145, 133, 123, 114, 106, 100, 88, 66, 33]\n",
      "batches per bucket [1, 1, 1, 2, 2, 3, 2, 2, 2, 2, 1, 1, 1, 1]\n"
     ]
    },
    {
     "data": {
      "application/vnd.jupyter.widget-view+json": {
       "model_id": "a843c9ad0794440ba69640436cb9adb7",
       "version_major": 2,
       "version_minor": 0
      },
      "text/plain": [
       "Validation: |          | 0/? [00:00<?, ?it/s]"
      ]
     },
     "metadata": {},
     "output_type": "display_data"
    },
    {
     "name": "stdout",
     "output_type": "stream",
     "text": [
      "────────────────────────────────────────────────────────────────────────────────────────────────────────────────────────\n",
      "     Validate metric           DataLoader 0\n",
      "────────────────────────────────────────────────────────────────────────────────────────────────────────────────────────\n",
      "   val-atom-stability       0.9918482303619385\n",
      "       val-energy            258.0427551269531\n",
      "     val-fc-validity        0.8450000286102295\n",
      " val-molecule-stability     0.9164999723434448\n",
      "     val-uniqueness                 1.0\n",
      "      val-validity          0.8744999766349792\n",
      "────────────────────────────────────────────────────────────────────────────────────────────────────────────────────────\n"
     ]
    },
    {
     "name": "stderr",
     "output_type": "stream",
     "text": [
      "LOCAL_RANK: 0 - CUDA_VISIBLE_DEVICES: [0]\n"
     ]
    },
    {
     "name": "stdout",
     "output_type": "stream",
     "text": [
      "\n",
      "items per bucket [39, 74, 132, 225, 290, 295, 264, 229, 194, 113, 77, 43, 20, 5]\n",
      "bucket batch sizes [266, 228, 200, 177, 160, 145, 133, 123, 114, 106, 100, 88, 66, 33]\n",
      "batches per bucket [1, 1, 1, 2, 2, 3, 2, 2, 2, 2, 1, 1, 1, 1]\n"
     ]
    },
    {
     "data": {
      "application/vnd.jupyter.widget-view+json": {
       "model_id": "9347685f329741abad2fac45a20cb6bc",
       "version_major": 2,
       "version_minor": 0
      },
      "text/plain": [
       "Validation: |          | 0/? [00:00<?, ?it/s]"
      ]
     },
     "metadata": {},
     "output_type": "display_data"
    },
    {
     "name": "stdout",
     "output_type": "stream",
     "text": [
      "────────────────────────────────────────────────────────────────────────────────────────────────────────────────────────\n",
      "     Validate metric           DataLoader 0\n",
      "────────────────────────────────────────────────────────────────────────────────────────────────────────────────────────\n",
      "   val-atom-stability        0.994920551776886\n",
      "       val-energy            250.6403350830078\n",
      "     val-fc-validity        0.8615000247955322\n",
      " val-molecule-stability     0.9304999709129333\n",
      "     val-uniqueness                 1.0\n",
      "      val-validity          0.8870000243186951\n",
      "────────────────────────────────────────────────────────────────────────────────────────────────────────────────────────\n"
     ]
    }
   ],
   "source": [
    "inf_metrics = []\n",
    "model_steps = [5, 10, 20, 50, 100, 200]\n",
    "\n",
    "for steps in model_steps:\n",
    "    model.integrator.steps = steps\n",
    "    metrics = trainer.validate(model, datamodule=dm)[0]\n",
    "    inf_metrics.append(metrics)"
   ]
  },
  {
   "cell_type": "code",
   "execution_count": 27,
   "metadata": {},
   "outputs": [],
   "source": [
    "val_atom_stabilities = [metrics[\"val-atom-stability\"] for metrics in inf_metrics]\n",
    "val_mol_stabilities = [metrics[\"val-molecule-stability\"] for metrics in inf_metrics]\n",
    "val_validities = [metrics[\"val-validity\"] for metrics in inf_metrics]\n",
    "val_fc_validities = [metrics[\"val-fc-validity\"] for metrics in inf_metrics]"
   ]
  },
  {
   "cell_type": "code",
   "execution_count": 28,
   "metadata": {},
   "outputs": [
    {
     "data": {
      "image/png": "[encoded data removed]",
      "text/plain": [
       "<Figure size 640x480 with 1 Axes>"
      ]
     },
     "metadata": {},
     "output_type": "display_data"
    }
   ],
   "source": [
    "plt.plot(model_steps, val_atom_stabilities, marker=\"x\", color=\"aqua\", label=\"atom stab\")\n",
    "plt.plot(model_steps, val_mol_stabilities, marker=\"x\", color=\"lightgreen\", label=\"mol stab\")\n",
    "plt.plot(model_steps, val_fc_validities, marker=\"x\", color=\"orange\", label=\"con valid\")\n",
    "plt.plot(model_steps, val_validities, marker=\"x\", color=\"purple\", label=\"valid\")\n",
    "\n",
    "plt.xscale(\"log\")\n",
    "plt.legend()\n",
    "plt.show()"
   ]
  },
  {
   "attachments": {},
   "cell_type": "markdown",
   "metadata": {},
   "source": [
    "### Try adding noise to the inference\n",
    "\n",
    "Fix the number of integration steps and try different values of noise to see what happens to the generated molecules"
   ]
  },
  {
   "cell_type": "code",
   "execution_count": 22,
   "metadata": {},
   "outputs": [],
   "source": [
    "INTEGRATION_STEPS = 50"
   ]
  },
  {
   "cell_type": "code",
   "execution_count": 23,
   "metadata": {},
   "outputs": [],
   "source": [
    "noises = [0.1, 0.2, 0.5]\n",
    "integrators = []\n",
    "\n",
    "for noise in noises:\n",
    "    integrator = Integrator(\n",
    "        INTEGRATION_STEPS,\n",
    "        coord_noise_std=noise,\n",
    "        type_strategy=model.integrator.type_strategy,\n",
    "        bond_strategy=model.integrator.bond_strategy,\n",
    "        type_mask_index=model.integrator.type_mask_index,\n",
    "        bond_mask_index=model.integrator.bond_mask_index,\n",
    "        cat_noise_level=model.integrator.cat_noise_level\n",
    "    )\n",
    "    integrators.append(integrator)"
   ]
  },
  {
   "cell_type": "code",
   "execution_count": 24,
   "metadata": {},
   "outputs": [
    {
     "name": "stderr",
     "output_type": "stream",
     "text": [
      "LOCAL_RANK: 0 - CUDA_VISIBLE_DEVICES: [0]\n"
     ]
    },
    {
     "name": "stdout",
     "output_type": "stream",
     "text": [
      "\n",
      "items per bucket [45, 77, 158, 199, 289, 300, 280, 240, 153, 112, 83, 46, 17, 1]\n",
      "bucket batch sizes [266, 228, 200, 177, 160, 145, 133, 123, 114, 106, 100, 88, 66, 33]\n",
      "batches per bucket [1, 1, 1, 2, 2, 3, 3, 2, 2, 2, 1, 1, 1, 1]\n"
     ]
    },
    {
     "data": {
      "application/vnd.jupyter.widget-view+json": {
       "model_id": "afb8aa2c3486412bb08af9e616a350ce",
       "version_major": 2,
       "version_minor": 0
      },
      "text/plain": [
       "Validation: |          | 0/? [00:00<?, ?it/s]"
      ]
     },
     "metadata": {},
     "output_type": "display_data"
    },
    {
     "name": "stdout",
     "output_type": "stream",
     "text": [
      "────────────────────────────────────────────────────────────────────────────────────────────────────────────────────────\n",
      "     Validate metric           DataLoader 0\n",
      "────────────────────────────────────────────────────────────────────────────────────────────────────────────────────────\n",
      "   val-atom-stability       0.9958785176277161\n",
      "       val-energy           301.11016845703125\n",
      "     val-fc-validity        0.8134999871253967\n",
      " val-molecule-stability     0.8709999918937683\n",
      "       val-novelty          0.9982196092605591\n",
      "     val-uniqueness                 1.0\n",
      "      val-validity          0.8424999713897705\n",
      "────────────────────────────────────────────────────────────────────────────────────────────────────────────────────────\n"
     ]
    },
    {
     "name": "stderr",
     "output_type": "stream",
     "text": [
      "LOCAL_RANK: 0 - CUDA_VISIBLE_DEVICES: [0]\n"
     ]
    },
    {
     "name": "stdout",
     "output_type": "stream",
     "text": [
      "\n",
      "items per bucket [45, 77, 158, 199, 289, 300, 280, 240, 153, 112, 83, 46, 17, 1]\n",
      "bucket batch sizes [266, 228, 200, 177, 160, 145, 133, 123, 114, 106, 100, 88, 66, 33]\n",
      "batches per bucket [1, 1, 1, 2, 2, 3, 3, 2, 2, 2, 1, 1, 1, 1]\n"
     ]
    },
    {
     "data": {
      "application/vnd.jupyter.widget-view+json": {
       "model_id": "a2d7bdc088b1416481f2059f5f437c7a",
       "version_major": 2,
       "version_minor": 0
      },
      "text/plain": [
       "Validation: |          | 0/? [00:00<?, ?it/s]"
      ]
     },
     "metadata": {},
     "output_type": "display_data"
    },
    {
     "name": "stdout",
     "output_type": "stream",
     "text": [
      "────────────────────────────────────────────────────────────────────────────────────────────────────────────────────────\n",
      "     Validate metric           DataLoader 0\n",
      "────────────────────────────────────────────────────────────────────────────────────────────────────────────────────────\n",
      "   val-atom-stability       0.9958785176277161\n",
      "       val-energy           294.61639404296875\n",
      "     val-fc-validity         0.809499979019165\n",
      " val-molecule-stability     0.8784999847412109\n",
      "       val-novelty          0.9970059990882874\n",
      "     val-uniqueness                 1.0\n",
      "      val-validity          0.8349999785423279\n",
      "────────────────────────────────────────────────────────────────────────────────────────────────────────────────────────\n"
     ]
    },
    {
     "name": "stderr",
     "output_type": "stream",
     "text": [
      "LOCAL_RANK: 0 - CUDA_VISIBLE_DEVICES: [0]\n"
     ]
    },
    {
     "name": "stdout",
     "output_type": "stream",
     "text": [
      "\n",
      "items per bucket [45, 77, 158, 199, 289, 300, 280, 240, 153, 112, 83, 46, 17, 1]\n",
      "bucket batch sizes [266, 228, 200, 177, 160, 145, 133, 123, 114, 106, 100, 88, 66, 33]\n",
      "batches per bucket [1, 1, 1, 2, 2, 3, 3, 2, 2, 2, 1, 1, 1, 1]\n"
     ]
    },
    {
     "data": {
      "application/vnd.jupyter.widget-view+json": {
       "model_id": "cff8e032dbe944f6830bf6dd07cf1f95",
       "version_major": 2,
       "version_minor": 0
      },
      "text/plain": [
       "Validation: |          | 0/? [00:00<?, ?it/s]"
      ]
     },
     "metadata": {},
     "output_type": "display_data"
    },
    {
     "name": "stdout",
     "output_type": "stream",
     "text": [
      "────────────────────────────────────────────────────────────────────────────────────────────────────────────────────────\n",
      "     Validate metric           DataLoader 0\n",
      "────────────────────────────────────────────────────────────────────────────────────────────────────────────────────────\n",
      "   val-atom-stability       0.9959351420402527\n",
      "       val-energy           301.76934814453125\n",
      "     val-fc-validity        0.8034999966621399\n",
      " val-molecule-stability     0.8790000081062317\n",
      "       val-novelty          0.9981992840766907\n",
      "     val-uniqueness                 1.0\n",
      "      val-validity          0.8330000042915344\n",
      "────────────────────────────────────────────────────────────────────────────────────────────────────────────────────────\n"
     ]
    }
   ],
   "source": [
    "inf_metrics = []\n",
    "for integrator in integrators:\n",
    "    model.integrator = integrator\n",
    "    metrics = trainer.validate(model, datamodule=dm)[0]\n",
    "    inf_metrics.append(metrics)"
   ]
  },
  {
   "attachments": {},
   "cell_type": "markdown",
   "metadata": {},
   "source": [
    "### Different amounts of categorical noise"
   ]
  },
  {
   "cell_type": "code",
   "execution_count": 25,
   "metadata": {},
   "outputs": [],
   "source": [
    "INTEGRATION_STEPS = 100"
   ]
  },
  {
   "cell_type": "code",
   "execution_count": 26,
   "metadata": {},
   "outputs": [
    {
     "name": "stderr",
     "output_type": "stream",
     "text": [
      "LOCAL_RANK: 0 - CUDA_VISIBLE_DEVICES: [0]\n"
     ]
    },
    {
     "name": "stdout",
     "output_type": "stream",
     "text": [
      "\n",
      "items per bucket [45, 77, 158, 199, 289, 300, 280, 240, 153, 112, 83, 46, 17, 1]\n",
      "bucket batch sizes [266, 228, 200, 177, 160, 145, 133, 123, 114, 106, 100, 88, 66, 33]\n",
      "batches per bucket [1, 1, 1, 2, 2, 3, 3, 2, 2, 2, 1, 1, 1, 1]\n"
     ]
    },
    {
     "data": {
      "application/vnd.jupyter.widget-view+json": {
       "model_id": "a977b1a380d8421bbb7aa54135e2d32d",
       "version_major": 2,
       "version_minor": 0
      },
      "text/plain": [
       "Validation: |          | 0/? [00:00<?, ?it/s]"
      ]
     },
     "metadata": {},
     "output_type": "display_data"
    },
    {
     "name": "stdout",
     "output_type": "stream",
     "text": [
      "────────────────────────────────────────────────────────────────────────────────────────────────────────────────────────\n",
      "     Validate metric           DataLoader 0\n",
      "────────────────────────────────────────────────────────────────────────────────────────────────────────────────────────\n",
      "   val-atom-stability       0.9974523782730103\n",
      "       val-energy            280.2646179199219\n",
      "     val-fc-validity        0.8615000247955322\n",
      " val-molecule-stability      0.921500027179718\n",
      "       val-novelty          0.9977490305900574\n",
      "     val-uniqueness                 1.0\n",
      "      val-validity          0.8884999752044678\n",
      "────────────────────────────────────────────────────────────────────────────────────────────────────────────────────────\n"
     ]
    },
    {
     "name": "stderr",
     "output_type": "stream",
     "text": [
      "LOCAL_RANK: 0 - CUDA_VISIBLE_DEVICES: [0]\n"
     ]
    },
    {
     "name": "stdout",
     "output_type": "stream",
     "text": [
      "\n",
      "items per bucket [45, 77, 158, 199, 289, 300, 280, 240, 153, 112, 83, 46, 17, 1]\n",
      "bucket batch sizes [266, 228, 200, 177, 160, 145, 133, 123, 114, 106, 100, 88, 66, 33]\n",
      "batches per bucket [1, 1, 1, 2, 2, 3, 3, 2, 2, 2, 1, 1, 1, 1]\n"
     ]
    },
    {
     "data": {
      "application/vnd.jupyter.widget-view+json": {
       "model_id": "28218d92c9d3434b91872febbc8bd72a",
       "version_major": 2,
       "version_minor": 0
      },
      "text/plain": [
       "Validation: |          | 0/? [00:00<?, ?it/s]"
      ]
     },
     "metadata": {},
     "output_type": "display_data"
    },
    {
     "name": "stdout",
     "output_type": "stream",
     "text": [
      "────────────────────────────────────────────────────────────────────────────────────────────────────────────────────────\n",
      "     Validate metric           DataLoader 0\n",
      "────────────────────────────────────────────────────────────────────────────────────────────────────────────────────────\n",
      "   val-atom-stability       0.9964107275009155\n",
      "       val-energy            271.7619323730469\n",
      "     val-fc-validity        0.8450000286102295\n",
      " val-molecule-stability     0.9075000286102295\n",
      "       val-novelty          0.9959561228752136\n",
      "     val-uniqueness                 1.0\n",
      "      val-validity          0.8654999732971191\n",
      "────────────────────────────────────────────────────────────────────────────────────────────────────────────────────────\n"
     ]
    },
    {
     "name": "stderr",
     "output_type": "stream",
     "text": [
      "LOCAL_RANK: 0 - CUDA_VISIBLE_DEVICES: [0]\n"
     ]
    },
    {
     "name": "stdout",
     "output_type": "stream",
     "text": [
      "\n",
      "items per bucket [45, 77, 158, 199, 289, 300, 280, 240, 153, 112, 83, 46, 17, 1]\n",
      "bucket batch sizes [266, 228, 200, 177, 160, 145, 133, 123, 114, 106, 100, 88, 66, 33]\n",
      "batches per bucket [1, 1, 1, 2, 2, 3, 3, 2, 2, 2, 1, 1, 1, 1]\n"
     ]
    },
    {
     "data": {
      "application/vnd.jupyter.widget-view+json": {
       "model_id": "4afa33a247ec4795a6e99fa8e9d22086",
       "version_major": 2,
       "version_minor": 0
      },
      "text/plain": [
       "Validation: |          | 0/? [00:00<?, ?it/s]"
      ]
     },
     "metadata": {},
     "output_type": "display_data"
    },
    {
     "name": "stdout",
     "output_type": "stream",
     "text": [
      "────────────────────────────────────────────────────────────────────────────────────────────────────────────────────────\n",
      "     Validate metric           DataLoader 0\n",
      "────────────────────────────────────────────────────────────────────────────────────────────────────────────────────────\n",
      "   val-atom-stability       0.9943839311599731\n",
      "       val-energy           285.63494873046875\n",
      "     val-fc-validity        0.8040000200271606\n",
      " val-molecule-stability     0.8510000109672546\n",
      "       val-novelty          0.9975947141647339\n",
      "     val-uniqueness                 1.0\n",
      "      val-validity          0.8314999938011169\n",
      "────────────────────────────────────────────────────────────────────────────────────────────────────────────────────────\n"
     ]
    },
    {
     "name": "stderr",
     "output_type": "stream",
     "text": [
      "LOCAL_RANK: 0 - CUDA_VISIBLE_DEVICES: [0]\n"
     ]
    },
    {
     "name": "stdout",
     "output_type": "stream",
     "text": [
      "\n",
      "items per bucket [45, 77, 158, 199, 289, 300, 280, 240, 153, 112, 83, 46, 17, 1]\n",
      "bucket batch sizes [266, 228, 200, 177, 160, 145, 133, 123, 114, 106, 100, 88, 66, 33]\n",
      "batches per bucket [1, 1, 1, 2, 2, 3, 3, 2, 2, 2, 1, 1, 1, 1]\n"
     ]
    },
    {
     "data": {
      "application/vnd.jupyter.widget-view+json": {
       "model_id": "3175a3e3068f4f5ea0231cdaee36a7c9",
       "version_major": 2,
       "version_minor": 0
      },
      "text/plain": [
       "Validation: |          | 0/? [00:00<?, ?it/s]"
      ]
     },
     "metadata": {},
     "output_type": "display_data"
    },
    {
     "name": "stdout",
     "output_type": "stream",
     "text": [
      "────────────────────────────────────────────────────────────────────────────────────────────────────────────────────────\n",
      "     Validate metric           DataLoader 0\n",
      "────────────────────────────────────────────────────────────────────────────────────────────────────────────────────────\n",
      "   val-atom-stability       0.9803211092948914\n",
      "       val-energy            326.2793884277344\n",
      "     val-fc-validity        0.6380000114440918\n",
      " val-molecule-stability     0.6585000157356262\n",
      "       val-novelty          0.9992636442184448\n",
      "     val-uniqueness                 1.0\n",
      "      val-validity          0.6790000200271606\n",
      "────────────────────────────────────────────────────────────────────────────────────────────────────────────────────────\n"
     ]
    },
    {
     "name": "stderr",
     "output_type": "stream",
     "text": [
      "LOCAL_RANK: 0 - CUDA_VISIBLE_DEVICES: [0]\n"
     ]
    },
    {
     "name": "stdout",
     "output_type": "stream",
     "text": [
      "\n",
      "items per bucket [45, 77, 158, 199, 289, 300, 280, 240, 153, 112, 83, 46, 17, 1]\n",
      "bucket batch sizes [266, 228, 200, 177, 160, 145, 133, 123, 114, 106, 100, 88, 66, 33]\n",
      "batches per bucket [1, 1, 1, 2, 2, 3, 3, 2, 2, 2, 1, 1, 1, 1]\n"
     ]
    },
    {
     "data": {
      "application/vnd.jupyter.widget-view+json": {
       "model_id": "1a642ab4b36945fcb1b5061c1a323085",
       "version_major": 2,
       "version_minor": 0
      },
      "text/plain": [
       "Validation: |          | 0/? [00:00<?, ?it/s]"
      ]
     },
     "metadata": {},
     "output_type": "display_data"
    },
    {
     "name": "stdout",
     "output_type": "stream",
     "text": [
      "────────────────────────────────────────────────────────────────────────────────────────────────────────────────────────\n",
      "     Validate metric           DataLoader 0\n",
      "────────────────────────────────────────────────────────────────────────────────────────────────────────────────────────\n",
      "   val-atom-stability       0.8373944163322449\n",
      "       val-energy            530.7355346679688\n",
      "     val-fc-validity        0.15700000524520874\n",
      " val-molecule-stability     0.15449999272823334\n",
      "       val-novelty                  1.0\n",
      "     val-uniqueness                 1.0\n",
      "      val-validity           0.226500004529953\n",
      "────────────────────────────────────────────────────────────────────────────────────────────────────────────────────────\n"
     ]
    }
   ],
   "source": [
    "noise_levels = [1, 2, 3, 5, 10]\n",
    "\n",
    "inf_metrics = []\n",
    "for level in noise_levels:\n",
    "    integrator = Integrator(\n",
    "        INTEGRATION_STEPS,\n",
    "        type_strategy=\"uniform-sample\",\n",
    "        bond_strategy=\"uniform-sample\",\n",
    "        cat_noise_level=level\n",
    "    )\n",
    "    model.integrator = integrator\n",
    "    metrics = trainer.validate(model, datamodule=dm)[0]\n",
    "    inf_metrics.append(metrics)"
   ]
  },
  {
   "attachments": {},
   "cell_type": "markdown",
   "metadata": {},
   "source": [
    "## Analyse Model Outputs"
   ]
  },
  {
   "cell_type": "code",
   "execution_count": 20,
   "metadata": {},
   "outputs": [],
   "source": [
    "def mol_from_tensors(vocab, coords, atom_dists, bond_dists=None, charge_dists=None):\n",
    "    # Take index with highest probability and convert to token\n",
    "    vocab_indices = torch.argmax(atom_dists, dim=1).tolist()\n",
    "    tokens = vocab.tokens_from_indices(vocab_indices)\n",
    "\n",
    "    # Convert to atomic number bond list format\n",
    "    bonds = None\n",
    "    if bond_dists is not None:\n",
    "        bond_types = torch.argmax(bond_dists, dim=-1)\n",
    "        bonds = smolF.bonds_from_adj(bond_types)\n",
    "        bonds = bonds.long().numpy()\n",
    "\n",
    "    # Convert index from model to actual atom charge\n",
    "    charges = None\n",
    "    if charge_dists is not None:\n",
    "        charge_types = torch.argmax(charge_dists, dim=-1).tolist()\n",
    "        charges = [smolRD.IDX_CHARGE_MAP[idx] for idx in charge_types]\n",
    "        charges = np.array(charges)\n",
    "\n",
    "    coords = coords.numpy()\n",
    "    return smolRD.mol_from_atoms(coords, tokens, bonds=bonds, charges=charges, sanitize=False)\n",
    "\n",
    "\n",
    "def mols_from_tensors(vocab, coords, atom_dists, mask, bond_dists=None, charge_dists=None):\n",
    "    coords_list = []\n",
    "    atom_dists_list = []\n",
    "    bond_dists_list = []\n",
    "    charge_dists_list = []\n",
    "\n",
    "    n_atoms = mask.sum(dim=1)\n",
    "    for idx in range(coords.size(0)):\n",
    "        mol_atoms = n_atoms[idx]\n",
    "        mol_coords = coords[idx, :mol_atoms, :].cpu()\n",
    "        mol_token_dists = atom_dists[idx, :mol_atoms, :].cpu()\n",
    "\n",
    "        coords_list.append(mol_coords)\n",
    "        atom_dists_list.append(mol_token_dists)\n",
    "\n",
    "        if bond_dists is not None:\n",
    "            mol_bond_dists = bond_dists[idx, :mol_atoms, :mol_atoms, :].cpu()\n",
    "            bond_dists_list.append(mol_bond_dists)\n",
    "        else:\n",
    "            bond_dists_list.append(None)\n",
    "\n",
    "        if charge_dists is not None:\n",
    "            mol_charge_dists = charge_dists[idx, :mol_atoms, :].cpu()\n",
    "            charge_dists_list.append(mol_charge_dists)\n",
    "        else:\n",
    "            charge_dists_list.append(None)\n",
    "\n",
    "    zipped = zip(coords_list, atom_dists_list, bond_dists_list, charge_dists_list)\n",
    "    mols = [mol_from_tensors(vocab, *ts) for ts in zipped]\n",
    "    return mols\n",
    "\n",
    "\n",
    "def generate_mols(generated, vocab, use_bonds=True):\n",
    "    coords = generated[\"coords\"]\n",
    "    atom_dists = generated[\"atomics\"]\n",
    "    bond_dists = generated[\"bonds\"] if use_bonds else None\n",
    "    charge_dists = generated[\"charges\"] if use_bonds else None\n",
    "    masks = generated[\"mask\"]\n",
    "\n",
    "    mols = mols_from_tensors(\n",
    "        vocab,\n",
    "        coords,\n",
    "        atom_dists,\n",
    "        masks,\n",
    "        bond_dists=bond_dists,\n",
    "        charge_dists=charge_dists\n",
    "    )\n",
    "    return mols"
   ]
  },
  {
   "cell_type": "code",
   "execution_count": 21,
   "metadata": {},
   "outputs": [],
   "source": [
    "def check_invalidities(mols):\n",
    "    problems = {\n",
    "        \"atom-valence\": 0,\n",
    "        \"atom-kekulize\": 0,\n",
    "        \"kekulize\": 0\n",
    "    }\n",
    "    mol_idxs = {key: [] for key in problems.keys()}\n",
    "\n",
    "    for idx, mol in enumerate(mols):\n",
    "        if mol is None:\n",
    "            continue\n",
    "        try:\n",
    "            Chem.SanitizeMol(Chem.Mol(mol))\n",
    "        except Chem.AtomValenceException:\n",
    "            problems[\"atom-valence\"] += 1\n",
    "            mol_idxs[\"atom-valence\"].append(idx)\n",
    "        except Chem.AtomKekulizeException:\n",
    "            problems[\"atom-kekulize\"] += 1\n",
    "            mol_idxs[\"atom-kekulize\"].append(idx)\n",
    "        except Chem.KekulizeException:\n",
    "            problems[\"kekulize\"] += 1\n",
    "            mol_idxs[\"kekulize\"].append(idx)\n",
    "\n",
    "    return problems, mol_idxs"
   ]
  },
  {
   "cell_type": "code",
   "execution_count": 22,
   "metadata": {},
   "outputs": [],
   "source": [
    "CKPT_PATH = \"../../../models/geom-final/last.ckpt\"\n",
    "INTEGRATION_STEPS = 100\n",
    "CAT_NOISE_LEVEL = 1"
   ]
  },
  {
   "cell_type": "code",
   "execution_count": 23,
   "metadata": {},
   "outputs": [],
   "source": [
    "integrator = Integrator(\n",
    "    INTEGRATION_STEPS,\n",
    "    type_strategy=model.integrator.type_strategy,\n",
    "    bond_strategy=model.integrator.bond_strategy,\n",
    "    type_mask_index=model.integrator.type_mask_index,\n",
    "    bond_mask_index=model.integrator.bond_mask_index,\n",
    "    cat_noise_level=CAT_NOISE_LEVEL\n",
    ")"
   ]
  },
  {
   "cell_type": "code",
   "execution_count": 24,
   "metadata": {},
   "outputs": [],
   "source": [
    "# Choose a value for integration steps and analyse the output molecules\n",
    "# model = load_model(CKPT_PATH, vocab, integration_steps=INTEGRATION_STEPS, train_smiles=train_smiles)\n",
    "model.integrator = integrator"
   ]
  },
  {
   "cell_type": "code",
   "execution_count": 25,
   "metadata": {},
   "outputs": [
    {
     "name": "stdout",
     "output_type": "stream",
     "text": [
      "\n",
      "items per bucket [25, 30, 74, 123, 122, 148, 156, 113, 92, 58, 36, 17, 5, 1]\n",
      "bucket batch sizes [168, 144, 128, 112, 104, 96, 88, 80, 72, 72, 64, 56, 40, 24]\n",
      "batches per bucket [1, 1, 1, 2, 2, 2, 2, 2, 2, 1, 1, 1, 1, 1]\n"
     ]
    }
   ],
   "source": [
    "val_dl = dm.val_dataloader()\n",
    "val_iter = iter(val_dl)\n",
    "batch = next(val_iter)[0]"
   ]
  },
  {
   "cell_type": "code",
   "execution_count": 26,
   "metadata": {},
   "outputs": [],
   "source": [
    "model = model.to(\"cuda\")\n",
    "batch = {k: v.cuda() for k, v in batch.items()}\n",
    "output = model._generate(batch, INTEGRATION_STEPS)"
   ]
  },
  {
   "cell_type": "code",
   "execution_count": 27,
   "metadata": {},
   "outputs": [],
   "source": [
    "mols = model._generate_mols(output)\n",
    "smiles = [smolRD.smiles_from_mol(mol) if mol is not None else None for mol in mols]"
   ]
  },
  {
   "cell_type": "code",
   "execution_count": 28,
   "metadata": {},
   "outputs": [
    {
     "name": "stdout",
     "output_type": "stream",
     "text": [
      "0     [H]c1c([H])c([H])c(N([H])N([H])C(=O)C(=O)N([H])c2c([H])c([H])c([H])c([H])c2OC([H])([H])[H])c(Cl)c1[H]\n",
      "1     [H]OC(=O)C([H])(N1C(=O)C([H])([H])C([H])([H])C([H])([H])C1([H])[H])C([H])([H])c1c([H])c([H])c([H])c([H])c1[H]\n",
      "2     [H]OC([H])([H])C([H])(O[H])c1c([H])c(OC([H])([H])[H])c2c(c1OC(=O)N([H])[H])OC([H])([H])C([H])([H])O2\n",
      "3     [H]c1c([H])c(S(=O)(=O)N([H])[H])c([H])c([H])c1N([H])C(=O)C1([H])C([H])(Cl)C1(C([H])([H])[H])C([H])([H])[H]\n",
      "4     [H]c1c([H])c([H])c2c(c1[H])N=C(c1c([H])c([H])c([H])c(C([H])([H])[H])c1[H])N([H])C([H])([H])C2([H])[H]\n",
      "5     [H]Oc1c([H])c([H])c([H])c2c1C([H])([H])C([H])(N=C([H])c1c([H])c([H])c(Cl)c([H])c1[H])C([H])([H])C2([H])[H]\n",
      "6     [H]OC(=O)C([H])(Sc1nn([H])c(=O)n1C([H])([H])[H])N([H])c1c([H])c([H])c([H])c([H])c1OC([H])([H])[H]\n",
      "7     [H]c1c([H])c([H])c2c(nc(SC([H])([H])C(=O)C([H])([H])C([H])([H])C([H])([H])OC([H])([H])[H])n2[H])c1[H]\n",
      "8     [H]c1c([H])c(N(C2=NC([H])([H])C([H])([H])S2)C([H])([H])C([H])([H])[H])c([N+](=O)[O-])c([H])c1C(=O)ON([H])[H]\n",
      "9     [H]C(=C1C([H])([H])OC(C([H])([H])[H])(C([H])([H])[H])C([H])([H])C1([H])[H])c1c([H])c([H])c(F)c([H])c1[H]\n",
      "10    [H]c1c([H])c(OC([H])([H])[H])c([H])c(-n2c([H])c([H])c(C([H])([H])OC(=O)C([H])([H])[H])c(C#N)c2=O)c1[H]\n",
      "11    [H]c1nc(N([H])[H])c2c([H])c(S(=O)(=O)C(C([H])([H])[H])(C([H])([H])[H])C([H])([H])[H])c(C([H])([H])[H])c([H])c2n1\n",
      "12    [H]Oc1c([H])c([H])c([H])c([H])c1N([H])C(=O)N([H])c1c([H])c(Cl)c([H])c([H])c1OC([H])([H])[H]\n",
      "13    [H]c1c([H])c(C([H])([H])[H])c([H])c([H])c1C(=O)OC([H])([H])C([H])([H])[N+]([H])(C([H])([H])[H])C([H])([H])C([H])([H])[H]\n",
      "14    [H]Oc1c([H])c([H])c(C([H])(C([H])=C([H])[H])C([H])([H])c2nc(C([H])([H])[H])c([H])n2[H])c([H])c1[H]\n",
      "15    [H]c1nc(C([H])([H])N2C(=O)N3C([H])([H])C([H])([H])C([H])(C([H])([H])[H])C([H])([H])C3([H])C2=O)c([H])c([H])c1[H]\n",
      "16    [H]c1c([H])c([H])c(C([H])([H])N2C([H])([H])C([H])([H])C(=O)OC(C([H])([H])[H])(C([H])([H])[H])C2([H])[H])c([H])c1[H]\n",
      "17    [H]c1oc(C([H])([H])N([H])c2nc(N([H])[H])nnc2C([H])([H])c2c([H])c([H])c([H])c([H])c2[H])c([H])c1[H]\n",
      "18    [H]c1c([H])c([H])c2c(c1[H])Sc1c([H])c([H])c([H])c([H])c1N2C([H])([H])C([H])([H])[N+]([H])([H])C([H])([H])[H]\n",
      "19    [H]OC([H])=C([H])C1(Sc2nnc([H])n2C([H])(C([H])([H])[H])C([H])([H])[H])C([H])([H])C([H])([H])C1([H])[H]\n",
      "20    [H]c1c([H])c2c3c(nc4c(c3c1[H])C([H])([H])C([H])([H])C([H])([H])C4([H])[H])C([H])([H])C([H])([H])C2([H])[H]\n",
      "21    [H]c1nc2c(c3nc(N([H])[H])n(C([H])([H])C([H])([H])Cl)c(=O)c13)N([H])C([H])(C([H])([H])[H])C([H])([H])S2\n",
      "22    [H]Oc1c([H])c([H])c([H])c([H])c1C(=O)N1SC(=S)N(C([H])([H])[H])C1([H])c1c([H])c([H])c([H])c([H])c1Cl\n",
      "23    [H]c1c([H])c([H])c(C([H])([H])[H])c(N([H])C2([H])C([H])([H])C([H])([H])C([H])([H])C([H])([N+]([H])([H])[H])C2([H])[H])c1[H]\n",
      "24    [H]Oc1c([H])c(OC([H])([H])[H])c2c3c(n([H])c2c1[H])N([H])C(=O)C([H])(C([H])([H])O[H])C3([H])[H]\n",
      "25    [H]c1c([H])c([H])c(C([H])([H])C(=O)OC([H])([H])C2([H])C([H])([H])C([H])([H])N([H])C([H])([H])C2([H])[H])c([H])c1[H]\n",
      "26    [H]c1c(N([H])[H])c(C([H])([H])C([H])([H])C([H])([H])C([H])([H])[H])c([H])c2c1C([H])([H])C([H])([H])C([H])([H])O2\n",
      "27    [H]OC(=O)c1c([H])c([H])c([H])c2c1C([H])(N([H])C(=O)C([H])([H])[H])SC2([H])C([H])([H])C(=O)O[H]\n",
      "28    [H]c1nc(N([H])C(=S)N([H])C(=O)C([H])([H])C([H])([H])c2c([H])c([H])c([H])c([H])c2[H])c([H])c([H])c1[H]\n",
      "29    [H]Oc1c(C(=O)N2C([H])([H])C([H])([H])C([H])([H])C2([H])[H])c([H])nn1-c1c([H])c([H])c([H])c(Cl)c1[H]\n",
      "30    [H]c1oc(C([H])([H])n2c([H])c([H])c3c2c(=O)n([H])c(=O)n3-c2c([H])c([H])c([H])c([H])c2[H])c([H])c1[H]\n",
      "31    [H]OC(=O)c1c([H])c([H])c(-c2c([H])c([H])c3c([H])c([H])c([H])c([H])c3c2[H])c([N+](=O)[O-])c1[H]\n",
      "32    [H]c1c([H])c([H])c(C([H])([H])C([H])([H])N([H])C(=O)C([H])([H])Oc2nn([H])c(=O)n([H])c2=O)c([H])c1[H]\n",
      "33    [H]c1c(N2C([H])([H])C([H])([H])C([H])([H])C([H])(N([H])[H])C2([H])[H])c([H])c([N+](=O)[O-])c([H])c1[N+](=O)[O-]\n",
      "34    [H]c1c([H])c(C2=NOC3(N2C([H])([H])[H])C([H])([H])C([H])([H])C([H])([H])C([H])([H])C3([H])[H])c(Cl)c([H])c1Cl\n",
      "35    [H]Oc1c(C(=O)C2([H])C([H])([H])C([H])([H])C([H])([H])C([H])([H])C2([H])[H])oc2c([H])c([H])c([H])c([H])c12\n",
      "36    [H]On1c(N([H])C(=O)C([H])([H])C([H])(C([H])([H])[H])C([H])([H])C([H])([H])[H])nc2c([H])c([H])c([H])c([H])c21\n",
      "37    [H]c1c([H])c([H])c(C([H])([H])C([H])([H])N(c2nnn([H])c(=S)n2)C([H])([H])C([H])([H])[H])c([H])c1[H]\n",
      "38    [H]c1c([H])c([H])c(OC([H])([H])C(=O)n2c(N([H])[H])nc3c([H])c([H])c([H])c([H])c32)c([H])c1[H]\n",
      "39    [H]c1c([H])c(C([H])([H])N2C([H])([H])C([H])([H])C([H])([H])C2([H])[H])n(C([H])([H])C([H])([H])[H])c1C([H])([H])[H]\n",
      "40    [H]C([H])([H])c1nc2nc(C3([H])C([H])([H])C([H])([H])C([H])([H])C([H])([H])C3([H])[H])nn2c(C([H])([H])[H])c1Cl\n",
      "41    [H]OC([H])([H])C([H])(C(=O)OC([H])([H])C([H])=C([H])[H])C([H])([H])S(=O)(=O)N([H])c1nc([H])c([H])n1[H]\n",
      "42    [H]c1c([H])c([H])c(S(=O)(=O)C([H])([H])[H])c(P2(=O)OC([H])(C([H])([H])[H])C([H])(C([H])([H])C([H])([H])[H])O2)c1[H]\n",
      "43    [H]c1nc([H])c([H])c(C([H])([H])N([H])S(=O)(=O)c2c(C(=O)C([H])([H])C([H])([H])[H])nc([H])n2[H])c1[H]\n",
      "44    [H]N1C(=O)C([H])([S+]=C([O-])C([H])(C([H])([H])[H])C([H])([H])[H])C([H])([H])C(=O)N1C([H])(C([H])([H])[H])C([H])([H])[H]\n",
      "45    [H]c1c([H])c([H])c(C([H])([H])C([H])([H])C(=O)OC([H])([H])c2nn(C([H])([H])[H])c(=O)n([H])c2=O)c([H])c1[H]\n",
      "46    [H]c1c([H])c([H])c2c([H])c(C(=O)C([H])([H])[H])c(N3C([H])([H])C([H])([H])OC([H])([H])C3([H])[H])nc2c1[H]\n",
      "47    [H]c1c([H])c(C([H])([H])C2([H])SC(=NC([H])([H])C(=O)OC([H])([H])[H])N([H])C2=O)c(Cl)c([H])c1F\n",
      "48    [H]c1nc(OC([H])([H])C([H])([H])[H])c(N([H])C(=S)N([H])C(=O)C([H])([H])C(=O)OC([H])([H])[H])c([H])c1[H]\n",
      "49    [H]Oc1c(-c2c([H])nc([H])c3oc4c([H])c([H])c([H])c([H])c4c(=O)c23)c([H])c([H])c([H])c1C([H])([H])[H]\n",
      "50    [H]c1c([H])c(S(=O)(=O)N([H])c2c(OC([H])([H])[H])c(Cl)c([H])c([H])c2C([H])([H])[H])c([H])c([H])c1Cl\n",
      "51    [H]Oc1c([H])c([H])c([H])c([H])c1-c1oc([H])nc1-c1c([H])n([H])c2c([H])c([H])c([H])c([H])c12\n",
      "52    [H]c1c([H])c([H])c(OC([H])([H])C([H])([H])N([H])C(=O)C2([H])C(=O)C([H])([H])C([H])([H])C2([H])[H])c([H])c1[H]\n",
      "53    [H]c1nc2nc(C([H])([H])[S+]=c3nc4c([H])c([H])c([H])c([H])c4c([O-])n3[H])c([H])c(=O)n2c([H])c1[H]\n",
      "54    [H]c1c([H])c([H])c2c(c1[H])OC([H])([H])C([H])([H])C([H])([H])C([H])(C([H])([H])C([H])([H])[N+]([H])([H])[H])C([H])([H])O2\n",
      "55    [H]c1c([N+](=O)[O-])c([H])c2nc([H])n(C([H])([H])N3C([H])([H])C([H])([H])OC([H])([H])C3([H])[H])c2c1[H]\n",
      "56    None\n",
      "57    [H]Oc1nc(C([H])([H])c2c([H])c([H])c([H])c([H])c2C([H])([H])[H])n(-c2c([H])c([H])c([H])c([H])c2[H])c1[H]\n",
      "58    [H]c1c([H])c([H])c(N([H])C(=O)C([H])([H])Sc2nnc3n2C([H])(C([H])([H])[H])C([H])([H])C3([H])[H])c([H])c1[H]\n",
      "59    [H]Oc1c([H])c([H])c(-c2c([H])c(N([H])N=C([H])c3c([H])c([H])c([H])c([H])c3[H])nn2[H])c([H])c1[H]\n",
      "60    [H]c1c([H])c(N([H])c2nc(SC([H])([H])[H])nc3c([H])c([H])c([H])c([H])c23)c([H])c([H])c1OC([H])([H])[H]\n",
      "61    [H]c1c([H])c([H])c(C([H])([H])N([H])C([H])([H])c2c([H])c([H])c([H])c(C(F)(F)F)c2[H])c([H])c1[H]\n",
      "62    [H]OC1([H])C([H])([H])N([H])C([H])(C([H])([H])c2c([H])c(N([H])[H])c([H])c(=O)n2[H])C([H])([H])C1([H])[H]\n",
      "63    [H]OC([H])([H])C1([H])c2c([H])c([H])c([H])c([H])c2Oc2c([H])c([H])c(C([H])([H])[H])c([H])c2N1[H]\n",
      "64    [H]c1c([H])c(Cl)c(N([H])S(=O)(=O)c2c([H])c([H])c(S(=O)(=O)N([H])[H])c([H])c2[N+](=O)[O-])c(Cl)c1[H]\n",
      "65    [H]C1=C([H])C2([H])C([H])([H])C1([H])C1([H])C(=O)C(=NN([H])c3nn(C([H])([H])[H])c([H])c3[N+](=O)[O-])C(=O)C21[H]\n",
      "66    [H]c1nc([H])c([H])c(-c2nc(C([H])([H])C([H])([H])[H])c3c([H])c(OC([H])([H])[H])c([H])c([H])c3n2)c1[H]\n",
      "67    [H]c1c([H])c([H])c(OC([H])([H])C([H])([H])c2c([H])c(=O)n([H])c(=O)n2[H])c(OC([H])([H])[H])c1[H]\n",
      "68    [H]c1nc(-n2c([H])c([H])c([H])c2[H])c2c(c1[H])C(=O)N(c1c([H])c([H])c([H])c(Cl)c1[H])C2=O\n",
      "69    [H]c1c([H])c(C([H])([H])[H])c([H])c([H])c1C(=O)C([H])([H])Sc1nc2c(N([H])[H])c([H])c([H])c([H])c2n1[H]\n",
      "70    [H]C([H])([H])C(=O)C([H])([H])N(C([H])([H])C([H])([H])[H])C([H])([H])C1([H])C([H])([H])C([H])([H])C([H])([H])C1([H])[H]\n",
      "71    [H]c1c([H])c(F)c([H])c(N([H])c2c3c(nc4c([H])c([H])c([H])c([H])c24)C([H])([H])C([H])([H])C3([H])[H])c1[H]\n",
      "72    [H]c1c([H])c(C([H])([H])[H])c([H])c([H])c1C1=NC([H])([H])C([H])([H])C([H])(C([H])([H])[H])C([H])([H])C1([H])[H]\n",
      "73    [H]c1c([H])c(C(=O)C([H])([H])C([H])([H])c2c([H])c([H])c(C([H])([H])[H])c([H])c2[H])c([H])c([N+](=O)[O-])c1[H]\n",
      "74    [H]OC1([H])c2c([H])c([H])c([H])c([H])c2C(=O)OC1([H])C([H])([H])C1([H])C([H])([H])C([H])([H])C([H])([H])C1([H])[H]\n",
      "75    [H]OC(=O)c1oc(C([H])(O[H])C([H])([H])C([H])([H])c2c([H])c(O[H])c(C#N)c([H])c2C#N)c([H])c1[H]\n",
      "76    [H]c1c([H])c([H])c(C#CC([H])([H])N2C([H])([H])C([H])([H])C([H])([H])C([H])([H])C([H])([H])C2([H])[H])c([H])c1[H]\n",
      "77    [H]c1c([H])c(OC([H])([H])c2nc3c([H])c(C([H])([H])[H])c([H])c([H])c3nc2C([H])([H])[H])c([H])c([H])c1Br\n",
      "78    [H]c1c([H])c([H])c2c(c1[H])C(=O)C([H])([H])N2C1(N([H])[H])C([H])([H])C([H])([H])C([H])([H])C([H])([H])C1([H])[H]\n",
      "79    [H]C(=NOC(=O)c1sc([H])c([H])c1[H])c1c([H])c([H])c([H])c2c1C([H])([H])C([H])([H])C([H])([H])C2([H])[H]\n",
      "80    [H]c1nn2c3c([H])c([H])c([H])c([H])c3n(C([H])([H])C([H])([H])C([H])([H])C([H])([H])[H])c2c1C(=O)C([H])([H])[H]\n",
      "81    [H]N(C(=O)C(=O)C([H])([H])C1([H])C([H])([H])C([H])([H])OC([H])([H])C1([H])[H])C([H])([H])C1OC([H])([H])C([H])([H])O1\n",
      "82    [H]c1c([H])c(Cl)c([H])c(-c2noc(C([H])([H])N3C([H])([H])C([H])([H])SC([H])([H])C3([H])[H])n2)c1[H]\n",
      "83    [H]c1nc2c([H])c([H])c([H])c([H])c2nc1-c1c(C([H])([H])[H])c([H])c(C([H])([H])[H])n1C([H])([H])[H]\n",
      "84    [H]c1nc(S(=O)(=O)C([H])([H])C([H])([H])c2c([H])c([H])c([H])c([H])c2[H])c(C([H])([H])[H])c([H])c1[H]\n",
      "85    [H]c1c([H])c(C(=O)N([H])c2nc3c(C([H])([H])[H])nc(C([H])([H])[H])c(C([H])([H])[H])c3s2)c([H])c([H])c1Cl\n",
      "86    [H]C1=NC(=[S+]C([H])([H])c2c(N([O-])[O-])c([H])c([H])c([H])c2S(=O)(=O)C([H])([H])[H])C([H])=C([H])C1[H]\n",
      "87    [H]c1nc([H])c([H])c(-c2nc([H])c(N([H])C(=O)N([H])c3c([H])c([H])c([H])c([H])c3[H])c([H])c2[H])c1[H]\n",
      "88    [H]C1=C2N(c3c([H])c([H])c([H])c([H])c3[H])C([H])=C(c3c([H])c([H])c([H])c([H])c3[H])C2([H])OC1=O\n",
      "89    [H]Oc1c([H])c([H])c(OC([H])([H])C([H])([H])Sc2nc3nc([H])c([H])c([H])c3c(=O)n2[H])c([H])c1[H]\n",
      "90    [H]C1=C(C([H])(C([H])([H])[H])C([H])([H])C([H])([H])C([H])([H])[H])C(=O)C(C([H])([H])[H])=C(C([H])([H])[H])C1=O\n",
      "91    [H]c1nc(C([H])([H])N([H])C(=O)c2c([H])c([H])c(C([H])([H])[H])c(C([H])([H])[H])c2[H])c([H])c([H])c1[H]\n",
      "92    [H]c1oc(C2([H])C([H])(c3c([H])c([H])c([H])c([H])c3F)c3c([H])c([H])c([H])c([H])c3[N+]2([H])[H])c([H])c1[H]\n",
      "93    [H]OC(=O)c1c([H])c(N2C([H])([H])C([H])([H])C([H])([H])C([H])(C([H])([H])[H])C2([H])[H])c([H])c([H])c1O[H]\n",
      "94    [H]c1c([H])c([H])c(C([H])([H])C([H])([H])C([H])([H])N([H])C(=O)c2c([H])c([H])c(F)c(F)c2[H])c([H])c1[H]\n",
      "95    [H]OC(c1c([H])c([H])c([H])c([H])c1[H])(C([H])([H])[H])C1([H])C(=O)N([H])C([H])([H])C([H])([H])C1([H])[H]\n",
      "96    [H]OC(=O)C([H])([H])C([H])([H])N([H])c1c([H])c([H])c([H])c([H])c1N([H])C(=O)C([H])([H])C([H])([H])N([H])[H]\n",
      "97    [H]Oc1c([H])c([H])c(C([H])([H])[H])c([H])c1-c1c([H])nn2c(C([H])([H])[H])c([H])c(C([H])([H])[H])nc12\n",
      "98    None\n",
      "99    [H]OC1([H])C([H])([H])c2c(-c3c([H])c([H])c([H])c([H])c3[H])nn([H])c2C([H])([H])C1([H])C([H])([H])[H]\n",
      "100   [H]c1c([H])c([H])c(N(C(=O)N([H])c2c([N+](=O)[O-])nn(C([H])([H])[H])c2C([H])([H])[H])C([H])([H])[H])c([H])c1[H]\n",
      "101   [H]OC(ON=C(c1c([H])c(C([H])([H])[H])c([H])c([H])c1C([H])([H])[H])C([H])([H])[H])(N([H])[H])C([H])([H])[H]\n",
      "102   [H]OC(=O)c1c(-c2c([H])c([H])c([H])c([H])c2[H])oc2c(c1=O)C([H])([H])C([H])([H])C([H])([H])C2([H])[H]\n",
      "103   [H]OC([H])([H])C([H])(O[H])C([H])(O[H])C1([H])OC([H])([H])c2c([H])c([H])c(N([H])[H])c([H])c2C1([H])[H]\n",
      "104   [H]c1c([H])c([H])c(C([H])([H])C([H])([H])C([H])([H])C([H])([H])N([H])C(=S)N([H])C([H])([H])C([H])([H])[H])c([H])c1[H]\n",
      "105   [H]c1c([H])c([H])c2c(c1[H])C(=C(c1nc3c([H])c([H])c([H])c([H])c3n1[H])C([H])([H])[H])SC2([H])[H]\n",
      "106   [H]c1c([H])c(N([H])C(=O)N([H])c2c([H])c([H])c(OC([H])([H])[H])c([H])c2[H])c([H])c([N+](=O)[O-])c1[H]\n",
      "107   [H]c1nc(N([H])[H])[n+]([H])c(N([H])C2([H])N([H])C3(C([H])([H])C2([H])[H])C([H])([H])C3(C([H])([H])[H])C([H])([H])[H])n1\n",
      "108   [H]C(=NC1([H])C(=O)C([H])([H])C([H])([H])C([H])([H])C1([H])[H])c1c([H])c([H])c2c(c1[H])OC([H])([H])O2\n",
      "109   [H]OC([H])([H])c1c([H])c(OC([H])([H])[H])c([H])c([H])c1N([H])C(=O)c1c([H])c([H])c([H])c([H])c1[H]\n",
      "110   [H]c1nc([H])c([H])c(C([H])([H])N([H])C(=O)C([H])([H])N2C(=O)C([H])(C([H])([H])[H])OC([H])([H])C2([H])[H])c1[H]\n",
      "111   [H]C(=O)C1=C(C([H])([H])[H])C([H])([H])C(C([H])=C([H])[H])(N([H])c2c([H])c([H])c([H])c([H])c2[H])C([H])([H])C1=O\n"
     ]
    }
   ],
   "source": [
    "for idx, smi in enumerate(smiles):\n",
    "    print(f\"{idx:<6}{smi}\")"
   ]
  },
  {
   "cell_type": "code",
   "execution_count": 29,
   "metadata": {},
   "outputs": [
    {
     "data": {
      "application/3dmoljs_load.v0": "<div id=\"3dmolviewer_17162215322243333\"  style=\"position: relative; width: 400px; height: 400px;\">\n        <p id=\"3dmolwarning_17162215322243333\" style=\"background-color:#ffcccc;color:black\">3Dmol.js failed to load for some reason.  Please check your browser console for error messages.<br></p>\n        </div>\n<script>\n\nvar loadScriptAsync = function(uri){\n  return new Promise((resolve, reject) => {\n    //this is to ignore the existence of requirejs amd\n    var savedexports, savedmodule;\n    if (typeof exports !== 'undefined') savedexports = exports;\n    else exports = {}\n    if (typeof module !== 'undefined') savedmodule = module;\n    else module = {}\n\n    var tag = document.createElement('script');\n    tag.src = uri;\n    tag.async = true;\n    tag.onload = () => {\n        exports = savedexports;\n        module = savedmodule;\n        resolve();\n    };\n  var firstScriptTag = document.getElementsByTagName('script')[0];\n  firstScriptTag.parentNode.insertBefore(tag, firstScriptTag);\n});\n};\n\nif(typeof $3Dmolpromise === 'undefined') {\n$3Dmolpromise = null;\n  $3Dmolpromise = loadScriptAsync('https://cdnjs.cloudflare.com/ajax/libs/3Dmol/2.1.0/3Dmol-min.js');\n}\n\nvar viewer_17162215322243333 = null;\nvar warn = document.getElementById(\"3dmolwarning_17162215322243333\");\nif(warn) {\n    warn.parentNode.removeChild(warn);\n}\n$3Dmolpromise.then(function() {\nviewer_17162215322243333 = $3Dmol.createViewer(document.getElementById(\"3dmolviewer_17162215322243333\"),{backgroundColor:\"white\"});\nviewer_17162215322243333.zoomTo();\n\tviewer_17162215322243333.removeAllModels();\n\tviewer_17162215322243333.addModel(\"\\n     RDKit          3D\\n\\n 34 36  0  0  0  0  0  0  0  0999 V2000\\n    0.5506    1.9878    1.1279 C   0  0  0  0  0  0  0  0  0  0  0  0\\n   -1.7692    1.6744    1.7388 C   0  0  0  0  0  0  0  0  0  0  0  0\\n    2.1557    4.0338    2.9423 H   0  0  0  0  0  0  0  0  0  0  0  0\\n   -3.1185   -2.0836   -0.3075 H   0  0  0  0  0  0  0  0  0  0  0  0\\n    0.4601   -3.2698   -2.6181 C   0  0  0  0  0  0  0  0  0  0  0  0\\n    0.4961   -0.5035   -0.1263 N   0  0  0  0  0  0  0  0  0  0  0  0\\n   -1.6937    2.8248    2.4699 C   0  0  0  0  0  0  0  0  0  0  0  0\\n   -1.5972   -2.1414   -1.8587 C   0  0  0  0  0  0  0  0  0  0  0  0\\n   -0.5921   -0.0304    0.2652 C   0  0  0  0  0  0  0  0  0  0  0  0\\n    0.7701   -1.5004   -1.0339 C   0  0  0  0  0  0  0  0  0  0  0  0\\n   -1.5499   -2.5383    0.3004 H   0  0  0  0  0  0  0  0  0  0  0  0\\n    1.4289    1.5948    0.5950 H   0  0  0  0  0  0  0  0  0  0  0  0\\n   -2.1067   -1.9162   -0.3537 C   0  0  0  0  0  0  0  0  0  0  0  0\\n    3.7097   -2.8973   -1.9409 H   0  0  0  0  0  0  0  0  0  0  0  0\\n   -2.5409    0.1055   -0.2300 H   0  0  0  0  0  0  0  0  0  0  0  0\\n   -0.1961   -3.8776   -3.2306 H   0  0  0  0  0  0  0  0  0  0  0  0\\n    1.6627    4.9131    1.5703 H   0  0  0  0  0  0  0  0  0  0  0  0\\n    2.6281    3.5109    1.3746 H   0  0  0  0  0  0  0  0  0  0  0  0\\n   -0.6129    1.2477    1.0584 C   0  0  0  0  0  0  0  0  0  0  0  0\\n    0.5999    3.1516    1.8475 C   0  0  0  0  0  0  0  0  0  0  0  0\\n   -2.6616    1.0798    1.7084 H   0  0  0  0  0  0  0  0  0  0  0  0\\n   -0.5491    4.4569    3.1021 H   0  0  0  0  0  0  0  0  0  0  0  0\\n   -1.8597   -0.5707    0.0094 N   0  0  0  0  0  0  0  0  0  0  0  0\\n    2.2126   -4.2450   -3.2935 H   0  0  0  0  0  0  0  0  0  0  0  0\\n   -2.5963    3.1770    3.0311 H   0  0  0  0  0  0  0  0  0  0  0  0\\n    2.7989   -1.1283   -0.4646 H   0  0  0  0  0  0  0  0  0  0  0  0\\n    2.1571   -1.7440   -1.0674 C   0  0  0  0  0  0  0  0  0  0  0  0\\n   -2.0258   -3.0500   -2.2097 H   0  0  0  0  0  0  0  0  0  0  0  0\\n   -0.0841   -2.2878   -1.8386 C   0  0  0  0  0  0  0  0  0  0  0  0\\n    1.8677    3.9375    1.9241 C   0  0  0  0  0  0  0  0  0  0  0  0\\n    2.6349   -2.7274   -1.9034 C   0  0  0  0  0  0  0  0  0  0  0  0\\n   -0.5256    3.5690    2.5179 C   0  0  0  0  0  0  0  0  0  0  0  0\\n    1.7824   -3.4916   -2.6744 C   0  0  0  0  0  0  0  0  0  0  0  0\\n   -1.8360   -1.2613   -2.4318 H   0  0  0  0  0  0  0  0  0  0  0  0\\n  7  2  2  0\\n  9  6  2  0\\n 10  6  1  0\\n 12  1  1  0\\n 13  4  1  0\\n 13  8  1  0\\n 13 11  1  0\\n 16  5  1  0\\n 19  1  2  0\\n 19  2  1  0\\n 19  9  1  0\\n 20  1  1  0\\n 21  2  1  0\\n 23  9  1  0\\n 23 13  1  0\\n 23 15  1  0\\n 25  7  1  0\\n 27 10  2  0\\n 27 26  1  0\\n 28  8  1  0\\n 29  5  2  0\\n 29  8  1  0\\n 29 10  1  0\\n 30  3  1  0\\n 30 17  1  0\\n 30 18  1  0\\n 30 20  1  0\\n 31 14  1  0\\n 31 27  1  0\\n 32  7  1  0\\n 32 20  2  0\\n 32 22  1  0\\n 33  5  1  0\\n 33 24  1  0\\n 33 31  2  0\\n 34  8  1  0\\nM  END\\n\",\"sdf\");\n\tviewer_17162215322243333.setStyle({\"stick\": {}});\n\tviewer_17162215322243333.setBackgroundColor(\"0xeeeeee\");\n\tviewer_17162215322243333.zoomTo();\nviewer_17162215322243333.render();\n});\n</script>",
      "text/html": [
       "<div id=\"3dmolviewer_17162215322243333\"  style=\"position: relative; width: 400px; height: 400px;\">\n",
       "        <p id=\"3dmolwarning_17162215322243333\" style=\"background-color:#ffcccc;color:black\">3Dmol.js failed to load for some reason.  Please check your browser console for error messages.<br></p>\n",
       "        </div>\n",
       "<script>\n",
       "\n",
       "var loadScriptAsync = function(uri){\n",
       "  return new Promise((resolve, reject) => {\n",
       "    //this is to ignore the existence of requirejs amd\n",
       "    var savedexports, savedmodule;\n",
       "    if (typeof exports !== 'undefined') savedexports = exports;\n",
       "    else exports = {}\n",
       "    if (typeof module !== 'undefined') savedmodule = module;\n",
       "    else module = {}\n",
       "\n",
       "    var tag = document.createElement('script');\n",
       "    tag.src = uri;\n",
       "    tag.async = true;\n",
       "    tag.onload = () => {\n",
       "        exports = savedexports;\n",
       "        module = savedmodule;\n",
       "        resolve();\n",
       "    };\n",
       "  var firstScriptTag = document.getElementsByTagName('script')[0];\n",
       "  firstScriptTag.parentNode.insertBefore(tag, firstScriptTag);\n",
       "});\n",
       "};\n",
       "\n",
       "if(typeof $3Dmolpromise === 'undefined') {\n",
       "$3Dmolpromise = null;\n",
       "  $3Dmolpromise = loadScriptAsync('https://cdnjs.cloudflare.com/ajax/libs/3Dmol/2.1.0/3Dmol-min.js');\n",
       "}\n",
       "\n",
       "var viewer_17162215322243333 = null;\n",
       "var warn = document.getElementById(\"3dmolwarning_17162215322243333\");\n",
       "if(warn) {\n",
       "    warn.parentNode.removeChild(warn);\n",
       "}\n",
       "$3Dmolpromise.then(function() {\n",
       "viewer_17162215322243333 = $3Dmol.createViewer(document.getElementById(\"3dmolviewer_17162215322243333\"),{backgroundColor:\"white\"});\n",
       "viewer_17162215322243333.zoomTo();\n",
       "\tviewer_17162215322243333.removeAllModels();\n",
       "\tviewer_17162215322243333.addModel(\"\\n     RDKit          3D\\n\\n 34 36  0  0  0  0  0  0  0  0999 V2000\\n    0.5506    1.9878    1.1279 C   0  0  0  0  0  0  0  0  0  0  0  0\\n   -1.7692    1.6744    1.7388 C   0  0  0  0  0  0  0  0  0  0  0  0\\n    2.1557    4.0338    2.9423 H   0  0  0  0  0  0  0  0  0  0  0  0\\n   -3.1185   -2.0836   -0.3075 H   0  0  0  0  0  0  0  0  0  0  0  0\\n    0.4601   -3.2698   -2.6181 C   0  0  0  0  0  0  0  0  0  0  0  0\\n    0.4961   -0.5035   -0.1263 N   0  0  0  0  0  0  0  0  0  0  0  0\\n   -1.6937    2.8248    2.4699 C   0  0  0  0  0  0  0  0  0  0  0  0\\n   -1.5972   -2.1414   -1.8587 C   0  0  0  0  0  0  0  0  0  0  0  0\\n   -0.5921   -0.0304    0.2652 C   0  0  0  0  0  0  0  0  0  0  0  0\\n    0.7701   -1.5004   -1.0339 C   0  0  0  0  0  0  0  0  0  0  0  0\\n   -1.5499   -2.5383    0.3004 H   0  0  0  0  0  0  0  0  0  0  0  0\\n    1.4289    1.5948    0.5950 H   0  0  0  0  0  0  0  0  0  0  0  0\\n   -2.1067   -1.9162   -0.3537 C   0  0  0  0  0  0  0  0  0  0  0  0\\n    3.7097   -2.8973   -1.9409 H   0  0  0  0  0  0  0  0  0  0  0  0\\n   -2.5409    0.1055   -0.2300 H   0  0  0  0  0  0  0  0  0  0  0  0\\n   -0.1961   -3.8776   -3.2306 H   0  0  0  0  0  0  0  0  0  0  0  0\\n    1.6627    4.9131    1.5703 H   0  0  0  0  0  0  0  0  0  0  0  0\\n    2.6281    3.5109    1.3746 H   0  0  0  0  0  0  0  0  0  0  0  0\\n   -0.6129    1.2477    1.0584 C   0  0  0  0  0  0  0  0  0  0  0  0\\n    0.5999    3.1516    1.8475 C   0  0  0  0  0  0  0  0  0  0  0  0\\n   -2.6616    1.0798    1.7084 H   0  0  0  0  0  0  0  0  0  0  0  0\\n   -0.5491    4.4569    3.1021 H   0  0  0  0  0  0  0  0  0  0  0  0\\n   -1.8597   -0.5707    0.0094 N   0  0  0  0  0  0  0  0  0  0  0  0\\n    2.2126   -4.2450   -3.2935 H   0  0  0  0  0  0  0  0  0  0  0  0\\n   -2.5963    3.1770    3.0311 H   0  0  0  0  0  0  0  0  0  0  0  0\\n    2.7989   -1.1283   -0.4646 H   0  0  0  0  0  0  0  0  0  0  0  0\\n    2.1571   -1.7440   -1.0674 C   0  0  0  0  0  0  0  0  0  0  0  0\\n   -2.0258   -3.0500   -2.2097 H   0  0  0  0  0  0  0  0  0  0  0  0\\n   -0.0841   -2.2878   -1.8386 C   0  0  0  0  0  0  0  0  0  0  0  0\\n    1.8677    3.9375    1.9241 C   0  0  0  0  0  0  0  0  0  0  0  0\\n    2.6349   -2.7274   -1.9034 C   0  0  0  0  0  0  0  0  0  0  0  0\\n   -0.5256    3.5690    2.5179 C   0  0  0  0  0  0  0  0  0  0  0  0\\n    1.7824   -3.4916   -2.6744 C   0  0  0  0  0  0  0  0  0  0  0  0\\n   -1.8360   -1.2613   -2.4318 H   0  0  0  0  0  0  0  0  0  0  0  0\\n  7  2  2  0\\n  9  6  2  0\\n 10  6  1  0\\n 12  1  1  0\\n 13  4  1  0\\n 13  8  1  0\\n 13 11  1  0\\n 16  5  1  0\\n 19  1  2  0\\n 19  2  1  0\\n 19  9  1  0\\n 20  1  1  0\\n 21  2  1  0\\n 23  9  1  0\\n 23 13  1  0\\n 23 15  1  0\\n 25  7  1  0\\n 27 10  2  0\\n 27 26  1  0\\n 28  8  1  0\\n 29  5  2  0\\n 29  8  1  0\\n 29 10  1  0\\n 30  3  1  0\\n 30 17  1  0\\n 30 18  1  0\\n 30 20  1  0\\n 31 14  1  0\\n 31 27  1  0\\n 32  7  1  0\\n 32 20  2  0\\n 32 22  1  0\\n 33  5  1  0\\n 33 24  1  0\\n 33 31  2  0\\n 34  8  1  0\\nM  END\\n\",\"sdf\");\n",
       "\tviewer_17162215322243333.setStyle({\"stick\": {}});\n",
       "\tviewer_17162215322243333.setBackgroundColor(\"0xeeeeee\");\n",
       "\tviewer_17162215322243333.zoomTo();\n",
       "viewer_17162215322243333.render();\n",
       "});\n",
       "</script>"
      ]
     },
     "metadata": {},
     "output_type": "display_data"
    },
    {
     "data": {
      "image/png": "[encoded data removed]",
      "text/html": [],
      "text/plain": [
       "<rdkit.Chem.rdchem.Mol at 0x7f7de014c120>"
      ]
     },
     "execution_count": 29,
     "metadata": {},
     "output_type": "execute_result"
    }
   ],
   "source": [
    "mols[4]"
   ]
  },
  {
   "attachments": {},
   "cell_type": "markdown",
   "metadata": {},
   "source": [
    "### Generate molecules directly with functions"
   ]
  },
  {
   "cell_type": "code",
   "execution_count": 27,
   "metadata": {},
   "outputs": [],
   "source": [
    "gen_metrics = {\n",
    "    \"validity\": Metrics.Validity(),\n",
    "    \"fc-validity\": Metrics.Validity(connected=True),\n",
    "    \"uniqueness\": Metrics.Uniqueness(),\n",
    "    \"energy\": Metrics.AverageEnergy()\n",
    "}\n",
    "gen_metrics = MetricCollection(gen_metrics, compute_groups=False)"
   ]
  },
  {
   "cell_type": "code",
   "execution_count": 28,
   "metadata": {},
   "outputs": [],
   "source": [
    "def forward_batches(n_batches, dm, model):\n",
    "    val_dl = dm.val_dataloader()\n",
    "    cuda_model = model.to(\"cuda\")\n",
    "    batch_idx = 0\n",
    "\n",
    "    outputs = []\n",
    "    for batch in val_dl:\n",
    "        if batch_idx == n_batches:\n",
    "            break\n",
    "\n",
    "        batch_idx += 1\n",
    "        batch = {k: v.cuda() for k, v in batch[0].items()}\n",
    "        output = cuda_model._generate(batch, INTEGRATION_STEPS)\n",
    "        outputs.append(output)\n",
    "\n",
    "    return outputs"
   ]
  },
  {
   "cell_type": "code",
   "execution_count": 29,
   "metadata": {},
   "outputs": [
    {
     "name": "stdout",
     "output_type": "stream",
     "text": [
      "\n",
      "items per bucket [25, 30, 74, 123, 122, 148, 156, 113, 92, 58, 36, 17, 5, 1]\n",
      "bucket batch sizes [168, 144, 128, 112, 104, 96, 88, 80, 72, 72, 64, 56, 40, 24]\n",
      "batches per bucket [1, 1, 1, 2, 2, 2, 2, 2, 2, 1, 1, 1, 1, 1]\n"
     ]
    }
   ],
   "source": [
    "n_batches = 10\n",
    "outputs = forward_batches(n_batches, dm, model)"
   ]
  },
  {
   "cell_type": "code",
   "execution_count": 45,
   "metadata": {},
   "outputs": [],
   "source": [
    "mols = [generate_mols(output, vocab) for output in outputs]\n",
    "mols = [mol for mol_list in mols for mol in mol_list]"
   ]
  },
  {
   "cell_type": "code",
   "execution_count": 46,
   "metadata": {},
   "outputs": [],
   "source": [
    "# Compute benchmark metrics on loaded train dataset samples\n",
    "gen_metrics.reset()\n",
    "gen_metrics.update(mols)\n",
    "results = gen_metrics.compute()"
   ]
  },
  {
   "cell_type": "code",
   "execution_count": 47,
   "metadata": {},
   "outputs": [
    {
     "name": "stdout",
     "output_type": "stream",
     "text": [
      "energy -- 262.290\n",
      "fc-validity -- 0.866\n",
      "uniqueness -- 1.000\n",
      "validity -- 0.886\n"
     ]
    }
   ],
   "source": [
    "for metric, result in results.items():\n",
    "    print(f\"{metric} -- {result.item():.3f}\")"
   ]
  },
  {
   "cell_type": "code",
   "execution_count": 48,
   "metadata": {},
   "outputs": [],
   "source": [
    "problems, mol_idxs = check_invalidities(mols)"
   ]
  },
  {
   "cell_type": "code",
   "execution_count": 49,
   "metadata": {},
   "outputs": [
    {
     "name": "stdout",
     "output_type": "stream",
     "text": [
      "{'atom-valence': 27, 'atom-kekulize': 0, 'kekulize': 36}\n"
     ]
    }
   ],
   "source": [
    "print(problems)"
   ]
  },
  {
   "cell_type": "code",
   "execution_count": 57,
   "metadata": {},
   "outputs": [
    {
     "data": {
      "application/3dmoljs_load.v0": "<div id=\"3dmolviewer_17125074363360584\"  style=\"position: relative; width: 400px; height: 400px;\">\n        <p id=\"3dmolwarning_17125074363360584\" style=\"background-color:#ffcccc;color:black\">You appear to be running in JupyterLab (or JavaScript failed to load for some other reason).  You need to install the 3dmol extension: <br>\n        <tt>jupyter labextension install jupyterlab_3dmol</tt></p>\n        </div>\n<script>\n\nvar loadScriptAsync = function(uri){\n  return new Promise((resolve, reject) => {\n    //this is to ignore the existence of requirejs amd\n    var savedexports, savedmodule;\n    if (typeof exports !== 'undefined') savedexports = exports;\n    else exports = {}\n    if (typeof module !== 'undefined') savedmodule = module;\n    else module = {}\n\n    var tag = document.createElement('script');\n    tag.src = uri;\n    tag.async = true;\n    tag.onload = () => {\n        exports = savedexports;\n        module = savedmodule;\n        resolve();\n    };\n  var firstScriptTag = document.getElementsByTagName('script')[0];\n  firstScriptTag.parentNode.insertBefore(tag, firstScriptTag);\n});\n};\n\nif(typeof $3Dmolpromise === 'undefined') {\n$3Dmolpromise = null;\n  $3Dmolpromise = loadScriptAsync('https://cdnjs.cloudflare.com/ajax/libs/3Dmol/2.0.4/3Dmol-min.js');\n}\n\nvar viewer_17125074363360584 = null;\nvar warn = document.getElementById(\"3dmolwarning_17125074363360584\");\nif(warn) {\n    warn.parentNode.removeChild(warn);\n}\n$3Dmolpromise.then(function() {\nviewer_17125074363360584 = $3Dmol.createViewer(document.getElementById(\"3dmolviewer_17125074363360584\"),{backgroundColor:\"white\"});\nviewer_17125074363360584.zoomTo();\n\tviewer_17125074363360584.removeAllModels();\n\tviewer_17125074363360584.addModel(\"\\n     RDKit          3D\\n\\n 98 87  0  0  0  0  0  0  0  0999 V2000\\n   -2.0542   -2.5717   -2.2247 H   0  0  0  0  0  0  0  0  0  0  0  0\\n    0.0319   -0.4824   -2.8677 H   0  0  0  0  0  0  0  0  0  0  0  0\\n    3.1705    3.0379    0.6884 H   0  0  0  0  0  0  0  0  0  0  0  0\\n    0.7408   -2.6720   -1.9698 C   0  0  0  0  0  0  0  0  0  0  0  0\\n    2.5876    0.5831   -1.7552 H   0  0  0  0  0  0  0  0  0  0  0  0\\n    2.5850   -1.9783   -1.1872 H   0  0  0  0  0  0  0  0  0  0  0  0\\n   -2.6437    2.1486    0.6928 H   0  0  0  0  0  0  0  0  0  0  0  0\\n   -2.0901    0.6246    0.0653 C   0  0  0  0  0  0  0  0  0  0  0  0\\n    1.5399   -1.1339   -2.0402 H   0  0  0  0  0  0  0  0  0  0  0  0\\n   -1.0015    2.4639    0.1329 C   0  0  0  0  0  0  0  0  0  0  0  0\\n    0.8509   -1.7134    2.4167 H   0  0  0  0  0  0  0  0  0  0  0  0\\n   -1.4771    3.4403    0.3663 H   0  0  0  0  0  0  0  0  0  0  0  0\\n   -1.6328    0.8219    2.2699 H   0  0  0  0  0  0  0  0  0  0  0  0\\n    0.9952   -1.6548   -1.9278 C   0  0  0  0  0  0  0  0  0  0  0  0\\n    1.9515   -2.8794   -1.9584 H   0  0  0  0  0  0  0  0  0  0  0  0\\n   -0.0886   -0.1222    3.4117 H   0  0  0  0  0  0  0  0  0  0  0  0\\n    0.6593    0.0885    1.9105 C   0  0  0  0  0  0  0  0  0  0  0  0\\n    2.8468   -1.9107    1.5360 H   0  0  0  0  0  0  0  0  0  0  0  0\\n    1.1466   -3.0501   -1.6278 C   0  0  0  0  0  0  0  0  0  0  0  0\\n    3.2675   -2.0077    0.0748 O   0  0  0  0  0  0  0  0  0  0  0  0\\n    2.9082    1.4797   -0.3770 C   0  0  0  0  0  0  0  0  0  0  0  0\\n   -1.8552   -0.8900    1.9090 N   0  0  0  0  0  0  0  0  0  0  0  0\\n    3.5437   -0.7126   -0.3551 O   0  0  0  0  0  0  0  0  0  0  0  0\\n    3.1172   -0.7171    1.0830 H   0  0  0  0  0  0  0  0  0  0  0  0\\n   -1.8074   -1.6935   -2.8649 H   0  0  0  0  0  0  0  0  0  0  0  0\\n   -2.6197    3.2250   -0.8815 H   0  0  0  0  0  0  0  0  0  0  0  0\\n    3.6949   -0.8258   -0.8034 H   0  0  0  0  0  0  0  0  0  0  0  0\\n   -1.7110   -2.4443    1.6872 H   0  0  0  0  0  0  0  0  0  0  0  0\\n   -0.8927   -1.9051    2.6083 H   0  0  0  0  0  0  0  0  0  0  0  0\\n    0.6975    0.5995    1.2725 H   0  0  0  0  0  0  0  0  0  0  0  0\\n   -0.6614    2.4149    0.7910 H   0  0  0  0  0  0  0  0  0  0  0  0\\n   -1.1676   -1.6817    1.7701 C   0  0  0  0  0  0  0  0  0  0  0  0\\n   -0.3343    0.5301   -2.9049 H   0  0  0  0  0  0  0  0  0  0  0  0\\n   -2.9827   -0.0560   -0.9322 H   0  0  0  0  0  0  0  0  0  0  0  0\\n   -1.7714   -0.1692    3.3035 H   0  0  0  0  0  0  0  0  0  0  0  0\\n    1.8059   -2.3810    1.0079 H   0  0  0  0  0  0  0  0  0  0  0  0\\n   -0.0248    1.2625    2.8557 H   0  0  0  0  0  0  0  0  0  0  0  0\\n    0.1761    3.7256    0.0595 H   0  0  0  0  0  0  0  0  0  0  0  0\\n   -1.9223   -1.1551   -1.3659 C   0  0  0  0  0  0  0  0  0  0  0  0\\n   -2.7201    1.9420   -1.9580 H   0  0  0  0  0  0  0  0  0  0  0  0\\n   -2.5371    1.8918   -1.0335 C   0  0  0  0  0  0  0  0  0  0  0  0\\n    1.5596    0.3942    3.3252 H   0  0  0  0  0  0  0  0  0  0  0  0\\n   -2.4977   -2.2228   -0.1188 H   0  0  0  0  0  0  0  0  0  0  0  0\\n    3.6622    2.1795    0.7067 H   0  0  0  0  0  0  0  0  0  0  0  0\\n    1.7071   -0.5015    0.0544 H   0  0  0  0  0  0  0  0  0  0  0  0\\n    1.6013    2.6222    0.2424 C   0  0  0  0  0  0  0  0  0  0  0  0\\n   -2.5347   -0.3873   -0.5349 C   0  0  0  0  0  0  0  0  0  0  0  0\\n   -2.0420    1.7254    0.0275 C   0  0  0  0  0  0  0  0  0  0  0  0\\n    0.6660   -1.0533    1.5601 C   0  0  0  0  0  0  0  0  0  0  0  0\\n   -2.3575   -0.2274   -2.2845 H   0  0  0  0  0  0  0  0  0  0  0  0\\n    0.7324   -3.3309   -2.2541 H   0  0  0  0  0  0  0  0  0  0  0  0\\n   -0.1110   -2.3621    0.6213 H   0  0  0  0  0  0  0  0  0  0  0  0\\n   -3.2625   -1.3232   -0.8246 O   0  0  0  0  0  0  0  0  0  0  0  0\\n   -3.1148   -1.4106    1.5129 H   0  0  0  0  0  0  0  0  0  0  0  0\\n   -2.3915   -1.7831   -0.7863 C   0  0  0  0  0  0  0  0  0  0  0  0\\n   -0.8483    0.3581   -2.2647 H   0  0  0  0  0  0  0  0  0  0  0  0\\n   -3.0722   -0.2731    2.2633 H   0  0  0  0  0  0  0  0  0  0  0  0\\n    1.1942    1.6666   -1.0937 C   0  0  0  0  0  0  0  0  0  0  0  0\\n    2.0381   -0.5430    2.7906 H   0  0  0  0  0  0  0  0  0  0  0  0\\n   -0.2465   -1.4162    1.0108 C   0  0  0  0  0  0  0  0  0  0  0  0\\n   -0.3026    0.2763    2.5391 C   0  0  0  0  0  0  0  0  0  0  0  0\\n    0.0486    3.0447   -0.6324 C   0  0  0  0  0  0  0  0  0  0  0  0\\n    3.1195    2.4338    0.8270 C   0  0  0  0  0  0  0  0  0  0  0  0\\n   -1.6083   -1.8773   -2.1216 C   0  0  0  0  0  0  0  0  0  0  0  0\\n    2.8326   -1.5623    0.3407 C   0  0  0  0  0  0  0  0  0  0  0  0\\n   -1.0156    2.5700   -1.9236 H   0  0  0  0  0  0  0  0  0  0  0  0\\n    2.5524    0.8763    1.7219 H   0  0  0  0  0  0  0  0  0  0  0  0\\n   -2.6336   -0.6396    1.5869 C   0  0  0  0  0  0  0  0  0  0  0  0\\n    2.2138    1.1868   -1.1209 C   0  0  0  0  0  0  0  0  0  0  0  0\\n   -0.5438   -0.0014   -2.5977 C   0  0  0  0  0  0  0  0  0  0  0  0\\n   -2.6975    0.3603    0.7846 C   0  0  0  0  0  0  0  0  0  0  0  0\\n    1.2195   -3.4089   -1.2366 H   0  0  0  0  0  0  0  0  0  0  0  0\\n   -3.6316   -0.2787    0.4652 H   0  0  0  0  0  0  0  0  0  0  0  0\\n   -1.3377   -0.0201    2.4625 C   0  0  0  0  0  0  0  0  0  0  0  0\\n    0.1472    3.6085   -1.2188 H   0  0  0  0  0  0  0  0  0  0  0  0\\n   -3.3668    1.8228   -0.8067 H   0  0  0  0  0  0  0  0  0  0  0  0\\n   -1.5320    3.5801   -1.2172 H   0  0  0  0  0  0  0  0  0  0  0  0\\n   -1.2634    0.5642    0.0082 H   0  0  0  0  0  0  0  0  0  0  0  0\\n   -0.3326   -0.8998    0.3383 H   0  0  0  0  0  0  0  0  0  0  0  0\\n   -2.9387   -2.3347   -1.2760 H   0  0  0  0  0  0  0  0  0  0  0  0\\n   -0.5572   -3.0793   -2.2578 H   0  0  0  0  0  0  0  0  0  0  0  0\\n    1.0107    2.3930   -0.4971 C   0  0  0  0  0  0  0  0  0  0  0  0\\n   -0.7596   -1.4127   -1.6315 C   0  0  0  0  0  0  0  0  0  0  0  0\\n    2.5304    2.1349    0.2776 C   0  0  0  0  0  0  0  0  0  0  0  0\\n    0.5256   -3.5297   -1.0867 H   0  0  0  0  0  0  0  0  0  0  0  0\\n    2.1696   -2.8370   -0.3324 H   0  0  0  0  0  0  0  0  0  0  0  0\\n   -3.4325    0.8926    1.1288 H   0  0  0  0  0  0  0  0  0  0  0  0\\n   -0.7284    2.5521   -0.6602 C   0  0  0  0  0  0  0  0  0  0  0  0\\n    2.3828    0.6490    2.1176 O   0  0  0  0  0  0  0  0  0  0  0  0\\n    3.0863    2.7131    1.3988 H   0  0  0  0  0  0  0  0  0  0  0  0\\n    1.5760    3.2673    0.7631 H   0  0  0  0  0  0  0  0  0  0  0  0\\n    1.9415   -0.9982    0.4869 C   0  0  0  0  0  0  0  0  0  0  0  0\\n    1.6386    0.0679    2.5251 C   0  0  0  0  0  0  0  0  0  0  0  0\\n    0.7349    1.5488   -1.7729 H   0  0  0  0  0  0  0  0  0  0  0  0\\n    1.8003   -1.4054    1.0444 C   0  0  0  0  0  0  0  0  0  0  0  0\\n    0.1182   -1.5258   -1.7003 C   0  0  0  0  0  0  0  0  0  0  0  0\\n    3.7087    1.2178   -0.3734 H   0  0  0  0  0  0  0  0  0  0  0  0\\n   -1.6781    2.4670   -1.1844 C   0  0  0  0  0  0  0  0  0  0  0  0\\n 14  4  1  0\\n 14  9  1  0\\n 19  4  1  0\\n 19 14  1  0\\n 30 17  1  0\\n 31 10  1  0\\n 32 22  1  0\\n 32 28  1  0\\n 32 29  1  0\\n 41 40  1  0\\n 47  8  1  0\\n 47 34  1  0\\n 47 39  1  0\\n 48  7  1  0\\n 48  8  1  0\\n 48 10  1  0\\n 48 41  1  0\\n 49 11  1  0\\n 49 17  1  0\\n 55 39  1  0\\n 55 43  1  0\\n 55 47  1  0\\n 55 53  1  0\\n 60 32  1  0\\n 60 49  1  0\\n 60 52  1  0\\n 61 16  1  0\\n 61 17  1  0\\n 61 37  1  0\\n 62 38  1  0\\n 63  3  1  0\\n 63 44  1  0\\n 64 25  1  0\\n 65 20  1  0\\n 65 23  1  0\\n 68 22  1  0\\n 68 54  1  0\\n 68 57  1  0\\n 69  5  1  0\\n 69 21  2  0\\n 69 58  1  0\\n 70  2  1  0\\n 70 33  1  0\\n 70 56  1  0\\n 71  8  1  0\\n 71 68  1  0\\n 72 19  1  0\\n 73 71  1  0\\n 74 13  1  0\\n 74 22  1  0\\n 74 35  1  0\\n 74 61  1  0\\n 75 62  1  0\\n 76 41  1  0\\n 78  8  1  0\\n 79 60  1  0\\n 82 46  1  0\\n 82 58  2  0\\n 82 62  1  0\\n 83 39  1  0\\n 84 21  1  0\\n 84 46  2  0\\n 84 63  1  0\\n 87 71  1  0\\n 88 10  1  0\\n 88 62  1  0\\n 89 67  1  0\\n 90 63  1  0\\n 91 46  1  0\\n 92 45  1  0\\n 92 49  1  0\\n 92 65  1  0\\n 93 17  1  0\\n 93 42  1  0\\n 93 59  1  0\\n 93 89  1  0\\n 94 58  1  0\\n 95 36  1  0\\n 95 49  1  0\\n 95 65  1  0\\n 95 92  1  0\\n 96 14  1  0\\n 96 83  1  0\\n 97 21  1  0\\n 98 41  1  0\\n 98 77  1  0\\n 98 88  1  0\\nM  END\\n\",\"sdf\");\n\tviewer_17125074363360584.setStyle({\"stick\": {}});\n\tviewer_17125074363360584.setBackgroundColor(\"0xeeeeee\");\n\tviewer_17125074363360584.zoomTo();\nviewer_17125074363360584.render();\n});\n</script>",
      "text/html": [
       "<div id=\"3dmolviewer_17125074363360584\"  style=\"position: relative; width: 400px; height: 400px;\">\n",
       "        <p id=\"3dmolwarning_17125074363360584\" style=\"background-color:#ffcccc;color:black\">You appear to be running in JupyterLab (or JavaScript failed to load for some other reason).  You need to install the 3dmol extension: <br>\n",
       "        <tt>jupyter labextension install jupyterlab_3dmol</tt></p>\n",
       "        </div>\n",
       "<script>\n",
       "\n",
       "var loadScriptAsync = function(uri){\n",
       "  return new Promise((resolve, reject) => {\n",
       "    //this is to ignore the existence of requirejs amd\n",
       "    var savedexports, savedmodule;\n",
       "    if (typeof exports !== 'undefined') savedexports = exports;\n",
       "    else exports = {}\n",
       "    if (typeof module !== 'undefined') savedmodule = module;\n",
       "    else module = {}\n",
       "\n",
       "    var tag = document.createElement('script');\n",
       "    tag.src = uri;\n",
       "    tag.async = true;\n",
       "    tag.onload = () => {\n",
       "        exports = savedexports;\n",
       "        module = savedmodule;\n",
       "        resolve();\n",
       "    };\n",
       "  var firstScriptTag = document.getElementsByTagName('script')[0];\n",
       "  firstScriptTag.parentNode.insertBefore(tag, firstScriptTag);\n",
       "});\n",
       "};\n",
       "\n",
       "if(typeof $3Dmolpromise === 'undefined') {\n",
       "$3Dmolpromise = null;\n",
       "  $3Dmolpromise = loadScriptAsync('https://cdnjs.cloudflare.com/ajax/libs/3Dmol/2.0.4/3Dmol-min.js');\n",
       "}\n",
       "\n",
       "var viewer_17125074363360584 = null;\n",
       "var warn = document.getElementById(\"3dmolwarning_17125074363360584\");\n",
       "if(warn) {\n",
       "    warn.parentNode.removeChild(warn);\n",
       "}\n",
       "$3Dmolpromise.then(function() {\n",
       "viewer_17125074363360584 = $3Dmol.createViewer(document.getElementById(\"3dmolviewer_17125074363360584\"),{backgroundColor:\"white\"});\n",
       "viewer_17125074363360584.zoomTo();\n",
       "\tviewer_17125074363360584.removeAllModels();\n",
       "\tviewer_17125074363360584.addModel(\"\\n     RDKit          3D\\n\\n 98 87  0  0  0  0  0  0  0  0999 V2000\\n   -2.0542   -2.5717   -2.2247 H   0  0  0  0  0  0  0  0  0  0  0  0\\n    0.0319   -0.4824   -2.8677 H   0  0  0  0  0  0  0  0  0  0  0  0\\n    3.1705    3.0379    0.6884 H   0  0  0  0  0  0  0  0  0  0  0  0\\n    0.7408   -2.6720   -1.9698 C   0  0  0  0  0  0  0  0  0  0  0  0\\n    2.5876    0.5831   -1.7552 H   0  0  0  0  0  0  0  0  0  0  0  0\\n    2.5850   -1.9783   -1.1872 H   0  0  0  0  0  0  0  0  0  0  0  0\\n   -2.6437    2.1486    0.6928 H   0  0  0  0  0  0  0  0  0  0  0  0\\n   -2.0901    0.6246    0.0653 C   0  0  0  0  0  0  0  0  0  0  0  0\\n    1.5399   -1.1339   -2.0402 H   0  0  0  0  0  0  0  0  0  0  0  0\\n   -1.0015    2.4639    0.1329 C   0  0  0  0  0  0  0  0  0  0  0  0\\n    0.8509   -1.7134    2.4167 H   0  0  0  0  0  0  0  0  0  0  0  0\\n   -1.4771    3.4403    0.3663 H   0  0  0  0  0  0  0  0  0  0  0  0\\n   -1.6328    0.8219    2.2699 H   0  0  0  0  0  0  0  0  0  0  0  0\\n    0.9952   -1.6548   -1.9278 C   0  0  0  0  0  0  0  0  0  0  0  0\\n    1.9515   -2.8794   -1.9584 H   0  0  0  0  0  0  0  0  0  0  0  0\\n   -0.0886   -0.1222    3.4117 H   0  0  0  0  0  0  0  0  0  0  0  0\\n    0.6593    0.0885    1.9105 C   0  0  0  0  0  0  0  0  0  0  0  0\\n    2.8468   -1.9107    1.5360 H   0  0  0  0  0  0  0  0  0  0  0  0\\n    1.1466   -3.0501   -1.6278 C   0  0  0  0  0  0  0  0  0  0  0  0\\n    3.2675   -2.0077    0.0748 O   0  0  0  0  0  0  0  0  0  0  0  0\\n    2.9082    1.4797   -0.3770 C   0  0  0  0  0  0  0  0  0  0  0  0\\n   -1.8552   -0.8900    1.9090 N   0  0  0  0  0  0  0  0  0  0  0  0\\n    3.5437   -0.7126   -0.3551 O   0  0  0  0  0  0  0  0  0  0  0  0\\n    3.1172   -0.7171    1.0830 H   0  0  0  0  0  0  0  0  0  0  0  0\\n   -1.8074   -1.6935   -2.8649 H   0  0  0  0  0  0  0  0  0  0  0  0\\n   -2.6197    3.2250   -0.8815 H   0  0  0  0  0  0  0  0  0  0  0  0\\n    3.6949   -0.8258   -0.8034 H   0  0  0  0  0  0  0  0  0  0  0  0\\n   -1.7110   -2.4443    1.6872 H   0  0  0  0  0  0  0  0  0  0  0  0\\n   -0.8927   -1.9051    2.6083 H   0  0  0  0  0  0  0  0  0  0  0  0\\n    0.6975    0.5995    1.2725 H   0  0  0  0  0  0  0  0  0  0  0  0\\n   -0.6614    2.4149    0.7910 H   0  0  0  0  0  0  0  0  0  0  0  0\\n   -1.1676   -1.6817    1.7701 C   0  0  0  0  0  0  0  0  0  0  0  0\\n   -0.3343    0.5301   -2.9049 H   0  0  0  0  0  0  0  0  0  0  0  0\\n   -2.9827   -0.0560   -0.9322 H   0  0  0  0  0  0  0  0  0  0  0  0\\n   -1.7714   -0.1692    3.3035 H   0  0  0  0  0  0  0  0  0  0  0  0\\n    1.8059   -2.3810    1.0079 H   0  0  0  0  0  0  0  0  0  0  0  0\\n   -0.0248    1.2625    2.8557 H   0  0  0  0  0  0  0  0  0  0  0  0\\n    0.1761    3.7256    0.0595 H   0  0  0  0  0  0  0  0  0  0  0  0\\n   -1.9223   -1.1551   -1.3659 C   0  0  0  0  0  0  0  0  0  0  0  0\\n   -2.7201    1.9420   -1.9580 H   0  0  0  0  0  0  0  0  0  0  0  0\\n   -2.5371    1.8918   -1.0335 C   0  0  0  0  0  0  0  0  0  0  0  0\\n    1.5596    0.3942    3.3252 H   0  0  0  0  0  0  0  0  0  0  0  0\\n   -2.4977   -2.2228   -0.1188 H   0  0  0  0  0  0  0  0  0  0  0  0\\n    3.6622    2.1795    0.7067 H   0  0  0  0  0  0  0  0  0  0  0  0\\n    1.7071   -0.5015    0.0544 H   0  0  0  0  0  0  0  0  0  0  0  0\\n    1.6013    2.6222    0.2424 C   0  0  0  0  0  0  0  0  0  0  0  0\\n   -2.5347   -0.3873   -0.5349 C   0  0  0  0  0  0  0  0  0  0  0  0\\n   -2.0420    1.7254    0.0275 C   0  0  0  0  0  0  0  0  0  0  0  0\\n    0.6660   -1.0533    1.5601 C   0  0  0  0  0  0  0  0  0  0  0  0\\n   -2.3575   -0.2274   -2.2845 H   0  0  0  0  0  0  0  0  0  0  0  0\\n    0.7324   -3.3309   -2.2541 H   0  0  0  0  0  0  0  0  0  0  0  0\\n   -0.1110   -2.3621    0.6213 H   0  0  0  0  0  0  0  0  0  0  0  0\\n   -3.2625   -1.3232   -0.8246 O   0  0  0  0  0  0  0  0  0  0  0  0\\n   -3.1148   -1.4106    1.5129 H   0  0  0  0  0  0  0  0  0  0  0  0\\n   -2.3915   -1.7831   -0.7863 C   0  0  0  0  0  0  0  0  0  0  0  0\\n   -0.8483    0.3581   -2.2647 H   0  0  0  0  0  0  0  0  0  0  0  0\\n   -3.0722   -0.2731    2.2633 H   0  0  0  0  0  0  0  0  0  0  0  0\\n    1.1942    1.6666   -1.0937 C   0  0  0  0  0  0  0  0  0  0  0  0\\n    2.0381   -0.5430    2.7906 H   0  0  0  0  0  0  0  0  0  0  0  0\\n   -0.2465   -1.4162    1.0108 C   0  0  0  0  0  0  0  0  0  0  0  0\\n   -0.3026    0.2763    2.5391 C   0  0  0  0  0  0  0  0  0  0  0  0\\n    0.0486    3.0447   -0.6324 C   0  0  0  0  0  0  0  0  0  0  0  0\\n    3.1195    2.4338    0.8270 C   0  0  0  0  0  0  0  0  0  0  0  0\\n   -1.6083   -1.8773   -2.1216 C   0  0  0  0  0  0  0  0  0  0  0  0\\n    2.8326   -1.5623    0.3407 C   0  0  0  0  0  0  0  0  0  0  0  0\\n   -1.0156    2.5700   -1.9236 H   0  0  0  0  0  0  0  0  0  0  0  0\\n    2.5524    0.8763    1.7219 H   0  0  0  0  0  0  0  0  0  0  0  0\\n   -2.6336   -0.6396    1.5869 C   0  0  0  0  0  0  0  0  0  0  0  0\\n    2.2138    1.1868   -1.1209 C   0  0  0  0  0  0  0  0  0  0  0  0\\n   -0.5438   -0.0014   -2.5977 C   0  0  0  0  0  0  0  0  0  0  0  0\\n   -2.6975    0.3603    0.7846 C   0  0  0  0  0  0  0  0  0  0  0  0\\n    1.2195   -3.4089   -1.2366 H   0  0  0  0  0  0  0  0  0  0  0  0\\n   -3.6316   -0.2787    0.4652 H   0  0  0  0  0  0  0  0  0  0  0  0\\n   -1.3377   -0.0201    2.4625 C   0  0  0  0  0  0  0  0  0  0  0  0\\n    0.1472    3.6085   -1.2188 H   0  0  0  0  0  0  0  0  0  0  0  0\\n   -3.3668    1.8228   -0.8067 H   0  0  0  0  0  0  0  0  0  0  0  0\\n   -1.5320    3.5801   -1.2172 H   0  0  0  0  0  0  0  0  0  0  0  0\\n   -1.2634    0.5642    0.0082 H   0  0  0  0  0  0  0  0  0  0  0  0\\n   -0.3326   -0.8998    0.3383 H   0  0  0  0  0  0  0  0  0  0  0  0\\n   -2.9387   -2.3347   -1.2760 H   0  0  0  0  0  0  0  0  0  0  0  0\\n   -0.5572   -3.0793   -2.2578 H   0  0  0  0  0  0  0  0  0  0  0  0\\n    1.0107    2.3930   -0.4971 C   0  0  0  0  0  0  0  0  0  0  0  0\\n   -0.7596   -1.4127   -1.6315 C   0  0  0  0  0  0  0  0  0  0  0  0\\n    2.5304    2.1349    0.2776 C   0  0  0  0  0  0  0  0  0  0  0  0\\n    0.5256   -3.5297   -1.0867 H   0  0  0  0  0  0  0  0  0  0  0  0\\n    2.1696   -2.8370   -0.3324 H   0  0  0  0  0  0  0  0  0  0  0  0\\n   -3.4325    0.8926    1.1288 H   0  0  0  0  0  0  0  0  0  0  0  0\\n   -0.7284    2.5521   -0.6602 C   0  0  0  0  0  0  0  0  0  0  0  0\\n    2.3828    0.6490    2.1176 O   0  0  0  0  0  0  0  0  0  0  0  0\\n    3.0863    2.7131    1.3988 H   0  0  0  0  0  0  0  0  0  0  0  0\\n    1.5760    3.2673    0.7631 H   0  0  0  0  0  0  0  0  0  0  0  0\\n    1.9415   -0.9982    0.4869 C   0  0  0  0  0  0  0  0  0  0  0  0\\n    1.6386    0.0679    2.5251 C   0  0  0  0  0  0  0  0  0  0  0  0\\n    0.7349    1.5488   -1.7729 H   0  0  0  0  0  0  0  0  0  0  0  0\\n    1.8003   -1.4054    1.0444 C   0  0  0  0  0  0  0  0  0  0  0  0\\n    0.1182   -1.5258   -1.7003 C   0  0  0  0  0  0  0  0  0  0  0  0\\n    3.7087    1.2178   -0.3734 H   0  0  0  0  0  0  0  0  0  0  0  0\\n   -1.6781    2.4670   -1.1844 C   0  0  0  0  0  0  0  0  0  0  0  0\\n 14  4  1  0\\n 14  9  1  0\\n 19  4  1  0\\n 19 14  1  0\\n 30 17  1  0\\n 31 10  1  0\\n 32 22  1  0\\n 32 28  1  0\\n 32 29  1  0\\n 41 40  1  0\\n 47  8  1  0\\n 47 34  1  0\\n 47 39  1  0\\n 48  7  1  0\\n 48  8  1  0\\n 48 10  1  0\\n 48 41  1  0\\n 49 11  1  0\\n 49 17  1  0\\n 55 39  1  0\\n 55 43  1  0\\n 55 47  1  0\\n 55 53  1  0\\n 60 32  1  0\\n 60 49  1  0\\n 60 52  1  0\\n 61 16  1  0\\n 61 17  1  0\\n 61 37  1  0\\n 62 38  1  0\\n 63  3  1  0\\n 63 44  1  0\\n 64 25  1  0\\n 65 20  1  0\\n 65 23  1  0\\n 68 22  1  0\\n 68 54  1  0\\n 68 57  1  0\\n 69  5  1  0\\n 69 21  2  0\\n 69 58  1  0\\n 70  2  1  0\\n 70 33  1  0\\n 70 56  1  0\\n 71  8  1  0\\n 71 68  1  0\\n 72 19  1  0\\n 73 71  1  0\\n 74 13  1  0\\n 74 22  1  0\\n 74 35  1  0\\n 74 61  1  0\\n 75 62  1  0\\n 76 41  1  0\\n 78  8  1  0\\n 79 60  1  0\\n 82 46  1  0\\n 82 58  2  0\\n 82 62  1  0\\n 83 39  1  0\\n 84 21  1  0\\n 84 46  2  0\\n 84 63  1  0\\n 87 71  1  0\\n 88 10  1  0\\n 88 62  1  0\\n 89 67  1  0\\n 90 63  1  0\\n 91 46  1  0\\n 92 45  1  0\\n 92 49  1  0\\n 92 65  1  0\\n 93 17  1  0\\n 93 42  1  0\\n 93 59  1  0\\n 93 89  1  0\\n 94 58  1  0\\n 95 36  1  0\\n 95 49  1  0\\n 95 65  1  0\\n 95 92  1  0\\n 96 14  1  0\\n 96 83  1  0\\n 97 21  1  0\\n 98 41  1  0\\n 98 77  1  0\\n 98 88  1  0\\nM  END\\n\",\"sdf\");\n",
       "\tviewer_17125074363360584.setStyle({\"stick\": {}});\n",
       "\tviewer_17125074363360584.setBackgroundColor(\"0xeeeeee\");\n",
       "\tviewer_17125074363360584.zoomTo();\n",
       "viewer_17125074363360584.render();\n",
       "});\n",
       "</script>"
      ]
     },
     "metadata": {},
     "output_type": "display_data"
    },
    {
     "data": {
      "image/png": "[encoded data removed]",
      "text/html": [],
      "text/plain": [
       "<rdkit.Chem.rdchem.Mol at 0x7fc044341900>"
      ]
     },
     "execution_count": 57,
     "metadata": {},
     "output_type": "execute_result"
    }
   ],
   "source": [
    "mol_idx = mol_idxs[\"atom-valence\"][0]\n",
    "mols[mol_idx]"
   ]
  },
  {
   "attachments": {},
   "cell_type": "markdown",
   "metadata": {},
   "source": [
    "## Samples Grid for Paper"
   ]
  },
  {
   "cell_type": "code",
   "execution_count": 30,
   "metadata": {},
   "outputs": [],
   "source": [
    "mols = [model._generate_mols(output) for output in outputs]\n",
    "mols = [mol for mol_list in mols for mol in mol_list]\n",
    "valid_mols = [mol for mol in mols if mol is not None]"
   ]
  },
  {
   "cell_type": "code",
   "execution_count": 31,
   "metadata": {},
   "outputs": [
    {
     "name": "stdout",
     "output_type": "stream",
     "text": [
      "energy -- 114.258\n",
      "fc-validity -- 0.911\n",
      "uniqueness -- 1.000\n",
      "validity -- 0.923\n"
     ]
    }
   ],
   "source": [
    "# Compute benchmark metrics on loaded train dataset samples\n",
    "gen_metrics.reset()\n",
    "gen_metrics.update(mols)\n",
    "results = gen_metrics.compute()\n",
    "\n",
    "for metric, result in results.items():\n",
    "    print(f\"{metric} -- {result.item():.3f}\")"
   ]
  },
  {
   "cell_type": "code",
   "execution_count": 45,
   "metadata": {},
   "outputs": [],
   "source": [
    "viewer = py3Dmol.view(width=800, height=800)\n",
    "# sample_mols = np.random.choice(valid_mols, 9, replace=False)"
   ]
  },
  {
   "cell_type": "code",
   "execution_count": 48,
   "metadata": {},
   "outputs": [
    {
     "data": {
      "application/3dmoljs_load.v0": "<div id=\"3dmolviewer_17162233644937267\"  style=\"position: relative; width: 800px; height: 800px;\">\n        <p id=\"3dmolwarning_17162233644937267\" style=\"background-color:#ffcccc;color:black\">3Dmol.js failed to load for some reason.  Please check your browser console for error messages.<br></p>\n        </div>\n<script>\n\nvar loadScriptAsync = function(uri){\n  return new Promise((resolve, reject) => {\n    //this is to ignore the existence of requirejs amd\n    var savedexports, savedmodule;\n    if (typeof exports !== 'undefined') savedexports = exports;\n    else exports = {}\n    if (typeof module !== 'undefined') savedmodule = module;\n    else module = {}\n\n    var tag = document.createElement('script');\n    tag.src = uri;\n    tag.async = true;\n    tag.onload = () => {\n        exports = savedexports;\n        module = savedmodule;\n        resolve();\n    };\n  var firstScriptTag = document.getElementsByTagName('script')[0];\n  firstScriptTag.parentNode.insertBefore(tag, firstScriptTag);\n});\n};\n\nif(typeof $3Dmolpromise === 'undefined') {\n$3Dmolpromise = null;\n  $3Dmolpromise = loadScriptAsync('https://cdnjs.cloudflare.com/ajax/libs/3Dmol/2.1.0/3Dmol-min.js');\n}\n\nvar viewer_17162233644937267 = null;\nvar warn = document.getElementById(\"3dmolwarning_17162233644937267\");\nif(warn) {\n    warn.parentNode.removeChild(warn);\n}\n$3Dmolpromise.then(function() {\nviewer_17162233644937267 = $3Dmol.createViewer(document.getElementById(\"3dmolviewer_17162233644937267\"),{backgroundColor:\"white\"});\nviewer_17162233644937267.zoomTo();\n\tviewer_17162233644937267.removeAllModels();\n\tviewer_17162233644937267.addModel(\"\\n     RDKit          3D\\n\\n 75 78  0  0  0  0  0  0  0  0999 V2000\\n   -2.6930    0.2201    1.5499 H   0  0  0  0  0  0  0  0  0  0  0  0\\n    1.8203    1.8279    1.8217 C   0  0  0  0  0  0  0  0  0  0  0  0\\n    2.6447   -2.1727    4.8972 H   0  0  0  0  0  0  0  0  0  0  0  0\\n   -3.7074   -1.9247   -1.8469 H   0  0  0  0  0  0  0  0  0  0  0  0\\n    1.9173    4.6379    1.2181 H   0  0  0  0  0  0  0  0  0  0  0  0\\n   -1.9744    0.0500   -4.0173 H   0  0  0  0  0  0  0  0  0  0  0  0\\n    1.8398    4.4653   -0.4253 H   0  0  0  0  0  0  0  0  0  0  0  0\\n   -0.6091   -1.9932   -3.0833 C   0  0  0  0  0  0  0  0  0  0  0  0\\n   -2.4804    1.5908   -1.4121 C   0  0  0  0  0  0  0  0  0  0  0  0\\n    2.3981   -0.1781    3.6605 H   0  0  0  0  0  0  0  0  0  0  0  0\\n    1.4472   -3.2394    3.5360 C   0  0  0  0  0  0  0  0  0  0  0  0\\n    1.2401    4.4142    0.4832 C   0  0  0  0  0  0  0  0  0  0  0  0\\n   -2.6981   -0.7062    0.1596 H   0  0  0  0  0  0  0  0  0  0  0  0\\n   -0.4515    2.8445   -0.1726 C   0  0  0  0  0  0  0  0  0  0  0  0\\n   -0.2618    4.4979   -1.9662 C   0  0  0  0  0  0  0  0  0  0  0  0\\n    2.6951    2.3289    1.7081 H   0  0  0  0  0  0  0  0  0  0  0  0\\n   -2.8913    0.1949    0.5106 C   0  0  0  0  0  0  0  0  0  0  0  0\\n   -0.9142   -3.7561   -1.3867 C   0  0  0  0  0  0  0  0  0  0  0  0\\n    0.1375    0.1502    2.2395 H   0  0  0  0  0  0  0  0  0  0  0  0\\n    0.1621   -5.4979   -1.0950 H   0  0  0  0  0  0  0  0  0  0  0  0\\n   -2.9614    2.5842   -3.8870 H   0  0  0  0  0  0  0  0  0  0  0  0\\n    2.3159   -2.1217    3.8792 C   0  0  0  0  0  0  0  0  0  0  0  0\\n   -2.3505   -0.6691   -3.6422 O   0  0  0  0  0  0  0  0  0  0  0  0\\n   -0.0124   -1.5550   -3.8440 H   0  0  0  0  0  0  0  0  0  0  0  0\\n   -2.6806   -2.2455   -1.9435 C   0  0  0  0  0  0  0  0  0  0  0  0\\n    1.8860   -3.0092    1.6465 H   0  0  0  0  0  0  0  0  0  0  0  0\\n   -1.5974    4.1572   -3.8247 C   0  0  0  0  0  0  0  0  0  0  0  0\\n    1.9300   -4.2010    3.7029 H   0  0  0  0  0  0  0  0  0  0  0  0\\n   -2.1832   -3.3022   -1.2001 C   0  0  0  0  0  0  0  0  0  0  0  0\\n    0.9679   -0.7364    4.3767 H   0  0  0  0  0  0  0  0  0  0  0  0\\n   -0.1884    2.1473    2.1314 H   0  0  0  0  0  0  0  0  0  0  0  0\\n   -1.8531    2.6491   -2.0644 C   0  0  0  0  0  0  0  0  0  0  0  0\\n    0.4757    3.3466    0.5801 N   0  0  0  0  0  0  0  0  0  0  0  0\\n    1.3781    0.6122   -1.6488 C   0  0  0  0  0  0  0  0  0  0  0  0\\n   -1.9141    4.5207   -4.9302 H   0  0  0  0  0  0  0  0  0  0  0  0\\n    0.6890    2.6699    1.8414 C   0  0  0  0  0  0  0  0  0  0  0  0\\n    1.8366    0.8047    0.7952 N   0  0  0  0  0  0  0  0  0  0  0  0\\n    0.8733   -3.4602   -2.4673 H   0  0  0  0  0  0  0  0  0  0  0  0\\n   -1.1846    1.7725    0.4140 N   0  0  0  0  0  0  0  0  0  0  0  0\\n    2.1038   -1.2767    0.3525 O   0  0  0  0  0  0  0  0  0  0  0  0\\n    1.1884   -3.5901   -0.0108 H   0  0  0  0  0  0  0  0  0  0  0  0\\n    2.4147    2.1407   -0.5669 H   0  0  0  0  0  0  0  0  0  0  0  0\\n   -3.2602    1.0655   -1.9157 H   0  0  0  0  0  0  0  0  0  0  0  0\\n    0.6056   -3.3168    4.1945 H   0  0  0  0  0  0  0  0  0  0  0  0\\n    0.7699    3.4127    2.5458 H   0  0  0  0  0  0  0  0  0  0  0  0\\n    0.8677   -0.6848    2.2494 C   0  0  0  0  0  0  0  0  0  0  0  0\\n   -0.3766   -1.7230    0.9528 H   0  0  0  0  0  0  0  0  0  0  0  0\\n    0.4497    0.7509   -1.5410 H   0  0  0  0  0  0  0  0  0  0  0  0\\n    1.7240    1.0858   -2.5208 H   0  0  0  0  0  0  0  0  0  0  0  0\\n   -0.1352   -3.1061   -2.3243 C   0  0  0  0  0  0  0  0  0  0  0  0\\n    0.1600   -4.0287    1.5472 C   0  0  0  0  0  0  0  0  0  0  0  0\\n   -0.7912   -1.8341    2.6750 H   0  0  0  0  0  0  0  0  0  0  0  0\\n   -0.7195   -4.5949    2.1975 O   0  0  0  0  0  0  0  0  0  0  0  0\\n    2.2886    1.1346   -0.5237 C   0  0  0  0  0  0  0  0  0  0  0  0\\n   -1.0906   -5.4209   -0.0340 H   0  0  0  0  0  0  0  0  0  0  0  0\\n   -0.6823    4.8477   -3.1753 C   0  0  0  0  0  0  0  0  0  0  0  0\\n    1.9477    1.5231    2.7641 H   0  0  0  0  0  0  0  0  0  0  0  0\\n    0.4251   -4.2382    0.3774 N   0  0  0  0  0  0  0  0  0  0  0  0\\n    0.7757    5.3281    0.4868 H   0  0  0  0  0  0  0  0  0  0  0  0\\n    1.6764   -0.4012    0.9126 C   0  0  0  0  0  0  0  0  0  0  0  0\\n    0.4568    5.1733   -1.6005 H   0  0  0  0  0  0  0  0  0  0  0  0\\n   -2.2158    3.0966   -3.3115 C   0  0  0  0  0  0  0  0  0  0  0  0\\n    0.9846   -2.9722    2.1909 C   0  0  0  0  0  0  0  0  0  0  0  0\\n   -0.3757   -4.8115   -0.5122 C   0  0  0  0  0  0  0  0  0  0  0  0\\n    0.0856   -1.7717    1.9615 C   0  0  0  0  0  0  0  0  0  0  0  0\\n   -2.8159   -3.8145   -0.4609 H   0  0  0  0  0  0  0  0  0  0  0  0\\n    1.4493   -0.3620   -1.8239 H   0  0  0  0  0  0  0  0  0  0  0  0\\n    3.2667    0.7020   -0.6311 H   0  0  0  0  0  0  0  0  0  0  0  0\\n   -0.2622    5.7337   -3.7208 H   0  0  0  0  0  0  0  0  0  0  0  0\\n    3.2002   -2.2080    3.3525 H   0  0  0  0  0  0  0  0  0  0  0  0\\n   -1.8665   -1.5919   -2.9230 C   0  0  0  0  0  0  0  0  0  0  0  0\\n   -2.1965    1.2440   -0.1910 C   0  0  0  0  0  0  0  0  0  0  0  0\\n    1.6485   -0.9117    3.5770 C   0  0  0  0  0  0  0  0  0  0  0  0\\n   -3.9502    0.3572    0.4698 H   0  0  0  0  0  0  0  0  0  0  0  0\\n   -0.7981    3.3447   -1.3137 C   0  0  0  0  0  0  0  0  0  0  0  0\\n 12  5  1  0\\n 12  7  1  0\\n 16  2  1  0\\n 17  1  1  0\\n 17 13  1  0\\n 22  3  1  0\\n 22 11  1  0\\n 23  6  1  0\\n 24  8  1  0\\n 25  4  1  0\\n 28 11  1  0\\n 29 18  2  0\\n 29 25  1  0\\n 32  9  2  0\\n 33 12  1  0\\n 33 14  1  0\\n 35 27  1  0\\n 36  2  1  0\\n 36 31  1  0\\n 36 33  1  0\\n 37  2  1  0\\n 39 14  1  0\\n 43  9  1  0\\n 44 11  1  0\\n 45 36  1  0\\n 46 19  1  0\\n 48 34  1  0\\n 49 34  1  0\\n 50  8  2  0\\n 50 18  1  0\\n 50 38  1  0\\n 53 51  2  0\\n 54 34  1  0\\n 54 37  1  0\\n 54 42  1  0\\n 56 15  2  0\\n 56 27  1  0\\n 57  2  1  0\\n 58 41  1  0\\n 58 51  1  0\\n 59 12  1  0\\n 60 37  1  0\\n 60 40  2  0\\n 60 46  1  0\\n 61 15  1  0\\n 62 21  1  0\\n 62 27  2  0\\n 62 32  1  0\\n 63 11  1  0\\n 63 26  1  0\\n 63 51  1  0\\n 64 18  1  0\\n 64 20  1  0\\n 64 55  1  0\\n 64 58  1  0\\n 65 46  1  0\\n 65 47  1  0\\n 65 52  1  0\\n 65 63  1  0\\n 66 29  1  0\\n 67 34  1  0\\n 68 54  1  0\\n 69 56  1  0\\n 70 22  1  0\\n 71  8  1  0\\n 71 23  1  0\\n 71 25  2  0\\n 72  9  1  0\\n 72 17  1  0\\n 72 39  2  0\\n 73 10  1  0\\n 73 22  1  0\\n 73 30  1  0\\n 73 46  1  0\\n 74 17  1  0\\n 75 14  2  0\\n 75 15  1  0\\n 75 32  1  0\\nM  END\\n\",\"sdf\");\n\tviewer_17162233644937267.setStyle({\"stick\": {}});\n\tviewer_17162233644937267.removeAllModels();\n\tviewer_17162233644937267.addModel(\"\\n     RDKit          3D\\n\\n 24 24  0  0  0  0  0  0  0  0999 V2000\\n    1.5636    3.1772   -0.0162 H   0  0  0  0  0  0  0  0  0  0  0  0\\n    2.3523    1.4614   -0.9547 C   0  0  0  0  0  0  0  0  0  0  0  0\\n    0.2123   -1.8677    1.6914 H   0  0  0  0  0  0  0  0  0  0  0  0\\n   -1.5631    0.6563   -1.1312 O   0  0  0  0  0  0  0  0  0  0  0  0\\n   -0.7327    0.5459   -1.4143 H   0  0  0  0  0  0  0  0  0  0  0  0\\n    0.8398   -0.0405    0.7971 C   0  0  0  0  0  0  0  0  0  0  0  0\\n   -2.5647   -0.8229   -1.9126 H   0  0  0  0  0  0  0  0  0  0  0  0\\n   -3.2581    0.0711   -0.6053 H   0  0  0  0  0  0  0  0  0  0  0  0\\n   -1.4838   -0.7938    1.3311 N   0  0  0  0  0  0  0  0  0  0  0  0\\n   -2.3321   -0.3753   -0.9880 C   0  0  0  0  0  0  0  0  0  0  0  0\\n    1.5761    2.0954   -0.0322 C   0  0  0  0  0  0  0  0  0  0  0  0\\n    1.6354   -0.6528   -0.1527 C   0  0  0  0  0  0  0  0  0  0  0  0\\n    0.8340    1.3335    0.8203 C   0  0  0  0  0  0  0  0  0  0  0  0\\n    0.1524    1.8873    1.6230 H   0  0  0  0  0  0  0  0  0  0  0  0\\n   -1.8098   -1.3772    0.0219 C   0  0  0  0  0  0  0  0  0  0  0  0\\n   -2.6209   -2.1683    0.1970 H   0  0  0  0  0  0  0  0  0  0  0  0\\n    2.4039    0.0829   -1.0231 C   0  0  0  0  0  0  0  0  0  0  0  0\\n    2.9925    2.0253   -1.6303 H   0  0  0  0  0  0  0  0  0  0  0  0\\n   -1.8387    0.1033    1.3032 H   0  0  0  0  0  0  0  0  0  0  0  0\\n    3.0462   -0.4206   -1.7418 H   0  0  0  0  0  0  0  0  0  0  0  0\\n   -0.0723   -0.8349    1.6970 C   0  0  0  0  0  0  0  0  0  0  0  0\\n   -0.0558   -0.4778    2.6949 H   0  0  0  0  0  0  0  0  0  0  0  0\\n    1.6841   -1.7455   -0.1839 H   0  0  0  0  0  0  0  0  0  0  0  0\\n   -0.9603   -1.8625   -0.3907 H   0  0  0  0  0  0  0  0  0  0  0  0\\n  5  4  1  0\\n 10  4  1  0\\n 10  7  1  0\\n 10  8  1  0\\n 11  1  1  0\\n 11  2  2  0\\n 12  6  1  0\\n 13  6  2  0\\n 13 11  1  0\\n 14 13  1  0\\n 15  9  1  0\\n 15 10  1  0\\n 16 15  1  0\\n 17  2  1  0\\n 17 12  2  0\\n 18  2  1  0\\n 19  9  1  0\\n 20 17  1  0\\n 21  3  1  0\\n 21  6  1  0\\n 21  9  1  0\\n 22 21  1  0\\n 23 12  1  0\\n 24 15  1  0\\nM  END\\n\",\"sdf\");\n\tviewer_17162233644937267.setStyle({\"stick\": {}});\nviewer_17162233644937267.render();\n});\n</script>",
      "text/html": [
       "<div id=\"3dmolviewer_17162233644937267\"  style=\"position: relative; width: 800px; height: 800px;\">\n",
       "        <p id=\"3dmolwarning_17162233644937267\" style=\"background-color:#ffcccc;color:black\">3Dmol.js failed to load for some reason.  Please check your browser console for error messages.<br></p>\n",
       "        </div>\n",
       "<script>\n",
       "\n",
       "var loadScriptAsync = function(uri){\n",
       "  return new Promise((resolve, reject) => {\n",
       "    //this is to ignore the existence of requirejs amd\n",
       "    var savedexports, savedmodule;\n",
       "    if (typeof exports !== 'undefined') savedexports = exports;\n",
       "    else exports = {}\n",
       "    if (typeof module !== 'undefined') savedmodule = module;\n",
       "    else module = {}\n",
       "\n",
       "    var tag = document.createElement('script');\n",
       "    tag.src = uri;\n",
       "    tag.async = true;\n",
       "    tag.onload = () => {\n",
       "        exports = savedexports;\n",
       "        module = savedmodule;\n",
       "        resolve();\n",
       "    };\n",
       "  var firstScriptTag = document.getElementsByTagName('script')[0];\n",
       "  firstScriptTag.parentNode.insertBefore(tag, firstScriptTag);\n",
       "});\n",
       "};\n",
       "\n",
       "if(typeof $3Dmolpromise === 'undefined') {\n",
       "$3Dmolpromise = null;\n",
       "  $3Dmolpromise = loadScriptAsync('https://cdnjs.cloudflare.com/ajax/libs/3Dmol/2.1.0/3Dmol-min.js');\n",
       "}\n",
       "\n",
       "var viewer_17162233644937267 = null;\n",
       "var warn = document.getElementById(\"3dmolwarning_17162233644937267\");\n",
       "if(warn) {\n",
       "    warn.parentNode.removeChild(warn);\n",
       "}\n",
       "$3Dmolpromise.then(function() {\n",
       "viewer_17162233644937267 = $3Dmol.createViewer(document.getElementById(\"3dmolviewer_17162233644937267\"),{backgroundColor:\"white\"});\n",
       "viewer_17162233644937267.zoomTo();\n",
       "\tviewer_17162233644937267.removeAllModels();\n",
       "\tviewer_17162233644937267.addModel(\"\\n     RDKit          3D\\n\\n 75 78  0  0  0  0  0  0  0  0999 V2000\\n   -2.6930    0.2201    1.5499 H   0  0  0  0  0  0  0  0  0  0  0  0\\n    1.8203    1.8279    1.8217 C   0  0  0  0  0  0  0  0  0  0  0  0\\n    2.6447   -2.1727    4.8972 H   0  0  0  0  0  0  0  0  0  0  0  0\\n   -3.7074   -1.9247   -1.8469 H   0  0  0  0  0  0  0  0  0  0  0  0\\n    1.9173    4.6379    1.2181 H   0  0  0  0  0  0  0  0  0  0  0  0\\n   -1.9744    0.0500   -4.0173 H   0  0  0  0  0  0  0  0  0  0  0  0\\n    1.8398    4.4653   -0.4253 H   0  0  0  0  0  0  0  0  0  0  0  0\\n   -0.6091   -1.9932   -3.0833 C   0  0  0  0  0  0  0  0  0  0  0  0\\n   -2.4804    1.5908   -1.4121 C   0  0  0  0  0  0  0  0  0  0  0  0\\n    2.3981   -0.1781    3.6605 H   0  0  0  0  0  0  0  0  0  0  0  0\\n    1.4472   -3.2394    3.5360 C   0  0  0  0  0  0  0  0  0  0  0  0\\n    1.2401    4.4142    0.4832 C   0  0  0  0  0  0  0  0  0  0  0  0\\n   -2.6981   -0.7062    0.1596 H   0  0  0  0  0  0  0  0  0  0  0  0\\n   -0.4515    2.8445   -0.1726 C   0  0  0  0  0  0  0  0  0  0  0  0\\n   -0.2618    4.4979   -1.9662 C   0  0  0  0  0  0  0  0  0  0  0  0\\n    2.6951    2.3289    1.7081 H   0  0  0  0  0  0  0  0  0  0  0  0\\n   -2.8913    0.1949    0.5106 C   0  0  0  0  0  0  0  0  0  0  0  0\\n   -0.9142   -3.7561   -1.3867 C   0  0  0  0  0  0  0  0  0  0  0  0\\n    0.1375    0.1502    2.2395 H   0  0  0  0  0  0  0  0  0  0  0  0\\n    0.1621   -5.4979   -1.0950 H   0  0  0  0  0  0  0  0  0  0  0  0\\n   -2.9614    2.5842   -3.8870 H   0  0  0  0  0  0  0  0  0  0  0  0\\n    2.3159   -2.1217    3.8792 C   0  0  0  0  0  0  0  0  0  0  0  0\\n   -2.3505   -0.6691   -3.6422 O   0  0  0  0  0  0  0  0  0  0  0  0\\n   -0.0124   -1.5550   -3.8440 H   0  0  0  0  0  0  0  0  0  0  0  0\\n   -2.6806   -2.2455   -1.9435 C   0  0  0  0  0  0  0  0  0  0  0  0\\n    1.8860   -3.0092    1.6465 H   0  0  0  0  0  0  0  0  0  0  0  0\\n   -1.5974    4.1572   -3.8247 C   0  0  0  0  0  0  0  0  0  0  0  0\\n    1.9300   -4.2010    3.7029 H   0  0  0  0  0  0  0  0  0  0  0  0\\n   -2.1832   -3.3022   -1.2001 C   0  0  0  0  0  0  0  0  0  0  0  0\\n    0.9679   -0.7364    4.3767 H   0  0  0  0  0  0  0  0  0  0  0  0\\n   -0.1884    2.1473    2.1314 H   0  0  0  0  0  0  0  0  0  0  0  0\\n   -1.8531    2.6491   -2.0644 C   0  0  0  0  0  0  0  0  0  0  0  0\\n    0.4757    3.3466    0.5801 N   0  0  0  0  0  0  0  0  0  0  0  0\\n    1.3781    0.6122   -1.6488 C   0  0  0  0  0  0  0  0  0  0  0  0\\n   -1.9141    4.5207   -4.9302 H   0  0  0  0  0  0  0  0  0  0  0  0\\n    0.6890    2.6699    1.8414 C   0  0  0  0  0  0  0  0  0  0  0  0\\n    1.8366    0.8047    0.7952 N   0  0  0  0  0  0  0  0  0  0  0  0\\n    0.8733   -3.4602   -2.4673 H   0  0  0  0  0  0  0  0  0  0  0  0\\n   -1.1846    1.7725    0.4140 N   0  0  0  0  0  0  0  0  0  0  0  0\\n    2.1038   -1.2767    0.3525 O   0  0  0  0  0  0  0  0  0  0  0  0\\n    1.1884   -3.5901   -0.0108 H   0  0  0  0  0  0  0  0  0  0  0  0\\n    2.4147    2.1407   -0.5669 H   0  0  0  0  0  0  0  0  0  0  0  0\\n   -3.2602    1.0655   -1.9157 H   0  0  0  0  0  0  0  0  0  0  0  0\\n    0.6056   -3.3168    4.1945 H   0  0  0  0  0  0  0  0  0  0  0  0\\n    0.7699    3.4127    2.5458 H   0  0  0  0  0  0  0  0  0  0  0  0\\n    0.8677   -0.6848    2.2494 C   0  0  0  0  0  0  0  0  0  0  0  0\\n   -0.3766   -1.7230    0.9528 H   0  0  0  0  0  0  0  0  0  0  0  0\\n    0.4497    0.7509   -1.5410 H   0  0  0  0  0  0  0  0  0  0  0  0\\n    1.7240    1.0858   -2.5208 H   0  0  0  0  0  0  0  0  0  0  0  0\\n   -0.1352   -3.1061   -2.3243 C   0  0  0  0  0  0  0  0  0  0  0  0\\n    0.1600   -4.0287    1.5472 C   0  0  0  0  0  0  0  0  0  0  0  0\\n   -0.7912   -1.8341    2.6750 H   0  0  0  0  0  0  0  0  0  0  0  0\\n   -0.7195   -4.5949    2.1975 O   0  0  0  0  0  0  0  0  0  0  0  0\\n    2.2886    1.1346   -0.5237 C   0  0  0  0  0  0  0  0  0  0  0  0\\n   -1.0906   -5.4209   -0.0340 H   0  0  0  0  0  0  0  0  0  0  0  0\\n   -0.6823    4.8477   -3.1753 C   0  0  0  0  0  0  0  0  0  0  0  0\\n    1.9477    1.5231    2.7641 H   0  0  0  0  0  0  0  0  0  0  0  0\\n    0.4251   -4.2382    0.3774 N   0  0  0  0  0  0  0  0  0  0  0  0\\n    0.7757    5.3281    0.4868 H   0  0  0  0  0  0  0  0  0  0  0  0\\n    1.6764   -0.4012    0.9126 C   0  0  0  0  0  0  0  0  0  0  0  0\\n    0.4568    5.1733   -1.6005 H   0  0  0  0  0  0  0  0  0  0  0  0\\n   -2.2158    3.0966   -3.3115 C   0  0  0  0  0  0  0  0  0  0  0  0\\n    0.9846   -2.9722    2.1909 C   0  0  0  0  0  0  0  0  0  0  0  0\\n   -0.3757   -4.8115   -0.5122 C   0  0  0  0  0  0  0  0  0  0  0  0\\n    0.0856   -1.7717    1.9615 C   0  0  0  0  0  0  0  0  0  0  0  0\\n   -2.8159   -3.8145   -0.4609 H   0  0  0  0  0  0  0  0  0  0  0  0\\n    1.4493   -0.3620   -1.8239 H   0  0  0  0  0  0  0  0  0  0  0  0\\n    3.2667    0.7020   -0.6311 H   0  0  0  0  0  0  0  0  0  0  0  0\\n   -0.2622    5.7337   -3.7208 H   0  0  0  0  0  0  0  0  0  0  0  0\\n    3.2002   -2.2080    3.3525 H   0  0  0  0  0  0  0  0  0  0  0  0\\n   -1.8665   -1.5919   -2.9230 C   0  0  0  0  0  0  0  0  0  0  0  0\\n   -2.1965    1.2440   -0.1910 C   0  0  0  0  0  0  0  0  0  0  0  0\\n    1.6485   -0.9117    3.5770 C   0  0  0  0  0  0  0  0  0  0  0  0\\n   -3.9502    0.3572    0.4698 H   0  0  0  0  0  0  0  0  0  0  0  0\\n   -0.7981    3.3447   -1.3137 C   0  0  0  0  0  0  0  0  0  0  0  0\\n 12  5  1  0\\n 12  7  1  0\\n 16  2  1  0\\n 17  1  1  0\\n 17 13  1  0\\n 22  3  1  0\\n 22 11  1  0\\n 23  6  1  0\\n 24  8  1  0\\n 25  4  1  0\\n 28 11  1  0\\n 29 18  2  0\\n 29 25  1  0\\n 32  9  2  0\\n 33 12  1  0\\n 33 14  1  0\\n 35 27  1  0\\n 36  2  1  0\\n 36 31  1  0\\n 36 33  1  0\\n 37  2  1  0\\n 39 14  1  0\\n 43  9  1  0\\n 44 11  1  0\\n 45 36  1  0\\n 46 19  1  0\\n 48 34  1  0\\n 49 34  1  0\\n 50  8  2  0\\n 50 18  1  0\\n 50 38  1  0\\n 53 51  2  0\\n 54 34  1  0\\n 54 37  1  0\\n 54 42  1  0\\n 56 15  2  0\\n 56 27  1  0\\n 57  2  1  0\\n 58 41  1  0\\n 58 51  1  0\\n 59 12  1  0\\n 60 37  1  0\\n 60 40  2  0\\n 60 46  1  0\\n 61 15  1  0\\n 62 21  1  0\\n 62 27  2  0\\n 62 32  1  0\\n 63 11  1  0\\n 63 26  1  0\\n 63 51  1  0\\n 64 18  1  0\\n 64 20  1  0\\n 64 55  1  0\\n 64 58  1  0\\n 65 46  1  0\\n 65 47  1  0\\n 65 52  1  0\\n 65 63  1  0\\n 66 29  1  0\\n 67 34  1  0\\n 68 54  1  0\\n 69 56  1  0\\n 70 22  1  0\\n 71  8  1  0\\n 71 23  1  0\\n 71 25  2  0\\n 72  9  1  0\\n 72 17  1  0\\n 72 39  2  0\\n 73 10  1  0\\n 73 22  1  0\\n 73 30  1  0\\n 73 46  1  0\\n 74 17  1  0\\n 75 14  2  0\\n 75 15  1  0\\n 75 32  1  0\\nM  END\\n\",\"sdf\");\n",
       "\tviewer_17162233644937267.setStyle({\"stick\": {}});\n",
       "\tviewer_17162233644937267.removeAllModels();\n",
       "\tviewer_17162233644937267.addModel(\"\\n     RDKit          3D\\n\\n 24 24  0  0  0  0  0  0  0  0999 V2000\\n    1.5636    3.1772   -0.0162 H   0  0  0  0  0  0  0  0  0  0  0  0\\n    2.3523    1.4614   -0.9547 C   0  0  0  0  0  0  0  0  0  0  0  0\\n    0.2123   -1.8677    1.6914 H   0  0  0  0  0  0  0  0  0  0  0  0\\n   -1.5631    0.6563   -1.1312 O   0  0  0  0  0  0  0  0  0  0  0  0\\n   -0.7327    0.5459   -1.4143 H   0  0  0  0  0  0  0  0  0  0  0  0\\n    0.8398   -0.0405    0.7971 C   0  0  0  0  0  0  0  0  0  0  0  0\\n   -2.5647   -0.8229   -1.9126 H   0  0  0  0  0  0  0  0  0  0  0  0\\n   -3.2581    0.0711   -0.6053 H   0  0  0  0  0  0  0  0  0  0  0  0\\n   -1.4838   -0.7938    1.3311 N   0  0  0  0  0  0  0  0  0  0  0  0\\n   -2.3321   -0.3753   -0.9880 C   0  0  0  0  0  0  0  0  0  0  0  0\\n    1.5761    2.0954   -0.0322 C   0  0  0  0  0  0  0  0  0  0  0  0\\n    1.6354   -0.6528   -0.1527 C   0  0  0  0  0  0  0  0  0  0  0  0\\n    0.8340    1.3335    0.8203 C   0  0  0  0  0  0  0  0  0  0  0  0\\n    0.1524    1.8873    1.6230 H   0  0  0  0  0  0  0  0  0  0  0  0\\n   -1.8098   -1.3772    0.0219 C   0  0  0  0  0  0  0  0  0  0  0  0\\n   -2.6209   -2.1683    0.1970 H   0  0  0  0  0  0  0  0  0  0  0  0\\n    2.4039    0.0829   -1.0231 C   0  0  0  0  0  0  0  0  0  0  0  0\\n    2.9925    2.0253   -1.6303 H   0  0  0  0  0  0  0  0  0  0  0  0\\n   -1.8387    0.1033    1.3032 H   0  0  0  0  0  0  0  0  0  0  0  0\\n    3.0462   -0.4206   -1.7418 H   0  0  0  0  0  0  0  0  0  0  0  0\\n   -0.0723   -0.8349    1.6970 C   0  0  0  0  0  0  0  0  0  0  0  0\\n   -0.0558   -0.4778    2.6949 H   0  0  0  0  0  0  0  0  0  0  0  0\\n    1.6841   -1.7455   -0.1839 H   0  0  0  0  0  0  0  0  0  0  0  0\\n   -0.9603   -1.8625   -0.3907 H   0  0  0  0  0  0  0  0  0  0  0  0\\n  5  4  1  0\\n 10  4  1  0\\n 10  7  1  0\\n 10  8  1  0\\n 11  1  1  0\\n 11  2  2  0\\n 12  6  1  0\\n 13  6  2  0\\n 13 11  1  0\\n 14 13  1  0\\n 15  9  1  0\\n 15 10  1  0\\n 16 15  1  0\\n 17  2  1  0\\n 17 12  2  0\\n 18  2  1  0\\n 19  9  1  0\\n 20 17  1  0\\n 21  3  1  0\\n 21  6  1  0\\n 21  9  1  0\\n 22 21  1  0\\n 23 12  1  0\\n 24 15  1  0\\nM  END\\n\",\"sdf\");\n",
       "\tviewer_17162233644937267.setStyle({\"stick\": {}});\n",
       "viewer_17162233644937267.render();\n",
       "});\n",
       "</script>"
      ]
     },
     "metadata": {},
     "output_type": "display_data"
    },
    {
     "data": {
      "application/3dmoljs_load.v0": "<img id=\"img_17162233644937267\">\n            <script>\n            var png = viewer_17162233644937267.pngURI()\n            document.getElementById('img_17162233644937267').src = png;\n            </script>",
      "text/html": [
       "<img id=\"img_17162233644937267\">\n",
       "            <script>\n",
       "            var png = viewer_17162233644937267.pngURI()\n",
       "            document.getElementById('img_17162233644937267').src = png;\n",
       "            </script>"
      ]
     },
     "metadata": {},
     "output_type": "display_data"
    }
   ],
   "source": [
    "mol_idx = 208\n",
    "viewer.removeAllModels()\n",
    "IPythonConsole.addMolToView(valid_mols[mol_idx], viewer)\n",
    "# viewer.zoomTo()\n",
    "viewer.show()\n",
    "viewer.png()"
   ]
  },
  {
   "cell_type": "code",
   "execution_count": 50,
   "metadata": {},
   "outputs": [
    {
     "data": {
      "application/3dmoljs_load.v0": "<img id=\"img_17162233644937267\">\n            <script>\n            var png = viewer_17162233644937267.pngURI()\n            document.getElementById('img_17162233644937267').src = png;\n            </script>",
      "text/html": [
       "<img id=\"img_17162233644937267\">\n",
       "            <script>\n",
       "            var png = viewer_17162233644937267.pngURI()\n",
       "            document.getElementById('img_17162233644937267').src = png;\n",
       "            </script>"
      ]
     },
     "metadata": {},
     "output_type": "display_data"
    }
   ],
   "source": [
    "viewer.png()"
   ]
  },
  {
   "cell_type": "code",
   "execution_count": 33,
   "metadata": {},
   "outputs": [
    {
     "name": "stdout",
     "output_type": "stream",
     "text": [
      "0 -- 47\n",
      "1 -- 45\n",
      "2 -- 45\n",
      "3 -- 45\n",
      "4 -- 45\n",
      "5 -- 47\n",
      "6 -- 47\n",
      "7 -- 48\n",
      "8 -- 48\n",
      "9 -- 46\n",
      "10 -- 48\n",
      "11 -- 48\n",
      "12 -- 47\n",
      "13 -- 45\n",
      "14 -- 46\n",
      "15 -- 46\n",
      "16 -- 48\n",
      "17 -- 47\n",
      "18 -- 46\n",
      "19 -- 46\n",
      "20 -- 46\n",
      "21 -- 46\n",
      "22 -- 47\n",
      "23 -- 47\n",
      "24 -- 45\n",
      "25 -- 47\n",
      "26 -- 48\n",
      "27 -- 48\n",
      "28 -- 46\n",
      "29 -- 46\n",
      "30 -- 47\n",
      "31 -- 46\n",
      "32 -- 46\n",
      "33 -- 45\n",
      "34 -- 45\n",
      "35 -- 47\n",
      "36 -- 45\n",
      "37 -- 47\n",
      "38 -- 47\n",
      "39 -- 45\n",
      "40 -- 45\n",
      "41 -- 46\n",
      "42 -- 48\n",
      "43 -- 48\n",
      "44 -- 46\n",
      "45 -- 45\n",
      "46 -- 48\n",
      "47 -- 45\n",
      "48 -- 45\n",
      "49 -- 47\n",
      "50 -- 46\n",
      "51 -- 48\n",
      "52 -- 45\n",
      "53 -- 48\n",
      "54 -- 46\n",
      "55 -- 48\n",
      "56 -- 45\n",
      "57 -- 48\n",
      "58 -- 45\n",
      "59 -- 46\n",
      "60 -- 45\n",
      "61 -- 48\n",
      "62 -- 46\n",
      "63 -- 47\n",
      "64 -- 45\n",
      "65 -- 46\n",
      "66 -- 47\n",
      "67 -- 47\n",
      "68 -- 45\n",
      "69 -- 48\n",
      "70 -- 47\n",
      "71 -- 46\n",
      "72 -- 47\n",
      "73 -- 46\n",
      "74 -- 47\n",
      "75 -- 48\n",
      "76 -- 46\n",
      "77 -- 46\n",
      "78 -- 47\n",
      "79 -- 47\n",
      "80 -- 45\n",
      "81 -- 47\n",
      "82 -- 33\n",
      "83 -- 35\n",
      "84 -- 34\n",
      "85 -- 35\n",
      "86 -- 36\n",
      "87 -- 35\n",
      "88 -- 33\n",
      "89 -- 36\n",
      "90 -- 35\n",
      "91 -- 35\n",
      "92 -- 34\n",
      "93 -- 33\n",
      "94 -- 36\n",
      "95 -- 36\n",
      "96 -- 34\n",
      "97 -- 33\n",
      "98 -- 34\n",
      "99 -- 36\n",
      "100 -- 34\n",
      "101 -- 36\n",
      "102 -- 36\n",
      "103 -- 33\n",
      "104 -- 34\n",
      "105 -- 36\n",
      "106 -- 33\n",
      "107 -- 36\n",
      "108 -- 33\n",
      "109 -- 36\n",
      "110 -- 33\n",
      "111 -- 35\n",
      "112 -- 33\n",
      "113 -- 35\n",
      "114 -- 33\n",
      "115 -- 33\n",
      "116 -- 35\n",
      "117 -- 36\n",
      "118 -- 33\n",
      "119 -- 33\n",
      "120 -- 34\n",
      "121 -- 35\n",
      "122 -- 35\n",
      "123 -- 35\n",
      "124 -- 33\n",
      "125 -- 36\n",
      "126 -- 34\n",
      "127 -- 35\n",
      "128 -- 34\n",
      "129 -- 34\n",
      "130 -- 36\n",
      "131 -- 34\n",
      "132 -- 35\n",
      "133 -- 34\n",
      "134 -- 35\n",
      "135 -- 35\n",
      "136 -- 34\n",
      "137 -- 33\n",
      "138 -- 34\n",
      "139 -- 35\n",
      "140 -- 35\n",
      "141 -- 36\n",
      "142 -- 35\n",
      "143 -- 35\n",
      "144 -- 35\n",
      "145 -- 34\n",
      "146 -- 36\n",
      "147 -- 35\n",
      "148 -- 36\n",
      "149 -- 33\n",
      "150 -- 36\n",
      "151 -- 34\n",
      "152 -- 34\n",
      "153 -- 35\n",
      "154 -- 34\n",
      "155 -- 36\n",
      "156 -- 34\n",
      "157 -- 34\n",
      "158 -- 36\n",
      "159 -- 34\n",
      "160 -- 36\n",
      "161 -- 34\n",
      "162 -- 35\n",
      "163 -- 33\n",
      "164 -- 33\n",
      "165 -- 35\n",
      "166 -- 34\n",
      "167 -- 36\n",
      "168 -- 36\n",
      "169 -- 35\n",
      "170 -- 36\n",
      "171 -- 33\n",
      "172 -- 35\n",
      "173 -- 34\n",
      "174 -- 34\n",
      "175 -- 35\n",
      "176 -- 36\n",
      "177 -- 36\n",
      "178 -- 36\n",
      "179 -- 34\n",
      "180 -- 35\n",
      "181 -- 34\n",
      "182 -- 35\n",
      "183 -- 33\n",
      "184 -- 33\n",
      "185 -- 33\n",
      "186 -- 34\n",
      "187 -- 33\n",
      "188 -- 34\n",
      "189 -- 35\n",
      "190 -- 34\n",
      "191 -- 24\n",
      "192 -- 19\n",
      "193 -- 15\n",
      "194 -- 18\n",
      "195 -- 20\n",
      "196 -- 22\n",
      "197 -- 15\n",
      "198 -- 22\n",
      "199 -- 20\n",
      "200 -- 19\n",
      "201 -- 24\n",
      "202 -- 22\n",
      "203 -- 16\n",
      "204 -- 23\n",
      "205 -- 22\n",
      "206 -- 23\n",
      "207 -- 21\n",
      "208 -- 24\n",
      "209 -- 24\n",
      "210 -- 19\n",
      "211 -- 24\n",
      "212 -- 29\n",
      "213 -- 32\n",
      "214 -- 32\n",
      "215 -- 32\n",
      "216 -- 30\n",
      "217 -- 29\n",
      "218 -- 31\n",
      "219 -- 32\n",
      "220 -- 30\n",
      "221 -- 31\n",
      "222 -- 30\n",
      "223 -- 32\n",
      "224 -- 32\n",
      "225 -- 32\n",
      "226 -- 30\n",
      "227 -- 30\n",
      "228 -- 29\n",
      "229 -- 31\n",
      "230 -- 32\n",
      "231 -- 30\n",
      "232 -- 32\n",
      "233 -- 31\n",
      "234 -- 31\n",
      "235 -- 30\n",
      "236 -- 32\n",
      "237 -- 31\n",
      "238 -- 30\n",
      "239 -- 32\n",
      "240 -- 30\n",
      "241 -- 29\n",
      "242 -- 30\n",
      "243 -- 31\n",
      "244 -- 31\n",
      "245 -- 29\n",
      "246 -- 31\n",
      "247 -- 31\n",
      "248 -- 30\n",
      "249 -- 29\n",
      "250 -- 31\n",
      "251 -- 32\n",
      "252 -- 30\n",
      "253 -- 32\n",
      "254 -- 30\n",
      "255 -- 32\n",
      "256 -- 30\n",
      "257 -- 29\n",
      "258 -- 31\n",
      "259 -- 32\n",
      "260 -- 32\n",
      "261 -- 29\n",
      "262 -- 29\n",
      "263 -- 29\n",
      "264 -- 29\n",
      "265 -- 29\n",
      "266 -- 29\n",
      "267 -- 32\n",
      "268 -- 29\n",
      "269 -- 31\n",
      "270 -- 32\n",
      "271 -- 30\n",
      "272 -- 29\n",
      "273 -- 32\n",
      "274 -- 30\n",
      "275 -- 29\n",
      "276 -- 32\n",
      "277 -- 29\n",
      "278 -- 29\n",
      "279 -- 29\n",
      "280 -- 64\n",
      "281 -- 61\n",
      "282 -- 61\n",
      "283 -- 64\n",
      "284 -- 64\n",
      "285 -- 61\n",
      "286 -- 61\n",
      "287 -- 64\n",
      "288 -- 64\n",
      "289 -- 62\n",
      "290 -- 61\n",
      "291 -- 64\n",
      "292 -- 61\n",
      "293 -- 64\n",
      "294 -- 62\n",
      "295 -- 61\n",
      "296 -- 64\n",
      "297 -- 63\n",
      "298 -- 64\n",
      "299 -- 61\n",
      "300 -- 63\n",
      "301 -- 64\n",
      "302 -- 63\n",
      "303 -- 64\n",
      "304 -- 61\n",
      "305 -- 63\n",
      "306 -- 63\n",
      "307 -- 61\n",
      "308 -- 61\n",
      "309 -- 62\n",
      "310 -- 63\n",
      "311 -- 61\n",
      "312 -- 64\n",
      "313 -- 62\n",
      "314 -- 59\n",
      "315 -- 59\n",
      "316 -- 57\n",
      "317 -- 60\n",
      "318 -- 60\n",
      "319 -- 60\n",
      "320 -- 60\n",
      "321 -- 58\n",
      "322 -- 60\n",
      "323 -- 58\n",
      "324 -- 59\n",
      "325 -- 59\n",
      "326 -- 59\n",
      "327 -- 57\n",
      "328 -- 59\n",
      "329 -- 58\n",
      "330 -- 57\n",
      "331 -- 58\n",
      "332 -- 57\n",
      "333 -- 57\n",
      "334 -- 58\n",
      "335 -- 60\n",
      "336 -- 57\n",
      "337 -- 59\n",
      "338 -- 58\n",
      "339 -- 57\n",
      "340 -- 59\n",
      "341 -- 59\n",
      "342 -- 59\n",
      "343 -- 58\n",
      "344 -- 57\n",
      "345 -- 59\n",
      "346 -- 59\n",
      "347 -- 57\n",
      "348 -- 57\n",
      "349 -- 59\n",
      "350 -- 58\n",
      "351 -- 57\n",
      "352 -- 57\n",
      "353 -- 60\n",
      "354 -- 57\n",
      "355 -- 58\n",
      "356 -- 59\n",
      "357 -- 57\n",
      "358 -- 60\n",
      "359 -- 60\n",
      "360 -- 58\n",
      "361 -- 59\n",
      "362 -- 59\n",
      "363 -- 57\n",
      "364 -- 58\n",
      "365 -- 59\n",
      "366 -- 57\n",
      "367 -- 75\n",
      "368 -- 35\n",
      "369 -- 36\n",
      "370 -- 34\n",
      "371 -- 35\n",
      "372 -- 35\n",
      "373 -- 33\n",
      "374 -- 35\n",
      "375 -- 35\n",
      "376 -- 36\n",
      "377 -- 35\n",
      "378 -- 25\n",
      "379 -- 26\n",
      "380 -- 26\n",
      "381 -- 28\n",
      "382 -- 28\n",
      "383 -- 28\n",
      "384 -- 27\n",
      "385 -- 27\n",
      "386 -- 25\n",
      "387 -- 27\n",
      "388 -- 27\n",
      "389 -- 27\n",
      "390 -- 28\n",
      "391 -- 27\n",
      "392 -- 28\n",
      "393 -- 26\n",
      "394 -- 27\n",
      "395 -- 28\n",
      "396 -- 28\n",
      "397 -- 28\n",
      "398 -- 28\n",
      "399 -- 28\n",
      "400 -- 25\n",
      "401 -- 26\n",
      "402 -- 28\n",
      "403 -- 28\n",
      "404 -- 26\n",
      "405 -- 26\n"
     ]
    }
   ],
   "source": [
    "for idx, mol in enumerate(valid_mols):\n",
    "    print(f\"{idx} -- {mol.GetNumAtoms()}\")"
   ]
  },
  {
   "cell_type": "code",
   "execution_count": null,
   "metadata": {},
   "outputs": [],
   "source": []
  }
 ],
 "metadata": {
  "kernelspec": {
   "display_name": "fegnn",
   "language": "python",
   "name": "python3"
  },
  "language_info": {
   "codemirror_mode": {
    "name": "ipython",
    "version": 3
   },
   "file_extension": ".py",
   "mimetype": "text/x-python",
   "name": "python",
   "nbconvert_exporter": "python",
   "pygments_lexer": "ipython3",
   "version": "3.11.8"
  },
  "orig_nbformat": 4
 },
 "nbformat": 4,
 "nbformat_minor": 2
}
